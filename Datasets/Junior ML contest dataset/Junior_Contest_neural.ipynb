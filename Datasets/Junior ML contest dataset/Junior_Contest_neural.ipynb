{
 "cells": [
  {
   "cell_type": "markdown",
   "metadata": {
    "datalore": {
     "hide_input_from_viewers": false,
     "hide_output_from_viewers": false,
     "type": "MD"
    },
    "pycharm": {
     "name": "#%% md\n"
    }
   },
   "source": [
    "# Junior ML contest"
   ]
  },
  {
   "cell_type": "code",
   "execution_count": 1,
   "metadata": {
    "datalore": {
     "hide_input_from_viewers": false,
     "hide_output_from_viewers": false,
     "type": "CODE"
    },
    "pycharm": {
     "name": "#%%\n"
    }
   },
   "outputs": [],
   "source": [
    "import numpy as np\n",
    "import pandas as pd\n",
    "\n",
    "# import seaborn as sns\n",
    "# import matplotlib.pyplot as plt\n",
    "\n",
    "from sklearn.tree import  DecisionTreeClassifier\n",
    "from sklearn.ensemble import RandomForestClassifier\n",
    "from sklearn.metrics import f1_score\n",
    "\n",
    "import torch\n",
    "\n",
    "comp_students = pd.read_csv(\"comp_students.csv\")\n",
    "comp_portrait = pd.read_csv(\"comp_portrait.csv\")\n",
    "comp_marks = pd.read_csv(\"comp_marks.csv\")\n",
    "comp_disc = pd.read_csv(\"comp_disc.csv\")\n",
    "train = pd.read_csv(\"train (1).csv\")\n",
    "comp_teachers = pd.read_csv(\"comp_teachers.csv\")\n",
    "test = pd.read_csv(\"test (1).csv\")\n",
    "sample_submission = pd.read_csv(\"sample_submission (1).csv\")"
   ]
  },
  {
   "cell_type": "markdown",
   "metadata": {
    "datalore": {
     "hide_input_from_viewers": false,
     "hide_output_from_viewers": false,
     "type": "MD"
    },
    "pycharm": {
     "name": "#%% md\n"
    }
   },
   "source": [
    "## EDA"
   ]
  },
  {
   "cell_type": "markdown",
   "source": [
    "## Make data for model training"
   ],
   "metadata": {
    "collapsed": false,
    "pycharm": {
     "name": "#%% md\n"
    }
   }
  },
  {
   "cell_type": "code",
   "execution_count": 2,
   "outputs": [
    {
     "data": {
      "text/plain": "                      SEMESTER\nDISC_ID                       \n5431184050471578           2.0\n6947608674753041           3.0\n10928733136090636          6.0\n13187948132681189          2.0\n18938951954663142          2.0\n...                        ...\n18423222245760976082       2.0\n18423613269743954405       3.0\n18431371490397109397       6.0\n18437705586629069983       2.0\n18446365376079976954       3.0\n\n[4673 rows x 1 columns]",
      "text/html": "<div>\n<style scoped>\n    .dataframe tbody tr th:only-of-type {\n        vertical-align: middle;\n    }\n\n    .dataframe tbody tr th {\n        vertical-align: top;\n    }\n\n    .dataframe thead th {\n        text-align: right;\n    }\n</style>\n<table border=\"1\" class=\"dataframe\">\n  <thead>\n    <tr style=\"text-align: right;\">\n      <th></th>\n      <th>SEMESTER</th>\n    </tr>\n    <tr>\n      <th>DISC_ID</th>\n      <th></th>\n    </tr>\n  </thead>\n  <tbody>\n    <tr>\n      <th>5431184050471578</th>\n      <td>2.0</td>\n    </tr>\n    <tr>\n      <th>6947608674753041</th>\n      <td>3.0</td>\n    </tr>\n    <tr>\n      <th>10928733136090636</th>\n      <td>6.0</td>\n    </tr>\n    <tr>\n      <th>13187948132681189</th>\n      <td>2.0</td>\n    </tr>\n    <tr>\n      <th>18938951954663142</th>\n      <td>2.0</td>\n    </tr>\n    <tr>\n      <th>...</th>\n      <td>...</td>\n    </tr>\n    <tr>\n      <th>18423222245760976082</th>\n      <td>2.0</td>\n    </tr>\n    <tr>\n      <th>18423613269743954405</th>\n      <td>3.0</td>\n    </tr>\n    <tr>\n      <th>18431371490397109397</th>\n      <td>6.0</td>\n    </tr>\n    <tr>\n      <th>18437705586629069983</th>\n      <td>2.0</td>\n    </tr>\n    <tr>\n      <th>18446365376079976954</th>\n      <td>3.0</td>\n    </tr>\n  </tbody>\n</table>\n<p>4673 rows × 1 columns</p>\n</div>"
     },
     "execution_count": 2,
     "metadata": {},
     "output_type": "execute_result"
    }
   ],
   "source": [
    "semester_of_disc = comp_disc[[\"DISC_ID\", \"SEMESTER\"]]\n",
    "semester_of_disc = semester_of_disc.groupby(\"DISC_ID\").min()\n",
    "semester_of_disc"
   ],
   "metadata": {
    "collapsed": false,
    "pycharm": {
     "name": "#%%\n"
    }
   }
  },
  {
   "cell_type": "code",
   "execution_count": 3,
   "outputs": [],
   "source": [
    "def erase_disc(row, piv_tab_cols):\n",
    "    # TODO проверить правильно ли оно работает\n",
    "    \"\"\"\n",
    "    Erase the mark for the same subject from the line with the subject\n",
    "    :param row: row of students_table\n",
    "    :param piv_tab_cols: name of columns pivot_table\n",
    "    :return:\n",
    "    \"\"\"\n",
    "    disc = row[\"DISC_ID\"]\n",
    "    if disc not in piv_tab_cols:\n",
    "        return row\n",
    "    row[disc] = 0\n",
    "    return row"
   ],
   "metadata": {
    "collapsed": false,
    "pycharm": {
     "name": "#%%\n"
    }
   }
  },
  {
   "cell_type": "code",
   "execution_count": 4,
   "outputs": [],
   "source": [
    "def erase_future_disc(row, piv_tab_cols, semesters):\n",
    "    cur_sem = row[\"SEMESTER\"]\n",
    "    disc_to_erase = piv_tab_cols[semesters >= cur_sem]\n",
    "    row[disc_to_erase] = 0\n",
    "    return row"
   ],
   "metadata": {
    "collapsed": false,
    "pycharm": {
     "name": "#%%\n"
    }
   }
  },
  {
   "cell_type": "code",
   "execution_count": 5,
   "metadata": {
    "datalore": {
     "hide_input_from_viewers": false,
     "hide_output_from_viewers": false,
     "type": "CODE"
    },
    "pycharm": {
     "name": "#%%\n"
    }
   },
   "outputs": [
    {
     "name": "stdout",
     "output_type": "stream",
     "text": [
      "(138,)\n",
      "******\n",
      "CPU times: total: 2min 36s\n",
      "Wall time: 2min 37s\n"
     ]
    },
    {
     "data": {
      "text/plain": "                         ISU               DISC_ID  DEBT  ADMITTED_EXAM_1  \\\n0       17623928044460629977  10502311854018326223     0             78.0   \n1       17623928044460629977   1601392918367593206     0             78.0   \n2       17623928044460629977   9559803959325174929     0             78.0   \n3       17623928044460629977   8955667882044263414     0             78.0   \n4       17623928044460629977  17741967398854095262     0             78.0   \n...                      ...                   ...   ...              ...   \n186439   4183409784835048954  11780410418462562766     0             70.0   \n186440   4183409784835048954   5390045268612005024     0             70.0   \n186441   4183409784835048954  13380346061330718296     0             70.0   \n186442   4183409784835048954   9075687484357010791     0             70.0   \n186443   4183409784835048954   9075687484357010791     0             70.0   \n\n        ADMITTED_EXAM_2  ADMITTED_EXAM_3  MARK     MAIN_PLAN       PRED_ID  \\\n0                  79.0             91.0     4  4.664713e+18  5.087927e+18   \n1                  79.0             91.0     4  4.664713e+18  5.087927e+18   \n2                  79.0             91.0     4  4.664713e+18  5.087927e+18   \n3                  79.0             91.0     4  4.664713e+18  5.087927e+18   \n4                  79.0             91.0     3  4.664713e+18  5.087927e+18   \n...                 ...              ...   ...           ...           ...   \n186439             64.0             91.0     0  0.000000e+00  0.000000e+00   \n186440             64.0             91.0     0  0.000000e+00  0.000000e+00   \n186441             64.0             91.0     0  0.000000e+00  0.000000e+00   \n186442             64.0             91.0     0  0.000000e+00  0.000000e+00   \n186443             64.0             91.0     0  0.000000e+00  0.000000e+00   \n\n        9028324525774925341  ...  TYPE_NAME_Дифференцированный зачет  \\\n0                       0.0  ...                                   0   \n1                       0.0  ...                                   0   \n2                       0.0  ...                                   0   \n3                       0.0  ...                                   0   \n4                       0.0  ...                                   0   \n...                     ...  ...                                 ...   \n186439                  0.0  ...                                   0   \n186440                  0.0  ...                                   0   \n186441                  0.0  ...                                   0   \n186442                  0.0  ...                                   0   \n186443                  0.0  ...                                   0   \n\n        TYPE_NAME_Зачет  TYPE_NAME_Курсовой проект  TYPE_NAME_Экзамен  \\\n0                     1                          0                  0   \n1                     1                          0                  0   \n2                     1                          0                  0   \n3                     1                          0                  0   \n4                     0                          0                  1   \n...                 ...                        ...                ...   \n186439                1                          0                  0   \n186440                1                          0                  0   \n186441                1                          0                  0   \n186442                1                          0                  0   \n186443                1                          0                  0   \n\n        ADMITTED_SUBJECT_PRIZE_LEVEL_0.0  ADMITTED_SUBJECT_PRIZE_LEVEL_1.0  \\\n0                                      0                                 0   \n1                                      0                                 0   \n2                                      0                                 0   \n3                                      0                                 0   \n4                                      0                                 0   \n...                                  ...                               ...   \n186439                                 0                                 0   \n186440                                 0                                 0   \n186441                                 0                                 0   \n186442                                 0                                 0   \n186443                                 0                                 0   \n\n        ADMITTED_SUBJECT_PRIZE_LEVEL_2.0  ADMITTED_SUBJECT_PRIZE_LEVEL_3.0  \\\n0                                      0                                 0   \n1                                      0                                 0   \n2                                      0                                 0   \n3                                      0                                 0   \n4                                      0                                 0   \n...                                  ...                               ...   \n186439                                 0                                 0   \n186440                                 0                                 0   \n186441                                 0                                 0   \n186442                                 0                                 0   \n186443                                 0                                 0   \n\n        ADMITTED_SUBJECT_PRIZE_LEVEL_4.0  ADMITTED_SUBJECT_PRIZE_LEVEL_ЕГЭ  \n0                                      0                                 1  \n1                                      0                                 1  \n2                                      0                                 1  \n3                                      0                                 1  \n4                                      0                                 1  \n...                                  ...                               ...  \n186439                                 0                                 1  \n186440                                 0                                 1  \n186441                                 0                                 1  \n186442                                 0                                 1  \n186443                                 0                                 1  \n\n[186444 rows x 287 columns]",
      "text/html": "<div>\n<style scoped>\n    .dataframe tbody tr th:only-of-type {\n        vertical-align: middle;\n    }\n\n    .dataframe tbody tr th {\n        vertical-align: top;\n    }\n\n    .dataframe thead th {\n        text-align: right;\n    }\n</style>\n<table border=\"1\" class=\"dataframe\">\n  <thead>\n    <tr style=\"text-align: right;\">\n      <th></th>\n      <th>ISU</th>\n      <th>DISC_ID</th>\n      <th>DEBT</th>\n      <th>ADMITTED_EXAM_1</th>\n      <th>ADMITTED_EXAM_2</th>\n      <th>ADMITTED_EXAM_3</th>\n      <th>MARK</th>\n      <th>MAIN_PLAN</th>\n      <th>PRED_ID</th>\n      <th>9028324525774925341</th>\n      <th>...</th>\n      <th>TYPE_NAME_Дифференцированный зачет</th>\n      <th>TYPE_NAME_Зачет</th>\n      <th>TYPE_NAME_Курсовой проект</th>\n      <th>TYPE_NAME_Экзамен</th>\n      <th>ADMITTED_SUBJECT_PRIZE_LEVEL_0.0</th>\n      <th>ADMITTED_SUBJECT_PRIZE_LEVEL_1.0</th>\n      <th>ADMITTED_SUBJECT_PRIZE_LEVEL_2.0</th>\n      <th>ADMITTED_SUBJECT_PRIZE_LEVEL_3.0</th>\n      <th>ADMITTED_SUBJECT_PRIZE_LEVEL_4.0</th>\n      <th>ADMITTED_SUBJECT_PRIZE_LEVEL_ЕГЭ</th>\n    </tr>\n  </thead>\n  <tbody>\n    <tr>\n      <th>0</th>\n      <td>17623928044460629977</td>\n      <td>10502311854018326223</td>\n      <td>0</td>\n      <td>78.0</td>\n      <td>79.0</td>\n      <td>91.0</td>\n      <td>4</td>\n      <td>4.664713e+18</td>\n      <td>5.087927e+18</td>\n      <td>0.0</td>\n      <td>...</td>\n      <td>0</td>\n      <td>1</td>\n      <td>0</td>\n      <td>0</td>\n      <td>0</td>\n      <td>0</td>\n      <td>0</td>\n      <td>0</td>\n      <td>0</td>\n      <td>1</td>\n    </tr>\n    <tr>\n      <th>1</th>\n      <td>17623928044460629977</td>\n      <td>1601392918367593206</td>\n      <td>0</td>\n      <td>78.0</td>\n      <td>79.0</td>\n      <td>91.0</td>\n      <td>4</td>\n      <td>4.664713e+18</td>\n      <td>5.087927e+18</td>\n      <td>0.0</td>\n      <td>...</td>\n      <td>0</td>\n      <td>1</td>\n      <td>0</td>\n      <td>0</td>\n      <td>0</td>\n      <td>0</td>\n      <td>0</td>\n      <td>0</td>\n      <td>0</td>\n      <td>1</td>\n    </tr>\n    <tr>\n      <th>2</th>\n      <td>17623928044460629977</td>\n      <td>9559803959325174929</td>\n      <td>0</td>\n      <td>78.0</td>\n      <td>79.0</td>\n      <td>91.0</td>\n      <td>4</td>\n      <td>4.664713e+18</td>\n      <td>5.087927e+18</td>\n      <td>0.0</td>\n      <td>...</td>\n      <td>0</td>\n      <td>1</td>\n      <td>0</td>\n      <td>0</td>\n      <td>0</td>\n      <td>0</td>\n      <td>0</td>\n      <td>0</td>\n      <td>0</td>\n      <td>1</td>\n    </tr>\n    <tr>\n      <th>3</th>\n      <td>17623928044460629977</td>\n      <td>8955667882044263414</td>\n      <td>0</td>\n      <td>78.0</td>\n      <td>79.0</td>\n      <td>91.0</td>\n      <td>4</td>\n      <td>4.664713e+18</td>\n      <td>5.087927e+18</td>\n      <td>0.0</td>\n      <td>...</td>\n      <td>0</td>\n      <td>1</td>\n      <td>0</td>\n      <td>0</td>\n      <td>0</td>\n      <td>0</td>\n      <td>0</td>\n      <td>0</td>\n      <td>0</td>\n      <td>1</td>\n    </tr>\n    <tr>\n      <th>4</th>\n      <td>17623928044460629977</td>\n      <td>17741967398854095262</td>\n      <td>0</td>\n      <td>78.0</td>\n      <td>79.0</td>\n      <td>91.0</td>\n      <td>3</td>\n      <td>4.664713e+18</td>\n      <td>5.087927e+18</td>\n      <td>0.0</td>\n      <td>...</td>\n      <td>0</td>\n      <td>0</td>\n      <td>0</td>\n      <td>1</td>\n      <td>0</td>\n      <td>0</td>\n      <td>0</td>\n      <td>0</td>\n      <td>0</td>\n      <td>1</td>\n    </tr>\n    <tr>\n      <th>...</th>\n      <td>...</td>\n      <td>...</td>\n      <td>...</td>\n      <td>...</td>\n      <td>...</td>\n      <td>...</td>\n      <td>...</td>\n      <td>...</td>\n      <td>...</td>\n      <td>...</td>\n      <td>...</td>\n      <td>...</td>\n      <td>...</td>\n      <td>...</td>\n      <td>...</td>\n      <td>...</td>\n      <td>...</td>\n      <td>...</td>\n      <td>...</td>\n      <td>...</td>\n      <td>...</td>\n    </tr>\n    <tr>\n      <th>186439</th>\n      <td>4183409784835048954</td>\n      <td>11780410418462562766</td>\n      <td>0</td>\n      <td>70.0</td>\n      <td>64.0</td>\n      <td>91.0</td>\n      <td>0</td>\n      <td>0.000000e+00</td>\n      <td>0.000000e+00</td>\n      <td>0.0</td>\n      <td>...</td>\n      <td>0</td>\n      <td>1</td>\n      <td>0</td>\n      <td>0</td>\n      <td>0</td>\n      <td>0</td>\n      <td>0</td>\n      <td>0</td>\n      <td>0</td>\n      <td>1</td>\n    </tr>\n    <tr>\n      <th>186440</th>\n      <td>4183409784835048954</td>\n      <td>5390045268612005024</td>\n      <td>0</td>\n      <td>70.0</td>\n      <td>64.0</td>\n      <td>91.0</td>\n      <td>0</td>\n      <td>0.000000e+00</td>\n      <td>0.000000e+00</td>\n      <td>0.0</td>\n      <td>...</td>\n      <td>0</td>\n      <td>1</td>\n      <td>0</td>\n      <td>0</td>\n      <td>0</td>\n      <td>0</td>\n      <td>0</td>\n      <td>0</td>\n      <td>0</td>\n      <td>1</td>\n    </tr>\n    <tr>\n      <th>186441</th>\n      <td>4183409784835048954</td>\n      <td>13380346061330718296</td>\n      <td>0</td>\n      <td>70.0</td>\n      <td>64.0</td>\n      <td>91.0</td>\n      <td>0</td>\n      <td>0.000000e+00</td>\n      <td>0.000000e+00</td>\n      <td>0.0</td>\n      <td>...</td>\n      <td>0</td>\n      <td>1</td>\n      <td>0</td>\n      <td>0</td>\n      <td>0</td>\n      <td>0</td>\n      <td>0</td>\n      <td>0</td>\n      <td>0</td>\n      <td>1</td>\n    </tr>\n    <tr>\n      <th>186442</th>\n      <td>4183409784835048954</td>\n      <td>9075687484357010791</td>\n      <td>0</td>\n      <td>70.0</td>\n      <td>64.0</td>\n      <td>91.0</td>\n      <td>0</td>\n      <td>0.000000e+00</td>\n      <td>0.000000e+00</td>\n      <td>0.0</td>\n      <td>...</td>\n      <td>0</td>\n      <td>1</td>\n      <td>0</td>\n      <td>0</td>\n      <td>0</td>\n      <td>0</td>\n      <td>0</td>\n      <td>0</td>\n      <td>0</td>\n      <td>1</td>\n    </tr>\n    <tr>\n      <th>186443</th>\n      <td>4183409784835048954</td>\n      <td>9075687484357010791</td>\n      <td>0</td>\n      <td>70.0</td>\n      <td>64.0</td>\n      <td>91.0</td>\n      <td>0</td>\n      <td>0.000000e+00</td>\n      <td>0.000000e+00</td>\n      <td>0.0</td>\n      <td>...</td>\n      <td>0</td>\n      <td>1</td>\n      <td>0</td>\n      <td>0</td>\n      <td>0</td>\n      <td>0</td>\n      <td>0</td>\n      <td>0</td>\n      <td>0</td>\n      <td>1</td>\n    </tr>\n  </tbody>\n</table>\n<p>186444 rows × 287 columns</p>\n</div>"
     },
     "execution_count": 5,
     "metadata": {},
     "output_type": "execute_result"
    }
   ],
   "source": [
    "%%time\n",
    "# students_table = pd.merge(comp_portrait, comp_marks, how=\"outer\")\n",
    "students_table = pd.merge(train, comp_portrait, how=\"inner\", on=\"ISU\")\n",
    "students_table = pd.merge(students_table, comp_marks, how=\"left\", on=[\"ISU\", \"DISC_ID\", \"SEMESTER\", \"ST_YEAR\", \"TYPE_NAME\"])\n",
    "# deal with nan\n",
    "for col in [\"ADMITTED_EXAM_1\", \"ADMITTED_EXAM_2\", \"ADMITTED_EXAM_3\"]:\n",
    "    students_table[col].fillna(students_table[col].mean(), inplace=True)\n",
    "students_table[[\"MARK\", \"PRED_ID\", \"MAIN_PLAN\"]] = students_table[[\"MARK\", \"PRED_ID\", \"MAIN_PLAN\"]].fillna(0)\n",
    "# print(students_table.info())\n",
    "# adding information about other disciplines\n",
    "count_disc = students_table.groupby(by=\"DISC_ID\", ).count()[\"ISU\"].sort_values(ascending=False)\n",
    "dics_to_add_to_students_table = count_disc[count_disc > 300].index\n",
    "students_table[\"MARK\"].replace([\"незач\", \"неявка\"], \"2\", inplace=True)\n",
    "students_table[\"MARK\"].replace([\"зачет\", \"осв\"], \"4\", inplace=True)\n",
    "students_table[\"MARK\"] = students_table[\"MARK\"].astype(\"int\")\n",
    "p_t = pd.pivot_table(students_table, values=\"MARK\", index=\"ISU\", columns=\"DISC_ID\", aggfunc=np.mean)\n",
    "p_t = p_t[dics_to_add_to_students_table]\n",
    "p_t.fillna(0, inplace=True)\n",
    "students_table = pd.merge(students_table, p_t, how=\"outer\", on=\"ISU\")\n",
    "\n",
    "# Erase mark of DISC_ID\n",
    "# students_table = students_table.apply(erase_disc, axis=1, args=[p_t.columns])\n",
    "\n",
    "# Erase marks of future disciplines, regarding current DICS_ID\n",
    "semesters_of_each_disc = semester_of_disc[semester_of_disc.index.isin(p_t.columns)][\"SEMESTER\"]\n",
    "print(semesters_of_each_disc.shape)\n",
    "students_table = students_table.apply(erase_future_disc, axis=1, args=[p_t.columns, semesters_of_each_disc])\n",
    "\n",
    "# make category\n",
    "categorical_columns = [\"CITIZENSHIP\", \"GENDER\", \"EXAM_TYPE\", \"EXAM_SUBJECT_1\", \"EXAM_SUBJECT_2\", \"EXAM_SUBJECT_3\",\n",
    "                       \"REGION_ID\", \"ST_YEAR\", \"SEMESTER\", \"TYPE_NAME\", \"ADMITTED_SUBJECT_PRIZE_LEVEL\"]\n",
    "for col in categorical_columns:\n",
    "    students_table[col] = students_table[col].astype('category')\n",
    "dummies = pd.get_dummies(students_table[categorical_columns], prefix=categorical_columns)\n",
    "students_table.drop(columns=categorical_columns, inplace=True)\n",
    "students_table = pd.concat([students_table, dummies], axis=\"columns\")\n",
    "# rename columns\n",
    "students_table.columns = [str(x_i) for x_i in students_table.columns]\n",
    "print(\"******\")\n",
    "students_table"
   ]
  },
  {
   "cell_type": "code",
   "execution_count": 6,
   "outputs": [
    {
     "data": {
      "text/plain": "(5095, 138)"
     },
     "execution_count": 6,
     "metadata": {},
     "output_type": "execute_result"
    }
   ],
   "source": [
    "p_t.shape"
   ],
   "metadata": {
    "collapsed": false,
    "pycharm": {
     "name": "#%%\n"
    }
   }
  },
  {
   "cell_type": "markdown",
   "metadata": {
    "datalore": {
     "hide_input_from_viewers": false,
     "hide_output_from_viewers": false,
     "type": "MD"
    },
    "pycharm": {
     "name": "#%% md\n"
    }
   },
   "source": [
    "## Check completeness of data"
   ]
  },
  {
   "cell_type": "code",
   "execution_count": 7,
   "outputs": [
    {
     "name": "stdout",
     "output_type": "stream",
     "text": [
      "[]\n",
      "CPU times: total: 10.3 s\n",
      "Wall time: 10.3 s\n"
     ]
    }
   ],
   "source": [
    "%%time\n",
    "errors = []\n",
    "for idx, row_ in students_table.iterrows():\n",
    "    disc = row_[\"DISC_ID\"]\n",
    "    if str(disc) in students_table.columns:\n",
    "        if students_table[str(disc)] != 0:\n",
    "           errors.append([idx, disc])\n",
    "print(errors)"
   ],
   "metadata": {
    "collapsed": false,
    "pycharm": {
     "name": "#%%\n"
    }
   }
  },
  {
   "cell_type": "code",
   "execution_count": 8,
   "metadata": {
    "datalore": {
     "hide_input_from_viewers": false,
     "hide_output_from_viewers": false,
     "type": "CODE"
    },
    "pycharm": {
     "name": "#%%\n"
    }
   },
   "outputs": [
    {
     "name": "stdout",
     "output_type": "stream",
     "text": [
      "True\n",
      "True\n",
      "True\n"
     ]
    }
   ],
   "source": [
    "print(test[\"ISU\"].isin(train[\"ISU\"]).value_counts().all())\n",
    "print(test[\"ISU\"].isin(students_table[\"ISU\"]).value_counts().all())\n",
    "print(students_table[\"ISU\"].isin(train[\"ISU\"]).value_counts().all())"
   ]
  },
  {
   "cell_type": "markdown",
   "metadata": {
    "datalore": {
     "hide_input_from_viewers": false,
     "hide_output_from_viewers": false,
     "type": "MD"
    },
    "pycharm": {
     "name": "#%% md\n"
    }
   },
   "source": [
    "## Making train/test data"
   ]
  },
  {
   "cell_type": "code",
   "execution_count": 9,
   "outputs": [
    {
     "name": "stdout",
     "output_type": "stream",
     "text": [
      "(154029, 282) (154029,)\n"
     ]
    }
   ],
   "source": [
    "data_x = students_table.drop(columns=[\"MAIN_PLAN\", \"PRED_ID\", \"ISU\", \"MARK\"])\n",
    "data_y = data_x[\"DEBT\"]\n",
    "data_x = data_x.drop(columns=[\"DEBT\"])\n",
    "\n",
    "indexes = np.arange(0, data_x.shape[0])\n",
    "np.random.shuffle(indexes)\n",
    "train_x = data_x.iloc[indexes, :]\n",
    "train_y = data_y.iloc[indexes]\n",
    "\n",
    "split_indexes = (train_x[\"ST_YEAR_2020\"] == 1) | (train_x[\"ST_YEAR_2019\"] == 1)\n",
    "# split_indexes = (train_x[\"ST_YEAR_2018\"] == 1) | (train_x[\"ST_YEAR_2019\"] == 1)\n",
    "# split_indexes = train_x[\"ST_YEAR_2020\"] == 1\n",
    "test_x = train_x[~split_indexes]\n",
    "test_y = train_y[~split_indexes]\n",
    "train_x = train_x[split_indexes]\n",
    "train_y = train_y[split_indexes]\n",
    "print(train_x.shape, train_y.shape)"
   ],
   "metadata": {
    "collapsed": false,
    "pycharm": {
     "name": "#%%\n"
    }
   }
  },
  {
   "cell_type": "code",
   "execution_count": 10,
   "outputs": [
    {
     "data": {
      "text/plain": "(147374, 6655)"
     },
     "execution_count": 10,
     "metadata": {},
     "output_type": "execute_result"
    }
   ],
   "source": [
    "# count of 0 class and 1 class\n",
    "(train_y.shape[0] - train_y.sum()), train_y.sum()"
   ],
   "metadata": {
    "collapsed": false,
    "pycharm": {
     "name": "#%%\n"
    }
   }
  },
  {
   "cell_type": "markdown",
   "source": [
    "## Baseline on Decision Tree"
   ],
   "metadata": {
    "collapsed": false,
    "pycharm": {
     "name": "#%% md\n"
    }
   }
  },
  {
   "cell_type": "code",
   "execution_count": 11,
   "metadata": {
    "datalore": {
     "hide_input_from_viewers": false,
     "hide_output_from_viewers": false,
     "type": "CODE"
    },
    "pycharm": {
     "name": "#%%\n"
    }
   },
   "outputs": [
    {
     "name": "stdout",
     "output_type": "stream",
     "text": [
      "train baseline metric 0.9868330923205724\n",
      "test baseline metric 0.272\n",
      "5315 62\n"
     ]
    }
   ],
   "source": [
    "baseline_decision_tree = DecisionTreeClassifier()\n",
    "baseline_decision_tree.fit(train_x, train_y)\n",
    "\n",
    "pred_y = baseline_decision_tree.predict(train_x)\n",
    "train_metric = f1_score(train_y, pred_y)\n",
    "print(\"train baseline metric\", train_metric)\n",
    "\n",
    "pred_y = baseline_decision_tree.predict(test_x)\n",
    "test_metric = f1_score(test_y, pred_y)\n",
    "print(\"test baseline metric\", test_metric)\n",
    "print(baseline_decision_tree.get_n_leaves(), baseline_decision_tree.get_depth())"
   ]
  },
  {
   "cell_type": "markdown",
   "source": [
    "## Train"
   ],
   "metadata": {
    "collapsed": false,
    "pycharm": {
     "name": "#%% md\n"
    }
   }
  },
  {
   "cell_type": "code",
   "execution_count": 12,
   "outputs": [],
   "source": [
    "device = torch.device(\"cuda\")\n",
    "torch.set_printoptions(sci_mode=False)"
   ],
   "metadata": {
    "collapsed": false,
    "pycharm": {
     "name": "#%%\n"
    }
   }
  },
  {
   "cell_type": "code",
   "execution_count": 13,
   "outputs": [],
   "source": [
    "import torchmetrics\n",
    "from torch.utils.data import DataLoader, TensorDataset\n",
    "\n",
    "\n",
    "class Network(torch.nn.Module):\n",
    "    def __init__(self, inp_shape):\n",
    "        super().__init__()\n",
    "        self.linear1 = torch.nn.Linear(inp_shape, 256)\n",
    "        self.linear2 = torch.nn.Linear(256, 256)\n",
    "        self.linear3 = torch.nn.Linear(256, 2)\n",
    "        self.ReLU = torch.nn.ReLU()\n",
    "        self.Sigmoid = torch.nn.Sigmoid()\n",
    "        self.SoftMax = torch.nn.Softmax(dim=-1)\n",
    "\n",
    "    def forward(self, x):\n",
    "        out = self.ReLU(self.linear1(x))\n",
    "        out = self.ReLU(self.linear2(out))\n",
    "        out = self.SoftMax(self.linear3(out))\n",
    "        return out\n",
    "\n",
    "    def predict(self, x):\n",
    "        return self(x)\n",
    "\n",
    "\n",
    "def fit(model, epochs, loss_func, opt, train_dl, test_dl):\n",
    "    f1_func = torchmetrics.F1(num_classes=2, average=\"macro\").to(device)\n",
    "    precision_recall = torchmetrics.functional.precision_recall\n",
    "    x_test, y_test = test_dl.dataset.tensors[0], test_dl.dataset.tensors[1]\n",
    "    for epoch in range(epochs):\n",
    "        for x, y in train_dl:\n",
    "            y_predict = model(x)\n",
    "            loss = loss_func(y_predict, y)\n",
    "            opt.zero_grad()\n",
    "            loss.backward()\n",
    "            opt.step()\n",
    "        with torch.no_grad():\n",
    "            if epoch % 2 == 0:\n",
    "                y_predict = model(x_test)\n",
    "                f1 = round(f1_func(y_predict, y_test).item(), 3)\n",
    "                print(f\"train loss {round(loss.item(), 5)} test f1 {f1}\")\n",
    "                # print(f\"train loss {round(loss.item(), 5)}\")\n",
    "    with torch.no_grad():\n",
    "        y_predict = model(x_test)\n",
    "        f1 = f1_func(y_predict, y_test)\n",
    "        p_r = precision_recall(y_predict, y_test, average=\"macro\", num_classes=2)\n",
    "        print(f\"TEST RESULT:\\n\\tResult f1={round(f1.item(), 3)}\\n\\tprecision and recall={round(p_r[0].item(), 3), round(p_r[1].item(), 3)}\")\n",
    "    return model\n"
   ],
   "metadata": {
    "collapsed": false,
    "pycharm": {
     "name": "#%%\n"
    }
   }
  },
  {
   "cell_type": "code",
   "execution_count": 14,
   "outputs": [
    {
     "name": "stdout",
     "output_type": "stream",
     "text": [
      "torch.Size([154029, 1]) torch.Size([6]) torch.Size([282, 1])\n"
     ]
    }
   ],
   "source": [
    "U, S, V = torch.pca_lowrank(torch.tensor(train_x.to_numpy(), device=device))\n",
    "U_cut = torch.reshape(U[:, 0], (U.shape[0], 1))\n",
    "V_cut = torch.reshape(V[:, 0], (V.shape[0], 1))\n",
    "print(U_cut.shape, S.shape, V_cut.shape)"
   ],
   "metadata": {
    "collapsed": false,
    "pycharm": {
     "name": "#%%\n"
    }
   }
  },
  {
   "cell_type": "code",
   "execution_count": 15,
   "outputs": [
    {
     "name": "stdout",
     "output_type": "stream",
     "text": [
      "(146410, 282) (154029, 282)\n",
      "(282,)\n",
      "(300439, 282) (300439,)\n"
     ]
    },
    {
     "name": "stderr",
     "output_type": "stream",
     "text": [
      "C:\\Users\\Norma\\AppData\\Local\\Temp\\ipykernel_9380\\2757370389.py:20: RuntimeWarning: invalid value encountered in true_divide\n",
      "  normal_train_x = (normal_train_x - np.mean(normal_train_x, axis=0)) / np.std(normal_train_x, axis=0)\n"
     ]
    }
   ],
   "source": [
    "f1_func = torchmetrics.F1(num_classes=2, average=\"macro\").to(device)\n",
    "\n",
    "\n",
    "# deal with imbalance of data\n",
    "koef_of_imbalance = (train_y.shape[0] - train_y.sum()) // train_y.sum()\n",
    "minority_class = train_x.loc[train_y == 1, :]\n",
    "minority_class = pd.concat([minority_class] * koef_of_imbalance, axis=0)\n",
    "print(minority_class.shape, train_x.shape)\n",
    "balanced_train_x = pd.concat([train_x, minority_class], axis=0)\n",
    "balanced_train_y = pd.concat([train_y, pd.Series([1] * minority_class.shape[0])], axis=0)\n",
    "\n",
    "indexes = np.arange(0, balanced_train_x.shape[0])\n",
    "np.random.shuffle(indexes)\n",
    "balanced_train_x = balanced_train_x.iloc[indexes, :]\n",
    "balanced_train_y = balanced_train_y.iloc[indexes]\n",
    "\n",
    "# normalization\n",
    "normal_train_x = balanced_train_x.to_numpy()\n",
    "print(np.mean(normal_train_x, axis=0).shape)\n",
    "normal_train_x = (normal_train_x - np.mean(normal_train_x, axis=0)) / np.std(normal_train_x, axis=0)\n",
    "\n",
    "print(balanced_train_x.shape, balanced_train_y.shape)\n"
   ],
   "metadata": {
    "collapsed": false,
    "pycharm": {
     "name": "#%%\n"
    }
   }
  },
  {
   "cell_type": "code",
   "execution_count": 16,
   "outputs": [
    {
     "data": {
      "text/plain": "(153065, 147374)"
     },
     "execution_count": 16,
     "metadata": {},
     "output_type": "execute_result"
    }
   ],
   "source": [
    "balanced_train_y[balanced_train_y == 1].shape[0], balanced_train_y[balanced_train_y == 0].shape[0]"
   ],
   "metadata": {
    "collapsed": false,
    "pycharm": {
     "name": "#%%\n"
    }
   }
  },
  {
   "cell_type": "code",
   "execution_count": 17,
   "outputs": [],
   "source": [
    "train_dataset = TensorDataset(torch.tensor(normal_train_x, device=device), torch.tensor(balanced_train_y.to_numpy(), device=device))\n",
    "# train_dataset = TensorDataset(torch.tensor(normal_train_x, device=device), torch.tensor(train_y.to_numpy(), device=device))\n",
    "test_dataset = TensorDataset(torch.tensor(test_x.to_numpy(), device=device), torch.tensor(test_y.to_numpy(), device=device))\n",
    "train_data_loader = DataLoader(train_dataset, batch_size=256, shuffle=True)\n",
    "test_data_loader = DataLoader(test_dataset, batch_size=test_x.shape[0], shuffle=True)"
   ],
   "metadata": {
    "collapsed": false,
    "pycharm": {
     "name": "#%%\n"
    }
   }
  },
  {
   "cell_type": "code",
   "execution_count": 18,
   "outputs": [
    {
     "name": "stdout",
     "output_type": "stream",
     "text": [
      "train loss nan test f1 0.485\n",
      "train loss nan test f1 0.485\n",
      "train loss nan test f1 0.485\n",
      "train loss nan test f1 0.485\n",
      "train loss nan test f1 0.485\n",
      "TEST RESULT:\n",
      "\tResult f1=0.485\n",
      "\tprecision and recall=(0.471, 0.5)\n"
     ]
    },
    {
     "name": "stderr",
     "output_type": "stream",
     "text": [
      "C:\\Users\\Norma\\AppData\\Local\\Temp\\ipykernel_9380\\3449417452.py:15: UserWarning: To copy construct from a tensor, it is recommended to use sourceTensor.clone().detach() or sourceTensor.clone().detach().requires_grad_(True), rather than torch.tensor(sourceTensor).\n",
      "  train_metric = f1_func(pred_y, torch.tensor(train_data_loader.dataset.tensors[1], dtype=torch.int32))\n"
     ]
    },
    {
     "name": "stdout",
     "output_type": "stream",
     "text": [
      "train_metric tensor(0.3291, device='cuda:0')\n"
     ]
    }
   ],
   "source": [
    "model = Network(train_x.shape[1]).to(device=device, dtype=torch.double)\n",
    "# loss_function = torch.nn.CrossEntropyLoss(weight=torch.tensor([0.1, 0.9], device=device, dtype=torch.double))\n",
    "loss_function = torch.nn.CrossEntropyLoss()\n",
    "optimizer = torch.optim.Adam(params=model.parameters(), lr=0.1, weight_decay=0.01)\n",
    "\n",
    "epochs = 10\n",
    "# TODO ПРОВЕРИТЬ ДАТАСЕТ НА ЁБНУТОСТЬ. ПОЧЕМУ ВСЁ ВРЕМЯ ОДНО ЗНАЧЕНИЕ, НО ОТ 0, ТО 1?\n",
    "model = fit(model, epochs, loss_function, optimizer, train_data_loader, test_data_loader)\n",
    "\n",
    "# pred_y = model(test_data_loader.dataset.tensors[0])\n",
    "# test_metric = f1_func(pred_y, torch.tensor(test_data_loader.dataset.tensors[1], dtype=torch.int32))\n",
    "# print(\"test_metric\", test_metric)\n",
    "\n",
    "pred_y = model(train_data_loader.dataset.tensors[0])\n",
    "train_metric = f1_func(pred_y, torch.tensor(train_data_loader.dataset.tensors[1], dtype=torch.int32))\n",
    "print(\"train_metric\", train_metric)"
   ],
   "metadata": {
    "collapsed": false,
    "pycharm": {
     "name": "#%%\n"
    }
   }
  },
  {
   "cell_type": "code",
   "execution_count": 19,
   "outputs": [],
   "source": [
    "torch.cuda.empty_cache()"
   ],
   "metadata": {
    "collapsed": false,
    "pycharm": {
     "name": "#%%\n"
    }
   }
  },
  {
   "cell_type": "code",
   "execution_count": 20,
   "outputs": [
    {
     "data": {
      "text/plain": "(tensor(nan, device='cuda:0', dtype=torch.float64, grad_fn=<MaxBackward1>),\n tensor(nan, device='cuda:0', dtype=torch.float64, grad_fn=<MinBackward1>))"
     },
     "execution_count": 20,
     "metadata": {},
     "output_type": "execute_result"
    }
   ],
   "source": [
    "torch.max(pred_y[:, 1]), torch.min(pred_y[:, 1])"
   ],
   "metadata": {
    "collapsed": false,
    "pycharm": {
     "name": "#%%\n"
    }
   }
  },
  {
   "cell_type": "code",
   "execution_count": 21,
   "outputs": [
    {
     "data": {
      "text/plain": "tensor(0, device='cuda:0')"
     },
     "execution_count": 21,
     "metadata": {},
     "output_type": "execute_result"
    }
   ],
   "source": [
    "torch.argmax(pred_y, dim=1).sum()"
   ],
   "metadata": {
    "collapsed": false,
    "pycharm": {
     "name": "#%%\n"
    }
   }
  },
  {
   "cell_type": "code",
   "execution_count": 22,
   "outputs": [
    {
     "data": {
      "text/plain": "                    DISC_ID  ADMITTED_EXAM_1  ADMITTED_EXAM_2  \\\n0        552619236026332123        78.000000        83.000000   \n1       5702509582319458883        78.000000        83.000000   \n2       7735626259430674628        78.000000        83.000000   \n3       8955667882044263414        78.000000        83.000000   \n4       9075687484357010791        78.000000        83.000000   \n...                     ...              ...              ...   \n30908   9075687484357010791        80.381229        82.389157   \n30909  11240958499619480192        80.381229        82.389157   \n30910  11511957009955804990        80.381229        82.389157   \n30911  11807846188624377660        80.381229        82.389157   \n30912  16952231586163840107        80.381229        82.389157   \n\n       ADMITTED_EXAM_3  9028324525774925341  7835846297793492094  \\\n0            87.000000                  0.0                  0.0   \n1            87.000000                  0.0                  0.0   \n2            87.000000                  0.0                  0.0   \n3            87.000000                  0.0                  0.0   \n4            87.000000                  0.0                  0.0   \n...                ...                  ...                  ...   \n30908        86.808098                  0.0                  4.0   \n30909        86.808098                  0.0                  4.0   \n30910        86.808098                  0.0                  4.0   \n30911        86.808098                  0.0                  4.0   \n30912        86.808098                  0.0                  4.0   \n\n       14433121874407032269  1601392918367593206  9848012366215097300  \\\n0                       0.0                  0.0                  0.0   \n1                       0.0                  0.0                  0.0   \n2                       0.0                  0.0                  0.0   \n3                       0.0                  0.0                  0.0   \n4                       0.0                  0.0                  0.0   \n...                     ...                  ...                  ...   \n30908                   0.0                  4.0                  4.0   \n30909                   0.0                  4.0                  4.0   \n30910                   0.0                  4.0                  4.0   \n30911                   0.0                  4.0                  4.0   \n30912                   0.0                  4.0                  4.0   \n\n       8955667882044263414  ...  TYPE_NAME_Дифференцированный зачет  \\\n0                      0.0  ...                                   0   \n1                      0.0  ...                                   0   \n2                      0.0  ...                                   0   \n3                      0.0  ...                                   0   \n4                      0.0  ...                                   0   \n...                    ...  ...                                 ...   \n30908                  0.0  ...                                   0   \n30909                  0.0  ...                                   0   \n30910                  0.0  ...                                   0   \n30911                  0.0  ...                                   0   \n30912                  0.0  ...                                   0   \n\n       TYPE_NAME_Зачет  TYPE_NAME_Курсовой проект  TYPE_NAME_Экзамен  \\\n0                    0                          0                  1   \n1                    0                          0                  1   \n2                    0                          0                  1   \n3                    0                          0                  1   \n4                    0                          0                  1   \n...                ...                        ...                ...   \n30908                0                          0                  1   \n30909                0                          0                  1   \n30910                0                          0                  1   \n30911                0                          0                  1   \n30912                0                          0                  1   \n\n       ADMITTED_SUBJECT_PRIZE_LEVEL_0.0  ADMITTED_SUBJECT_PRIZE_LEVEL_1.0  \\\n0                                     0                                 0   \n1                                     0                                 0   \n2                                     0                                 0   \n3                                     0                                 0   \n4                                     0                                 0   \n...                                 ...                               ...   \n30908                                 0                                 0   \n30909                                 0                                 0   \n30910                                 0                                 0   \n30911                                 0                                 0   \n30912                                 0                                 0   \n\n       ADMITTED_SUBJECT_PRIZE_LEVEL_2.0  ADMITTED_SUBJECT_PRIZE_LEVEL_3.0  \\\n0                                     0                                 0   \n1                                     0                                 0   \n2                                     0                                 0   \n3                                     0                                 0   \n4                                     0                                 0   \n...                                 ...                               ...   \n30908                                 1                                 0   \n30909                                 1                                 0   \n30910                                 1                                 0   \n30911                                 1                                 0   \n30912                                 1                                 0   \n\n       ADMITTED_SUBJECT_PRIZE_LEVEL_4.0  ADMITTED_SUBJECT_PRIZE_LEVEL_ЕГЭ  \n0                                     0                                 1  \n1                                     0                                 1  \n2                                     0                                 1  \n3                                     0                                 1  \n4                                     0                                 1  \n...                                 ...                               ...  \n30908                                 0                                 0  \n30909                                 0                                 0  \n30910                                 0                                 0  \n30911                                 0                                 0  \n30912                                 0                                 0  \n\n[30913 rows x 282 columns]",
      "text/html": "<div>\n<style scoped>\n    .dataframe tbody tr th:only-of-type {\n        vertical-align: middle;\n    }\n\n    .dataframe tbody tr th {\n        vertical-align: top;\n    }\n\n    .dataframe thead th {\n        text-align: right;\n    }\n</style>\n<table border=\"1\" class=\"dataframe\">\n  <thead>\n    <tr style=\"text-align: right;\">\n      <th></th>\n      <th>DISC_ID</th>\n      <th>ADMITTED_EXAM_1</th>\n      <th>ADMITTED_EXAM_2</th>\n      <th>ADMITTED_EXAM_3</th>\n      <th>9028324525774925341</th>\n      <th>7835846297793492094</th>\n      <th>14433121874407032269</th>\n      <th>1601392918367593206</th>\n      <th>9848012366215097300</th>\n      <th>8955667882044263414</th>\n      <th>...</th>\n      <th>TYPE_NAME_Дифференцированный зачет</th>\n      <th>TYPE_NAME_Зачет</th>\n      <th>TYPE_NAME_Курсовой проект</th>\n      <th>TYPE_NAME_Экзамен</th>\n      <th>ADMITTED_SUBJECT_PRIZE_LEVEL_0.0</th>\n      <th>ADMITTED_SUBJECT_PRIZE_LEVEL_1.0</th>\n      <th>ADMITTED_SUBJECT_PRIZE_LEVEL_2.0</th>\n      <th>ADMITTED_SUBJECT_PRIZE_LEVEL_3.0</th>\n      <th>ADMITTED_SUBJECT_PRIZE_LEVEL_4.0</th>\n      <th>ADMITTED_SUBJECT_PRIZE_LEVEL_ЕГЭ</th>\n    </tr>\n  </thead>\n  <tbody>\n    <tr>\n      <th>0</th>\n      <td>552619236026332123</td>\n      <td>78.000000</td>\n      <td>83.000000</td>\n      <td>87.000000</td>\n      <td>0.0</td>\n      <td>0.0</td>\n      <td>0.0</td>\n      <td>0.0</td>\n      <td>0.0</td>\n      <td>0.0</td>\n      <td>...</td>\n      <td>0</td>\n      <td>0</td>\n      <td>0</td>\n      <td>1</td>\n      <td>0</td>\n      <td>0</td>\n      <td>0</td>\n      <td>0</td>\n      <td>0</td>\n      <td>1</td>\n    </tr>\n    <tr>\n      <th>1</th>\n      <td>5702509582319458883</td>\n      <td>78.000000</td>\n      <td>83.000000</td>\n      <td>87.000000</td>\n      <td>0.0</td>\n      <td>0.0</td>\n      <td>0.0</td>\n      <td>0.0</td>\n      <td>0.0</td>\n      <td>0.0</td>\n      <td>...</td>\n      <td>0</td>\n      <td>0</td>\n      <td>0</td>\n      <td>1</td>\n      <td>0</td>\n      <td>0</td>\n      <td>0</td>\n      <td>0</td>\n      <td>0</td>\n      <td>1</td>\n    </tr>\n    <tr>\n      <th>2</th>\n      <td>7735626259430674628</td>\n      <td>78.000000</td>\n      <td>83.000000</td>\n      <td>87.000000</td>\n      <td>0.0</td>\n      <td>0.0</td>\n      <td>0.0</td>\n      <td>0.0</td>\n      <td>0.0</td>\n      <td>0.0</td>\n      <td>...</td>\n      <td>0</td>\n      <td>0</td>\n      <td>0</td>\n      <td>1</td>\n      <td>0</td>\n      <td>0</td>\n      <td>0</td>\n      <td>0</td>\n      <td>0</td>\n      <td>1</td>\n    </tr>\n    <tr>\n      <th>3</th>\n      <td>8955667882044263414</td>\n      <td>78.000000</td>\n      <td>83.000000</td>\n      <td>87.000000</td>\n      <td>0.0</td>\n      <td>0.0</td>\n      <td>0.0</td>\n      <td>0.0</td>\n      <td>0.0</td>\n      <td>0.0</td>\n      <td>...</td>\n      <td>0</td>\n      <td>0</td>\n      <td>0</td>\n      <td>1</td>\n      <td>0</td>\n      <td>0</td>\n      <td>0</td>\n      <td>0</td>\n      <td>0</td>\n      <td>1</td>\n    </tr>\n    <tr>\n      <th>4</th>\n      <td>9075687484357010791</td>\n      <td>78.000000</td>\n      <td>83.000000</td>\n      <td>87.000000</td>\n      <td>0.0</td>\n      <td>0.0</td>\n      <td>0.0</td>\n      <td>0.0</td>\n      <td>0.0</td>\n      <td>0.0</td>\n      <td>...</td>\n      <td>0</td>\n      <td>0</td>\n      <td>0</td>\n      <td>1</td>\n      <td>0</td>\n      <td>0</td>\n      <td>0</td>\n      <td>0</td>\n      <td>0</td>\n      <td>1</td>\n    </tr>\n    <tr>\n      <th>...</th>\n      <td>...</td>\n      <td>...</td>\n      <td>...</td>\n      <td>...</td>\n      <td>...</td>\n      <td>...</td>\n      <td>...</td>\n      <td>...</td>\n      <td>...</td>\n      <td>...</td>\n      <td>...</td>\n      <td>...</td>\n      <td>...</td>\n      <td>...</td>\n      <td>...</td>\n      <td>...</td>\n      <td>...</td>\n      <td>...</td>\n      <td>...</td>\n      <td>...</td>\n      <td>...</td>\n    </tr>\n    <tr>\n      <th>30908</th>\n      <td>9075687484357010791</td>\n      <td>80.381229</td>\n      <td>82.389157</td>\n      <td>86.808098</td>\n      <td>0.0</td>\n      <td>4.0</td>\n      <td>0.0</td>\n      <td>4.0</td>\n      <td>4.0</td>\n      <td>0.0</td>\n      <td>...</td>\n      <td>0</td>\n      <td>0</td>\n      <td>0</td>\n      <td>1</td>\n      <td>0</td>\n      <td>0</td>\n      <td>1</td>\n      <td>0</td>\n      <td>0</td>\n      <td>0</td>\n    </tr>\n    <tr>\n      <th>30909</th>\n      <td>11240958499619480192</td>\n      <td>80.381229</td>\n      <td>82.389157</td>\n      <td>86.808098</td>\n      <td>0.0</td>\n      <td>4.0</td>\n      <td>0.0</td>\n      <td>4.0</td>\n      <td>4.0</td>\n      <td>0.0</td>\n      <td>...</td>\n      <td>0</td>\n      <td>0</td>\n      <td>0</td>\n      <td>1</td>\n      <td>0</td>\n      <td>0</td>\n      <td>1</td>\n      <td>0</td>\n      <td>0</td>\n      <td>0</td>\n    </tr>\n    <tr>\n      <th>30910</th>\n      <td>11511957009955804990</td>\n      <td>80.381229</td>\n      <td>82.389157</td>\n      <td>86.808098</td>\n      <td>0.0</td>\n      <td>4.0</td>\n      <td>0.0</td>\n      <td>4.0</td>\n      <td>4.0</td>\n      <td>0.0</td>\n      <td>...</td>\n      <td>0</td>\n      <td>0</td>\n      <td>0</td>\n      <td>1</td>\n      <td>0</td>\n      <td>0</td>\n      <td>1</td>\n      <td>0</td>\n      <td>0</td>\n      <td>0</td>\n    </tr>\n    <tr>\n      <th>30911</th>\n      <td>11807846188624377660</td>\n      <td>80.381229</td>\n      <td>82.389157</td>\n      <td>86.808098</td>\n      <td>0.0</td>\n      <td>4.0</td>\n      <td>0.0</td>\n      <td>4.0</td>\n      <td>4.0</td>\n      <td>0.0</td>\n      <td>...</td>\n      <td>0</td>\n      <td>0</td>\n      <td>0</td>\n      <td>1</td>\n      <td>0</td>\n      <td>0</td>\n      <td>1</td>\n      <td>0</td>\n      <td>0</td>\n      <td>0</td>\n    </tr>\n    <tr>\n      <th>30912</th>\n      <td>16952231586163840107</td>\n      <td>80.381229</td>\n      <td>82.389157</td>\n      <td>86.808098</td>\n      <td>0.0</td>\n      <td>4.0</td>\n      <td>0.0</td>\n      <td>4.0</td>\n      <td>4.0</td>\n      <td>0.0</td>\n      <td>...</td>\n      <td>0</td>\n      <td>0</td>\n      <td>0</td>\n      <td>1</td>\n      <td>0</td>\n      <td>0</td>\n      <td>1</td>\n      <td>0</td>\n      <td>0</td>\n      <td>0</td>\n    </tr>\n  </tbody>\n</table>\n<p>30913 rows × 282 columns</p>\n</div>"
     },
     "execution_count": 22,
     "metadata": {},
     "output_type": "execute_result"
    }
   ],
   "source": [
    "## Making submission\n",
    "test_table = test.drop(columns=[\"ST_YEAR\", \"SEMESTER\", \"TYPE_NAME\"])\n",
    "test_table = test_table.set_index(\"ISU\")\n",
    "t = students_table[students_table[\"ISU\"].isin(test_table.index)]\n",
    "t = t.drop(columns=[\"DISC_ID\", \"DEBT\", \"MARK\", \"MAIN_PLAN\", \"PRED_ID\"])\n",
    "t = t.drop_duplicates(subset=\"ISU\")\n",
    "t = t.set_index(\"ISU\")\n",
    "t = t.loc[test_table.index]\n",
    "t = pd.concat([t, test_table], axis=1)\n",
    "t = t.reset_index().drop(columns=\"ISU\")\n",
    "t = t.loc[:, train_x.columns]\n",
    "t"
   ],
   "metadata": {
    "collapsed": false,
    "pycharm": {
     "name": "#%%\n"
    }
   }
  },
  {
   "cell_type": "code",
   "execution_count": 23,
   "outputs": [],
   "source": [
    "t_tensor = torch.tensor(t.to_numpy(), device=device)\n",
    "pred_test = model.predict(t_tensor).detach().cpu().numpy()\n",
    "pred_test = np.argmax(pred_test, axis=1)\n",
    "sample_submission[\"DEBT\"] = pred_test\n",
    "sample_submission.to_csv(\"./my_submission.csv\", index=False)"
   ],
   "metadata": {
    "collapsed": false,
    "pycharm": {
     "name": "#%%\n"
    }
   }
  },
  {
   "cell_type": "code",
   "execution_count": 24,
   "outputs": [
    {
     "data": {
      "text/plain": "                                                      ID  DEBT\n0      ISU:22160896830459167 | ST_YEAR:2021 | DISC_ID...     0\n1      ISU:22160896830459167 | ST_YEAR:2021 | DISC_ID...     0\n2      ISU:22160896830459167 | ST_YEAR:2021 | DISC_ID...     0\n3      ISU:22160896830459167 | ST_YEAR:2021 | DISC_ID...     0\n4      ISU:22160896830459167 | ST_YEAR:2021 | DISC_ID...     0\n...                                                  ...   ...\n30908  ISU:18441846113897984349 | ST_YEAR:2021 | DISC...     0\n30909  ISU:18441846113897984349 | ST_YEAR:2021 | DISC...     0\n30910  ISU:18441846113897984349 | ST_YEAR:2021 | DISC...     0\n30911  ISU:18441846113897984349 | ST_YEAR:2021 | DISC...     0\n30912  ISU:18441846113897984349 | ST_YEAR:2021 | DISC...     0\n\n[30913 rows x 2 columns]",
      "text/html": "<div>\n<style scoped>\n    .dataframe tbody tr th:only-of-type {\n        vertical-align: middle;\n    }\n\n    .dataframe tbody tr th {\n        vertical-align: top;\n    }\n\n    .dataframe thead th {\n        text-align: right;\n    }\n</style>\n<table border=\"1\" class=\"dataframe\">\n  <thead>\n    <tr style=\"text-align: right;\">\n      <th></th>\n      <th>ID</th>\n      <th>DEBT</th>\n    </tr>\n  </thead>\n  <tbody>\n    <tr>\n      <th>0</th>\n      <td>ISU:22160896830459167 | ST_YEAR:2021 | DISC_ID...</td>\n      <td>0</td>\n    </tr>\n    <tr>\n      <th>1</th>\n      <td>ISU:22160896830459167 | ST_YEAR:2021 | DISC_ID...</td>\n      <td>0</td>\n    </tr>\n    <tr>\n      <th>2</th>\n      <td>ISU:22160896830459167 | ST_YEAR:2021 | DISC_ID...</td>\n      <td>0</td>\n    </tr>\n    <tr>\n      <th>3</th>\n      <td>ISU:22160896830459167 | ST_YEAR:2021 | DISC_ID...</td>\n      <td>0</td>\n    </tr>\n    <tr>\n      <th>4</th>\n      <td>ISU:22160896830459167 | ST_YEAR:2021 | DISC_ID...</td>\n      <td>0</td>\n    </tr>\n    <tr>\n      <th>...</th>\n      <td>...</td>\n      <td>...</td>\n    </tr>\n    <tr>\n      <th>30908</th>\n      <td>ISU:18441846113897984349 | ST_YEAR:2021 | DISC...</td>\n      <td>0</td>\n    </tr>\n    <tr>\n      <th>30909</th>\n      <td>ISU:18441846113897984349 | ST_YEAR:2021 | DISC...</td>\n      <td>0</td>\n    </tr>\n    <tr>\n      <th>30910</th>\n      <td>ISU:18441846113897984349 | ST_YEAR:2021 | DISC...</td>\n      <td>0</td>\n    </tr>\n    <tr>\n      <th>30911</th>\n      <td>ISU:18441846113897984349 | ST_YEAR:2021 | DISC...</td>\n      <td>0</td>\n    </tr>\n    <tr>\n      <th>30912</th>\n      <td>ISU:18441846113897984349 | ST_YEAR:2021 | DISC...</td>\n      <td>0</td>\n    </tr>\n  </tbody>\n</table>\n<p>30913 rows × 2 columns</p>\n</div>"
     },
     "execution_count": 24,
     "metadata": {},
     "output_type": "execute_result"
    }
   ],
   "source": [
    "sample_submission\n"
   ],
   "metadata": {
    "collapsed": false,
    "pycharm": {
     "name": "#%%\n"
    }
   }
  },
  {
   "cell_type": "code",
   "execution_count": 25,
   "outputs": [
    {
     "data": {
      "text/plain": "0"
     },
     "execution_count": 25,
     "metadata": {},
     "output_type": "execute_result"
    }
   ],
   "source": [
    "pred_test.sum()"
   ],
   "metadata": {
    "collapsed": false,
    "pycharm": {
     "name": "#%%\n"
    }
   }
  },
  {
   "cell_type": "code",
   "execution_count": 26,
   "outputs": [
    {
     "data": {
      "text/plain": "(30913,)"
     },
     "execution_count": 26,
     "metadata": {},
     "output_type": "execute_result"
    }
   ],
   "source": [
    "pred_test.shape"
   ],
   "metadata": {
    "collapsed": false,
    "pycharm": {
     "name": "#%%\n"
    }
   }
  }
 ],
 "metadata": {
  "datalore": {
   "base_environment": "default",
   "computation_mode": "JUPYTER",
   "package_manager": "pip",
   "packages": [],
   "version": 1
  },
  "kernelspec": {
   "display_name": "Python 3 (ipykernel)",
   "language": "python",
   "name": "python3"
  },
  "language_info": {
   "codemirror_mode": {
    "name": "ipython",
    "version": 3
   },
   "file_extension": ".py",
   "mimetype": "text/x-python",
   "name": "python",
   "nbconvert_exporter": "python",
   "pygments_lexer": "ipython3",
   "version": "3.8.0"
  }
 },
 "nbformat": 4,
 "nbformat_minor": 4
}