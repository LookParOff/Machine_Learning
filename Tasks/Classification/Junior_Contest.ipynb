{
 "cells": [
  {
   "cell_type": "markdown",
   "metadata": {
    "datalore": {
     "hide_input_from_viewers": false,
     "hide_output_from_viewers": false,
     "type": "MD"
    },
    "pycharm": {
     "name": "#%% md\n"
    }
   },
   "source": [
    "# Junior ML contest"
   ]
  },
  {
   "cell_type": "code",
   "execution_count": 1,
   "metadata": {
    "datalore": {
     "hide_input_from_viewers": false,
     "hide_output_from_viewers": false,
     "type": "CODE"
    },
    "pycharm": {
     "name": "#%%\n"
    }
   },
   "outputs": [
    {
     "name": "stdout",
     "output_type": "stream",
     "text": [
      "C:\\Users\\Norma\\PycharmProjects\\Machine Learning\n"
     ]
    }
   ],
   "source": [
    "import numpy as np\n",
    "import pandas as pd\n",
    "\n",
    "# import seaborn as sns\n",
    "# import matplotlib.pyplot as plt\n",
    "\n",
    "from sklearn.tree import  DecisionTreeClassifier\n",
    "from sklearn.ensemble import RandomForestClassifier\n",
    "from sklearn.metrics import f1_score\n",
    "\n",
    "import optuna\n",
    "import os\n",
    "\n",
    "os.chdir('..')\n",
    "os.chdir('..')\n",
    "print(os.getcwd())\n",
    "comp_students = pd.read_csv(\"Datasets/Junior ML contest dataset/comp_students.csv\")\n",
    "comp_portrait = pd.read_csv(\"Datasets/Junior ML contest dataset/comp_portrait.csv\")\n",
    "comp_marks = pd.read_csv(\"Datasets/Junior ML contest dataset/comp_marks.csv\")\n",
    "comp_disc = pd.read_csv(\"Datasets/Junior ML contest dataset/comp_disc.csv\")\n",
    "train = pd.read_csv(\"Datasets/Junior ML contest dataset/train (1).csv\")\n",
    "comp_teachers = pd.read_csv(\"Datasets/Junior ML contest dataset/comp_teachers.csv\")\n",
    "test = pd.read_csv(\"Datasets/Junior ML contest dataset/test (1).csv\")\n",
    "sample_submission = pd.read_csv(\"Datasets/Junior ML contest dataset/sample_submission (1).csv\")"
   ]
  },
  {
   "cell_type": "markdown",
   "metadata": {
    "datalore": {
     "hide_input_from_viewers": false,
     "hide_output_from_viewers": false,
     "type": "MD"
    },
    "pycharm": {
     "name": "#%% md\n"
    }
   },
   "source": [
    "## EDA "
   ]
  },
  {
   "cell_type": "code",
   "execution_count": 2,
   "metadata": {
    "datalore": {
     "hide_input_from_viewers": false,
     "hide_output_from_viewers": false,
     "type": "CODE"
    },
    "pycharm": {
     "name": "#%%\n"
    }
   },
   "outputs": [
    {
     "data": {
      "text/plain": "                        ISU  KURS  DATE_START             DATE_END PRIZNAK  \\\n0       4111128904589594590     2  2017-09-01  2018-08-31 00:00:00  обучен   \n1       4111128904589594590     3  2018-09-01  2018-11-02 00:00:00  обучен   \n2       4111128904589594590     3  2018-11-03  2019-08-31 00:00:00  обучен   \n3       4111128904589594590     4  2019-09-01  2020-07-06 00:00:00  обучен   \n4       5943608672516320930     2  2017-09-01  2018-08-31 00:00:00  обучен   \n...                     ...   ...         ...                  ...     ...   \n20581   1861790555290075142     1  2021-09-01  2021-09-02 00:00:00     NaN   \n20582   2797163043647546280     1  2021-09-01  2021-09-01 00:00:00     NaN   \n20583   7969824539084569201     1  2021-09-01  2021-09-01 00:00:00     NaN   \n20584   2193978719903996595     1  2021-09-01  2021-09-01 00:00:00     NaN   \n20585  12273580522943998560     1  2021-09-01  2021-09-01 00:00:00     NaN   \n\n                  MAIN_PLAN  \n0       1888061104212561891  \n1       1888061104212561891  \n2       1888061104212561891  \n3       1888061104212561891  \n4       2318124975100570268  \n...                     ...  \n20581  12557006847748747601  \n20582   5468703391701361437  \n20583   4016937036336755244  \n20584  10323692300941446127  \n20585   4016937036336755244  \n\n[20586 rows x 6 columns]",
      "text/html": "<div>\n<style scoped>\n    .dataframe tbody tr th:only-of-type {\n        vertical-align: middle;\n    }\n\n    .dataframe tbody tr th {\n        vertical-align: top;\n    }\n\n    .dataframe thead th {\n        text-align: right;\n    }\n</style>\n<table border=\"1\" class=\"dataframe\">\n  <thead>\n    <tr style=\"text-align: right;\">\n      <th></th>\n      <th>ISU</th>\n      <th>KURS</th>\n      <th>DATE_START</th>\n      <th>DATE_END</th>\n      <th>PRIZNAK</th>\n      <th>MAIN_PLAN</th>\n    </tr>\n  </thead>\n  <tbody>\n    <tr>\n      <th>0</th>\n      <td>4111128904589594590</td>\n      <td>2</td>\n      <td>2017-09-01</td>\n      <td>2018-08-31 00:00:00</td>\n      <td>обучен</td>\n      <td>1888061104212561891</td>\n    </tr>\n    <tr>\n      <th>1</th>\n      <td>4111128904589594590</td>\n      <td>3</td>\n      <td>2018-09-01</td>\n      <td>2018-11-02 00:00:00</td>\n      <td>обучен</td>\n      <td>1888061104212561891</td>\n    </tr>\n    <tr>\n      <th>2</th>\n      <td>4111128904589594590</td>\n      <td>3</td>\n      <td>2018-11-03</td>\n      <td>2019-08-31 00:00:00</td>\n      <td>обучен</td>\n      <td>1888061104212561891</td>\n    </tr>\n    <tr>\n      <th>3</th>\n      <td>4111128904589594590</td>\n      <td>4</td>\n      <td>2019-09-01</td>\n      <td>2020-07-06 00:00:00</td>\n      <td>обучен</td>\n      <td>1888061104212561891</td>\n    </tr>\n    <tr>\n      <th>4</th>\n      <td>5943608672516320930</td>\n      <td>2</td>\n      <td>2017-09-01</td>\n      <td>2018-08-31 00:00:00</td>\n      <td>обучен</td>\n      <td>2318124975100570268</td>\n    </tr>\n    <tr>\n      <th>...</th>\n      <td>...</td>\n      <td>...</td>\n      <td>...</td>\n      <td>...</td>\n      <td>...</td>\n      <td>...</td>\n    </tr>\n    <tr>\n      <th>20581</th>\n      <td>1861790555290075142</td>\n      <td>1</td>\n      <td>2021-09-01</td>\n      <td>2021-09-02 00:00:00</td>\n      <td>NaN</td>\n      <td>12557006847748747601</td>\n    </tr>\n    <tr>\n      <th>20582</th>\n      <td>2797163043647546280</td>\n      <td>1</td>\n      <td>2021-09-01</td>\n      <td>2021-09-01 00:00:00</td>\n      <td>NaN</td>\n      <td>5468703391701361437</td>\n    </tr>\n    <tr>\n      <th>20583</th>\n      <td>7969824539084569201</td>\n      <td>1</td>\n      <td>2021-09-01</td>\n      <td>2021-09-01 00:00:00</td>\n      <td>NaN</td>\n      <td>4016937036336755244</td>\n    </tr>\n    <tr>\n      <th>20584</th>\n      <td>2193978719903996595</td>\n      <td>1</td>\n      <td>2021-09-01</td>\n      <td>2021-09-01 00:00:00</td>\n      <td>NaN</td>\n      <td>10323692300941446127</td>\n    </tr>\n    <tr>\n      <th>20585</th>\n      <td>12273580522943998560</td>\n      <td>1</td>\n      <td>2021-09-01</td>\n      <td>2021-09-01 00:00:00</td>\n      <td>NaN</td>\n      <td>4016937036336755244</td>\n    </tr>\n  </tbody>\n</table>\n<p>20586 rows × 6 columns</p>\n</div>"
     },
     "execution_count": 2,
     "metadata": {},
     "output_type": "execute_result"
    }
   ],
   "source": [
    "# Description of the completion of the student's studies\n",
    "comp_students"
   ]
  },
  {
   "cell_type": "code",
   "execution_count": 3,
   "metadata": {
    "datalore": {
     "hide_input_from_viewers": false,
     "hide_output_from_viewers": false,
     "type": "CODE"
    },
    "pycharm": {
     "name": "#%%\n"
    }
   },
   "outputs": [
    {
     "data": {
      "text/plain": "                       ISU GENDER           CITIZENSHIP  EXAM_TYPE  \\\n0      8746993777733478780      Ж  15601729049989747827        ЕГЭ   \n1     18279003839105282485      М  15601729049989747827         ВИ   \n2     17601399077733331421      М  15601729049989747827         ВИ   \n3      4111128904589594590      М  15601729049989747827         ВИ   \n4      5943608672516320930      М  15601729049989747827         ВИ   \n...                    ...    ...                   ...        ...   \n8578  10617950247642298995      М  15601729049989747827  ОЛИМПИАДА   \n8579  17588742642663092027      М  15601729049989747827        ЕГЭ   \n8580   6263076880571321209      М  15601729049989747827         ВИ   \n8581   2678733955613127063      Ж  15601729049989747827        ЕГЭ   \n8582   3264412230846229387      М  15601729049989747827  ОЛИМПИАДА   \n\n            EXAM_SUBJECT_1       EXAM_SUBJECT_2       EXAM_SUBJECT_3  \\\n0        70786669040476600  5533732657842394915  8388269026169219461   \n1        70786669040476600  5533732657842394915  8388269026169219461   \n2        70786669040476600  5533732657842394915  8388269026169219461   \n3        70786669040476600  5533732657842394915  8388269026169219461   \n4        70786669040476600  5533732657842394915  8388269026169219461   \n...                    ...                  ...                  ...   \n8578     70786669040476600  8388269026169219461  5533732657842394915   \n8579     70786669040476600  5533732657842394915  8388269026169219461   \n8580   5533732657842394915    70786669040476600  8388269026169219461   \n8581  10540932117542805584    70786669040476600  8388269026169219461   \n8582     70786669040476600  5533732657842394915  8388269026169219461   \n\n      ADMITTED_EXAM_1  ADMITTED_EXAM_2  ADMITTED_EXAM_3  \\\n0                88.0             91.0             81.0   \n1                84.0             89.0             96.0   \n2                66.0             78.0             93.0   \n3               100.0             89.0             80.0   \n4                84.0             86.0             91.0   \n...               ...              ...              ...   \n8578              NaN              NaN              NaN   \n8579             78.0             83.0             85.0   \n8580             95.0            100.0             96.0   \n8581             80.0             82.0             78.0   \n8582              NaN              NaN              NaN   \n\n     ADMITTED_SUBJECT_PRIZE_LEVEL             REGION_ID  \n0                             ЕГЭ   4877310761925081124  \n1                             ЕГЭ   4877310761925081124  \n2                             ЕГЭ   4877310761925081124  \n3                             ЕГЭ   4877310761925081124  \n4                             ЕГЭ   4877310761925081124  \n...                           ...                   ...  \n8578                          1.0   1360429390938723525  \n8579                          ЕГЭ    805206811561050868  \n8580                          ЕГЭ   4877310761925081124  \n8581                          ЕГЭ   4877310761925081124  \n8582                          1.0  17119224547502736839  \n\n[8583 rows x 12 columns]",
      "text/html": "<div>\n<style scoped>\n    .dataframe tbody tr th:only-of-type {\n        vertical-align: middle;\n    }\n\n    .dataframe tbody tr th {\n        vertical-align: top;\n    }\n\n    .dataframe thead th {\n        text-align: right;\n    }\n</style>\n<table border=\"1\" class=\"dataframe\">\n  <thead>\n    <tr style=\"text-align: right;\">\n      <th></th>\n      <th>ISU</th>\n      <th>GENDER</th>\n      <th>CITIZENSHIP</th>\n      <th>EXAM_TYPE</th>\n      <th>EXAM_SUBJECT_1</th>\n      <th>EXAM_SUBJECT_2</th>\n      <th>EXAM_SUBJECT_3</th>\n      <th>ADMITTED_EXAM_1</th>\n      <th>ADMITTED_EXAM_2</th>\n      <th>ADMITTED_EXAM_3</th>\n      <th>ADMITTED_SUBJECT_PRIZE_LEVEL</th>\n      <th>REGION_ID</th>\n    </tr>\n  </thead>\n  <tbody>\n    <tr>\n      <th>0</th>\n      <td>8746993777733478780</td>\n      <td>Ж</td>\n      <td>15601729049989747827</td>\n      <td>ЕГЭ</td>\n      <td>70786669040476600</td>\n      <td>5533732657842394915</td>\n      <td>8388269026169219461</td>\n      <td>88.0</td>\n      <td>91.0</td>\n      <td>81.0</td>\n      <td>ЕГЭ</td>\n      <td>4877310761925081124</td>\n    </tr>\n    <tr>\n      <th>1</th>\n      <td>18279003839105282485</td>\n      <td>М</td>\n      <td>15601729049989747827</td>\n      <td>ВИ</td>\n      <td>70786669040476600</td>\n      <td>5533732657842394915</td>\n      <td>8388269026169219461</td>\n      <td>84.0</td>\n      <td>89.0</td>\n      <td>96.0</td>\n      <td>ЕГЭ</td>\n      <td>4877310761925081124</td>\n    </tr>\n    <tr>\n      <th>2</th>\n      <td>17601399077733331421</td>\n      <td>М</td>\n      <td>15601729049989747827</td>\n      <td>ВИ</td>\n      <td>70786669040476600</td>\n      <td>5533732657842394915</td>\n      <td>8388269026169219461</td>\n      <td>66.0</td>\n      <td>78.0</td>\n      <td>93.0</td>\n      <td>ЕГЭ</td>\n      <td>4877310761925081124</td>\n    </tr>\n    <tr>\n      <th>3</th>\n      <td>4111128904589594590</td>\n      <td>М</td>\n      <td>15601729049989747827</td>\n      <td>ВИ</td>\n      <td>70786669040476600</td>\n      <td>5533732657842394915</td>\n      <td>8388269026169219461</td>\n      <td>100.0</td>\n      <td>89.0</td>\n      <td>80.0</td>\n      <td>ЕГЭ</td>\n      <td>4877310761925081124</td>\n    </tr>\n    <tr>\n      <th>4</th>\n      <td>5943608672516320930</td>\n      <td>М</td>\n      <td>15601729049989747827</td>\n      <td>ВИ</td>\n      <td>70786669040476600</td>\n      <td>5533732657842394915</td>\n      <td>8388269026169219461</td>\n      <td>84.0</td>\n      <td>86.0</td>\n      <td>91.0</td>\n      <td>ЕГЭ</td>\n      <td>4877310761925081124</td>\n    </tr>\n    <tr>\n      <th>...</th>\n      <td>...</td>\n      <td>...</td>\n      <td>...</td>\n      <td>...</td>\n      <td>...</td>\n      <td>...</td>\n      <td>...</td>\n      <td>...</td>\n      <td>...</td>\n      <td>...</td>\n      <td>...</td>\n      <td>...</td>\n    </tr>\n    <tr>\n      <th>8578</th>\n      <td>10617950247642298995</td>\n      <td>М</td>\n      <td>15601729049989747827</td>\n      <td>ОЛИМПИАДА</td>\n      <td>70786669040476600</td>\n      <td>8388269026169219461</td>\n      <td>5533732657842394915</td>\n      <td>NaN</td>\n      <td>NaN</td>\n      <td>NaN</td>\n      <td>1.0</td>\n      <td>1360429390938723525</td>\n    </tr>\n    <tr>\n      <th>8579</th>\n      <td>17588742642663092027</td>\n      <td>М</td>\n      <td>15601729049989747827</td>\n      <td>ЕГЭ</td>\n      <td>70786669040476600</td>\n      <td>5533732657842394915</td>\n      <td>8388269026169219461</td>\n      <td>78.0</td>\n      <td>83.0</td>\n      <td>85.0</td>\n      <td>ЕГЭ</td>\n      <td>805206811561050868</td>\n    </tr>\n    <tr>\n      <th>8580</th>\n      <td>6263076880571321209</td>\n      <td>М</td>\n      <td>15601729049989747827</td>\n      <td>ВИ</td>\n      <td>5533732657842394915</td>\n      <td>70786669040476600</td>\n      <td>8388269026169219461</td>\n      <td>95.0</td>\n      <td>100.0</td>\n      <td>96.0</td>\n      <td>ЕГЭ</td>\n      <td>4877310761925081124</td>\n    </tr>\n    <tr>\n      <th>8581</th>\n      <td>2678733955613127063</td>\n      <td>Ж</td>\n      <td>15601729049989747827</td>\n      <td>ЕГЭ</td>\n      <td>10540932117542805584</td>\n      <td>70786669040476600</td>\n      <td>8388269026169219461</td>\n      <td>80.0</td>\n      <td>82.0</td>\n      <td>78.0</td>\n      <td>ЕГЭ</td>\n      <td>4877310761925081124</td>\n    </tr>\n    <tr>\n      <th>8582</th>\n      <td>3264412230846229387</td>\n      <td>М</td>\n      <td>15601729049989747827</td>\n      <td>ОЛИМПИАДА</td>\n      <td>70786669040476600</td>\n      <td>5533732657842394915</td>\n      <td>8388269026169219461</td>\n      <td>NaN</td>\n      <td>NaN</td>\n      <td>NaN</td>\n      <td>1.0</td>\n      <td>17119224547502736839</td>\n    </tr>\n  </tbody>\n</table>\n<p>8583 rows × 12 columns</p>\n</div>"
     },
     "execution_count": 3,
     "metadata": {},
     "output_type": "execute_result"
    }
   ],
   "source": [
    "# Description of student's exams results \n",
    "comp_portrait"
   ]
  },
  {
   "cell_type": "code",
   "execution_count": 4,
   "metadata": {
    "datalore": {
     "hide_input_from_viewers": false,
     "hide_output_from_viewers": false,
     "type": "CODE"
    },
    "pycharm": {
     "name": "#%%\n"
    }
   },
   "outputs": [
    {
     "data": {
      "text/plain": "                         ISU  ST_YEAR  SEMESTER TYPE_NAME   MARK  \\\n0       17623928044460629977     2020         1     Зачет  зачет   \n1       17623928044460629977     2020         1     Зачет  зачет   \n2       17623928044460629977     2020         1     Зачет  зачет   \n3       17623928044460629977     2020         1     Зачет  зачет   \n4       17623928044460629977     2020         1   Экзамен      3   \n...                      ...      ...       ...       ...    ...   \n182790   4061096613922316032     2020         3   Экзамен      5   \n182791   4061096613922316032     2020         4     Зачет  зачет   \n182792   4061096613922316032     2020         3     Зачет  зачет   \n182793    695318259917739302     2019         1     Зачет  зачет   \n182794  11497011754958610988     2020         3     Зачет  зачет   \n\n                   MAIN_PLAN               DISC_ID               PRED_ID  \n0        4664712865904477750  10502311854018326223   5087927234000983963  \n1        4664712865904477750   1601392918367593206   5087927234000983963  \n2        4664712865904477750   9559803959325174929   5087927234000983963  \n3        4664712865904477750   8955667882044263414   5087927234000983963  \n4        4664712865904477750  17741967398854095262   5087927234000983963  \n...                      ...                   ...                   ...  \n182790   2516887713846954209   4258608271424308357   5087927234000983963  \n182791   2516887713846954209  16952703406926101025   5087927234000983963  \n182792   2516887713846954209   5702509582319458883   5087927234000983963  \n182793   2516887713846954209   1601392918367593206   5087927234000983963  \n182794  15970149812698605927  15855310178528035667  18356833616442140842  \n\n[182795 rows x 8 columns]",
      "text/html": "<div>\n<style scoped>\n    .dataframe tbody tr th:only-of-type {\n        vertical-align: middle;\n    }\n\n    .dataframe tbody tr th {\n        vertical-align: top;\n    }\n\n    .dataframe thead th {\n        text-align: right;\n    }\n</style>\n<table border=\"1\" class=\"dataframe\">\n  <thead>\n    <tr style=\"text-align: right;\">\n      <th></th>\n      <th>ISU</th>\n      <th>ST_YEAR</th>\n      <th>SEMESTER</th>\n      <th>TYPE_NAME</th>\n      <th>MARK</th>\n      <th>MAIN_PLAN</th>\n      <th>DISC_ID</th>\n      <th>PRED_ID</th>\n    </tr>\n  </thead>\n  <tbody>\n    <tr>\n      <th>0</th>\n      <td>17623928044460629977</td>\n      <td>2020</td>\n      <td>1</td>\n      <td>Зачет</td>\n      <td>зачет</td>\n      <td>4664712865904477750</td>\n      <td>10502311854018326223</td>\n      <td>5087927234000983963</td>\n    </tr>\n    <tr>\n      <th>1</th>\n      <td>17623928044460629977</td>\n      <td>2020</td>\n      <td>1</td>\n      <td>Зачет</td>\n      <td>зачет</td>\n      <td>4664712865904477750</td>\n      <td>1601392918367593206</td>\n      <td>5087927234000983963</td>\n    </tr>\n    <tr>\n      <th>2</th>\n      <td>17623928044460629977</td>\n      <td>2020</td>\n      <td>1</td>\n      <td>Зачет</td>\n      <td>зачет</td>\n      <td>4664712865904477750</td>\n      <td>9559803959325174929</td>\n      <td>5087927234000983963</td>\n    </tr>\n    <tr>\n      <th>3</th>\n      <td>17623928044460629977</td>\n      <td>2020</td>\n      <td>1</td>\n      <td>Зачет</td>\n      <td>зачет</td>\n      <td>4664712865904477750</td>\n      <td>8955667882044263414</td>\n      <td>5087927234000983963</td>\n    </tr>\n    <tr>\n      <th>4</th>\n      <td>17623928044460629977</td>\n      <td>2020</td>\n      <td>1</td>\n      <td>Экзамен</td>\n      <td>3</td>\n      <td>4664712865904477750</td>\n      <td>17741967398854095262</td>\n      <td>5087927234000983963</td>\n    </tr>\n    <tr>\n      <th>...</th>\n      <td>...</td>\n      <td>...</td>\n      <td>...</td>\n      <td>...</td>\n      <td>...</td>\n      <td>...</td>\n      <td>...</td>\n      <td>...</td>\n    </tr>\n    <tr>\n      <th>182790</th>\n      <td>4061096613922316032</td>\n      <td>2020</td>\n      <td>3</td>\n      <td>Экзамен</td>\n      <td>5</td>\n      <td>2516887713846954209</td>\n      <td>4258608271424308357</td>\n      <td>5087927234000983963</td>\n    </tr>\n    <tr>\n      <th>182791</th>\n      <td>4061096613922316032</td>\n      <td>2020</td>\n      <td>4</td>\n      <td>Зачет</td>\n      <td>зачет</td>\n      <td>2516887713846954209</td>\n      <td>16952703406926101025</td>\n      <td>5087927234000983963</td>\n    </tr>\n    <tr>\n      <th>182792</th>\n      <td>4061096613922316032</td>\n      <td>2020</td>\n      <td>3</td>\n      <td>Зачет</td>\n      <td>зачет</td>\n      <td>2516887713846954209</td>\n      <td>5702509582319458883</td>\n      <td>5087927234000983963</td>\n    </tr>\n    <tr>\n      <th>182793</th>\n      <td>695318259917739302</td>\n      <td>2019</td>\n      <td>1</td>\n      <td>Зачет</td>\n      <td>зачет</td>\n      <td>2516887713846954209</td>\n      <td>1601392918367593206</td>\n      <td>5087927234000983963</td>\n    </tr>\n    <tr>\n      <th>182794</th>\n      <td>11497011754958610988</td>\n      <td>2020</td>\n      <td>3</td>\n      <td>Зачет</td>\n      <td>зачет</td>\n      <td>15970149812698605927</td>\n      <td>15855310178528035667</td>\n      <td>18356833616442140842</td>\n    </tr>\n  </tbody>\n</table>\n<p>182795 rows × 8 columns</p>\n</div>"
     },
     "execution_count": 4,
     "metadata": {},
     "output_type": "execute_result"
    }
   ],
   "source": [
    "# Description of students marks on diffrent discipline\n",
    "comp_marks"
   ]
  },
  {
   "cell_type": "code",
   "execution_count": 5,
   "outputs": [
    {
     "data": {
      "text/plain": "                         ISU  ST_YEAR  SEMESTER TYPE_NAME   MARK  \\\n0       17623928044460629977     2020         1     Зачет  зачет   \n1       17623928044460629977     2020         1     Зачет  зачет   \n2       17623928044460629977     2020         1     Зачет  зачет   \n3       17623928044460629977     2020         1     Зачет  зачет   \n4       17623928044460629977     2020         1   Экзамен      3   \n...                      ...      ...       ...       ...    ...   \n182790   4061096613922316032     2020         3   Экзамен      5   \n182791   4061096613922316032     2020         4     Зачет  зачет   \n182792   4061096613922316032     2020         3     Зачет  зачет   \n182793    695318259917739302     2019         1     Зачет  зачет   \n182794  11497011754958610988     2020         3     Зачет  зачет   \n\n                   MAIN_PLAN               DISC_ID               PRED_ID  \n0        4664712865904477750  10502311854018326223   5087927234000983963  \n1        4664712865904477750   1601392918367593206   5087927234000983963  \n2        4664712865904477750   9559803959325174929   5087927234000983963  \n3        4664712865904477750   8955667882044263414   5087927234000983963  \n4        4664712865904477750  17741967398854095262   5087927234000983963  \n...                      ...                   ...                   ...  \n182790   2516887713846954209   4258608271424308357   5087927234000983963  \n182791   2516887713846954209  16952703406926101025   5087927234000983963  \n182792   2516887713846954209   5702509582319458883   5087927234000983963  \n182793   2516887713846954209   1601392918367593206   5087927234000983963  \n182794  15970149812698605927  15855310178528035667  18356833616442140842  \n\n[182795 rows x 8 columns]",
      "text/html": "<div>\n<style scoped>\n    .dataframe tbody tr th:only-of-type {\n        vertical-align: middle;\n    }\n\n    .dataframe tbody tr th {\n        vertical-align: top;\n    }\n\n    .dataframe thead th {\n        text-align: right;\n    }\n</style>\n<table border=\"1\" class=\"dataframe\">\n  <thead>\n    <tr style=\"text-align: right;\">\n      <th></th>\n      <th>ISU</th>\n      <th>ST_YEAR</th>\n      <th>SEMESTER</th>\n      <th>TYPE_NAME</th>\n      <th>MARK</th>\n      <th>MAIN_PLAN</th>\n      <th>DISC_ID</th>\n      <th>PRED_ID</th>\n    </tr>\n  </thead>\n  <tbody>\n    <tr>\n      <th>0</th>\n      <td>17623928044460629977</td>\n      <td>2020</td>\n      <td>1</td>\n      <td>Зачет</td>\n      <td>зачет</td>\n      <td>4664712865904477750</td>\n      <td>10502311854018326223</td>\n      <td>5087927234000983963</td>\n    </tr>\n    <tr>\n      <th>1</th>\n      <td>17623928044460629977</td>\n      <td>2020</td>\n      <td>1</td>\n      <td>Зачет</td>\n      <td>зачет</td>\n      <td>4664712865904477750</td>\n      <td>1601392918367593206</td>\n      <td>5087927234000983963</td>\n    </tr>\n    <tr>\n      <th>2</th>\n      <td>17623928044460629977</td>\n      <td>2020</td>\n      <td>1</td>\n      <td>Зачет</td>\n      <td>зачет</td>\n      <td>4664712865904477750</td>\n      <td>9559803959325174929</td>\n      <td>5087927234000983963</td>\n    </tr>\n    <tr>\n      <th>3</th>\n      <td>17623928044460629977</td>\n      <td>2020</td>\n      <td>1</td>\n      <td>Зачет</td>\n      <td>зачет</td>\n      <td>4664712865904477750</td>\n      <td>8955667882044263414</td>\n      <td>5087927234000983963</td>\n    </tr>\n    <tr>\n      <th>4</th>\n      <td>17623928044460629977</td>\n      <td>2020</td>\n      <td>1</td>\n      <td>Экзамен</td>\n      <td>3</td>\n      <td>4664712865904477750</td>\n      <td>17741967398854095262</td>\n      <td>5087927234000983963</td>\n    </tr>\n    <tr>\n      <th>...</th>\n      <td>...</td>\n      <td>...</td>\n      <td>...</td>\n      <td>...</td>\n      <td>...</td>\n      <td>...</td>\n      <td>...</td>\n      <td>...</td>\n    </tr>\n    <tr>\n      <th>182790</th>\n      <td>4061096613922316032</td>\n      <td>2020</td>\n      <td>3</td>\n      <td>Экзамен</td>\n      <td>5</td>\n      <td>2516887713846954209</td>\n      <td>4258608271424308357</td>\n      <td>5087927234000983963</td>\n    </tr>\n    <tr>\n      <th>182791</th>\n      <td>4061096613922316032</td>\n      <td>2020</td>\n      <td>4</td>\n      <td>Зачет</td>\n      <td>зачет</td>\n      <td>2516887713846954209</td>\n      <td>16952703406926101025</td>\n      <td>5087927234000983963</td>\n    </tr>\n    <tr>\n      <th>182792</th>\n      <td>4061096613922316032</td>\n      <td>2020</td>\n      <td>3</td>\n      <td>Зачет</td>\n      <td>зачет</td>\n      <td>2516887713846954209</td>\n      <td>5702509582319458883</td>\n      <td>5087927234000983963</td>\n    </tr>\n    <tr>\n      <th>182793</th>\n      <td>695318259917739302</td>\n      <td>2019</td>\n      <td>1</td>\n      <td>Зачет</td>\n      <td>зачет</td>\n      <td>2516887713846954209</td>\n      <td>1601392918367593206</td>\n      <td>5087927234000983963</td>\n    </tr>\n    <tr>\n      <th>182794</th>\n      <td>11497011754958610988</td>\n      <td>2020</td>\n      <td>3</td>\n      <td>Зачет</td>\n      <td>зачет</td>\n      <td>15970149812698605927</td>\n      <td>15855310178528035667</td>\n      <td>18356833616442140842</td>\n    </tr>\n  </tbody>\n</table>\n<p>182795 rows × 8 columns</p>\n</div>"
     },
     "execution_count": 5,
     "metadata": {},
     "output_type": "execute_result"
    }
   ],
   "source": [
    "comp_marks1 = comp_marks.copy()\n",
    "comp_marks1[\"PRED_ID\"] = comp_marks1[\"PRED_ID\"].astype(\"category\")\n",
    "comp_marks1"
   ],
   "metadata": {
    "collapsed": false,
    "pycharm": {
     "name": "#%%\n"
    }
   }
  },
  {
   "cell_type": "code",
   "execution_count": 6,
   "metadata": {
    "datalore": {
     "hide_input_from_viewers": false,
     "hide_output_from_viewers": false,
     "type": "CODE"
    },
    "pycharm": {
     "name": "#%%\n"
    }
   },
   "outputs": [
    {
     "data": {
      "text/plain": "                    PLAN_ID               DISC_ID  СHOICE  SEMESTER  \\\n0      13019929768422386211  12540082885330665258     1.0       6.0   \n1      13019929768422386211   8471500331110227546     1.0       6.0   \n2      13019929768422386211  11786710099399385350     1.0       6.0   \n3      13019929768422386211  18074319180892552096     1.0       6.0   \n4      13019929768422386211  17709308778630417516     1.0       6.0   \n...                     ...                   ...     ...       ...   \n22512  15424044485875347082  13199182807431031308     1.0       3.0   \n22513  15424044485875347082   4888736193471485129     1.0       3.0   \n22514  15424044485875347082   4888736193471485129     1.0       3.0   \n22515  15424044485875347082   9075687484357010791     0.0       3.0   \n22516  15424044485875347082   9075687484357010791     0.0       3.0   \n\n                                               DISC_NAME  \\\n0                                    Методы криптографии   \n1                                Анализ социальных сетей   \n2      Эффективное участие в научных и практических к...   \n3                                    Управление карьерой   \n4                                  Обработка изображений   \n...                                                  ...   \n22512  Бизнес-модели основных секторов инновационной ...   \n22513     Второй иностранный язык (немецкий). Уровень А2   \n22514     Второй иностранный язык (немецкий). Уровень А2   \n22515        Физическая культура (элективная дисциплина)   \n22516        Физическая культура (элективная дисциплина)   \n\n                   DISC_DEP                                      KEYWORD_NAMES  \n0       8139328495281102994  криптография, криптография, криптография, клас...  \n1       8139328495281102994  технологии работы информацией, алгоритмы обраб...  \n2       1687590892619214362                                                NaN  \n3       1687590892619214362                                                NaN  \n4       8139328495281102994  классическое машинное обучение, генерация изоб...  \n...                     ...                                                ...  \n22512  13705271043836613455  сектор life sciences, выбор бизнесмодели, форм...  \n22513   4541588325103734182  выражение мнения, выражение мнения, модели нор...  \n22514   4541588325103734182                                                NaN  \n22515   9092018987667145739  фитнес, единоборство, учебнотренировачная подг...  \n22516   9092018987667145739                                                NaN  \n\n[22517 rows x 7 columns]",
      "text/html": "<div>\n<style scoped>\n    .dataframe tbody tr th:only-of-type {\n        vertical-align: middle;\n    }\n\n    .dataframe tbody tr th {\n        vertical-align: top;\n    }\n\n    .dataframe thead th {\n        text-align: right;\n    }\n</style>\n<table border=\"1\" class=\"dataframe\">\n  <thead>\n    <tr style=\"text-align: right;\">\n      <th></th>\n      <th>PLAN_ID</th>\n      <th>DISC_ID</th>\n      <th>СHOICE</th>\n      <th>SEMESTER</th>\n      <th>DISC_NAME</th>\n      <th>DISC_DEP</th>\n      <th>KEYWORD_NAMES</th>\n    </tr>\n  </thead>\n  <tbody>\n    <tr>\n      <th>0</th>\n      <td>13019929768422386211</td>\n      <td>12540082885330665258</td>\n      <td>1.0</td>\n      <td>6.0</td>\n      <td>Методы криптографии</td>\n      <td>8139328495281102994</td>\n      <td>криптография, криптография, криптография, клас...</td>\n    </tr>\n    <tr>\n      <th>1</th>\n      <td>13019929768422386211</td>\n      <td>8471500331110227546</td>\n      <td>1.0</td>\n      <td>6.0</td>\n      <td>Анализ социальных сетей</td>\n      <td>8139328495281102994</td>\n      <td>технологии работы информацией, алгоритмы обраб...</td>\n    </tr>\n    <tr>\n      <th>2</th>\n      <td>13019929768422386211</td>\n      <td>11786710099399385350</td>\n      <td>1.0</td>\n      <td>6.0</td>\n      <td>Эффективное участие в научных и практических к...</td>\n      <td>1687590892619214362</td>\n      <td>NaN</td>\n    </tr>\n    <tr>\n      <th>3</th>\n      <td>13019929768422386211</td>\n      <td>18074319180892552096</td>\n      <td>1.0</td>\n      <td>6.0</td>\n      <td>Управление карьерой</td>\n      <td>1687590892619214362</td>\n      <td>NaN</td>\n    </tr>\n    <tr>\n      <th>4</th>\n      <td>13019929768422386211</td>\n      <td>17709308778630417516</td>\n      <td>1.0</td>\n      <td>6.0</td>\n      <td>Обработка изображений</td>\n      <td>8139328495281102994</td>\n      <td>классическое машинное обучение, генерация изоб...</td>\n    </tr>\n    <tr>\n      <th>...</th>\n      <td>...</td>\n      <td>...</td>\n      <td>...</td>\n      <td>...</td>\n      <td>...</td>\n      <td>...</td>\n      <td>...</td>\n    </tr>\n    <tr>\n      <th>22512</th>\n      <td>15424044485875347082</td>\n      <td>13199182807431031308</td>\n      <td>1.0</td>\n      <td>3.0</td>\n      <td>Бизнес-модели основных секторов инновационной ...</td>\n      <td>13705271043836613455</td>\n      <td>сектор life sciences, выбор бизнесмодели, форм...</td>\n    </tr>\n    <tr>\n      <th>22513</th>\n      <td>15424044485875347082</td>\n      <td>4888736193471485129</td>\n      <td>1.0</td>\n      <td>3.0</td>\n      <td>Второй иностранный язык (немецкий). Уровень А2</td>\n      <td>4541588325103734182</td>\n      <td>выражение мнения, выражение мнения, модели нор...</td>\n    </tr>\n    <tr>\n      <th>22514</th>\n      <td>15424044485875347082</td>\n      <td>4888736193471485129</td>\n      <td>1.0</td>\n      <td>3.0</td>\n      <td>Второй иностранный язык (немецкий). Уровень А2</td>\n      <td>4541588325103734182</td>\n      <td>NaN</td>\n    </tr>\n    <tr>\n      <th>22515</th>\n      <td>15424044485875347082</td>\n      <td>9075687484357010791</td>\n      <td>0.0</td>\n      <td>3.0</td>\n      <td>Физическая культура (элективная дисциплина)</td>\n      <td>9092018987667145739</td>\n      <td>фитнес, единоборство, учебнотренировачная подг...</td>\n    </tr>\n    <tr>\n      <th>22516</th>\n      <td>15424044485875347082</td>\n      <td>9075687484357010791</td>\n      <td>0.0</td>\n      <td>3.0</td>\n      <td>Физическая культура (элективная дисциплина)</td>\n      <td>9092018987667145739</td>\n      <td>NaN</td>\n    </tr>\n  </tbody>\n</table>\n<p>22517 rows × 7 columns</p>\n</div>"
     },
     "execution_count": 6,
     "metadata": {},
     "output_type": "execute_result"
    }
   ],
   "source": [
    "# Description of discipline\n",
    "comp_disc"
   ]
  },
  {
   "cell_type": "code",
   "execution_count": 7,
   "metadata": {
    "datalore": {
     "hide_input_from_viewers": false,
     "hide_output_from_viewers": false,
     "type": "CODE"
    },
    "pycharm": {
     "name": "#%%\n"
    }
   },
   "outputs": [
    {
     "data": {
      "text/plain": "                       ISU GENDER  DATE_BIRTH    ST_YEAR  SEMESTER  \\\n0     10629403761260861411      М        1975  2020/2021       4.0   \n1     10629403761260861411      М        1975  2018/2019       2.0   \n2     10629403761260861411      М        1975  2019/2020       4.0   \n3     10629403761260861411      М        1975  2018/2019       2.0   \n4     10629403761260861411      М        1975  2018/2019       2.0   \n...                    ...    ...         ...        ...       ...   \n5549  11372188095720335175      М        1986  2020/2021       NaN   \n5550  11372188095720335175      М        1986  2020/2021       NaN   \n5551  11372188095720335175      М        1986  2020/2021       3.0   \n5552  11372188095720335175      М        1986  2020/2021       NaN   \n5553  11372188095720335175      М        1986  2020/2021       NaN   \n\n                   DISC_ID             MAIN_PLAN                 TYPE_NAME  \\\n0     13112935959748478559  10080731777079285074  Дифференцированный зачет   \n1      9080510863460073035  15820306466107805201  Дифференцированный зачет   \n2      5019820477479850617   3636112309748229871                   Экзамен   \n3      2604062592206042930   3636112309748229871  Дифференцированный зачет   \n4      2604062592206042930   3636112309748229871           Курсовой проект   \n...                    ...                   ...                       ...   \n5549   7766831654069050069   2580376221820191753                       NaN   \n5550   7766831654069050069   7130526432801337743                       NaN   \n5551   7766831654069050069   3259025934245756351                   Экзамен   \n5552   5066897240534486806  12572440150254943648                       NaN   \n5553   5066897240534486806   5362976524072356586                       NaN   \n\n          MARK  \n0     3.471698  \n1     4.243902  \n2     4.652174  \n3     4.266667  \n4     4.266667  \n...        ...  \n5549       NaN  \n5550       NaN  \n5551  3.884615  \n5552       NaN  \n5553       NaN  \n\n[5554 rows x 9 columns]",
      "text/html": "<div>\n<style scoped>\n    .dataframe tbody tr th:only-of-type {\n        vertical-align: middle;\n    }\n\n    .dataframe tbody tr th {\n        vertical-align: top;\n    }\n\n    .dataframe thead th {\n        text-align: right;\n    }\n</style>\n<table border=\"1\" class=\"dataframe\">\n  <thead>\n    <tr style=\"text-align: right;\">\n      <th></th>\n      <th>ISU</th>\n      <th>GENDER</th>\n      <th>DATE_BIRTH</th>\n      <th>ST_YEAR</th>\n      <th>SEMESTER</th>\n      <th>DISC_ID</th>\n      <th>MAIN_PLAN</th>\n      <th>TYPE_NAME</th>\n      <th>MARK</th>\n    </tr>\n  </thead>\n  <tbody>\n    <tr>\n      <th>0</th>\n      <td>10629403761260861411</td>\n      <td>М</td>\n      <td>1975</td>\n      <td>2020/2021</td>\n      <td>4.0</td>\n      <td>13112935959748478559</td>\n      <td>10080731777079285074</td>\n      <td>Дифференцированный зачет</td>\n      <td>3.471698</td>\n    </tr>\n    <tr>\n      <th>1</th>\n      <td>10629403761260861411</td>\n      <td>М</td>\n      <td>1975</td>\n      <td>2018/2019</td>\n      <td>2.0</td>\n      <td>9080510863460073035</td>\n      <td>15820306466107805201</td>\n      <td>Дифференцированный зачет</td>\n      <td>4.243902</td>\n    </tr>\n    <tr>\n      <th>2</th>\n      <td>10629403761260861411</td>\n      <td>М</td>\n      <td>1975</td>\n      <td>2019/2020</td>\n      <td>4.0</td>\n      <td>5019820477479850617</td>\n      <td>3636112309748229871</td>\n      <td>Экзамен</td>\n      <td>4.652174</td>\n    </tr>\n    <tr>\n      <th>3</th>\n      <td>10629403761260861411</td>\n      <td>М</td>\n      <td>1975</td>\n      <td>2018/2019</td>\n      <td>2.0</td>\n      <td>2604062592206042930</td>\n      <td>3636112309748229871</td>\n      <td>Дифференцированный зачет</td>\n      <td>4.266667</td>\n    </tr>\n    <tr>\n      <th>4</th>\n      <td>10629403761260861411</td>\n      <td>М</td>\n      <td>1975</td>\n      <td>2018/2019</td>\n      <td>2.0</td>\n      <td>2604062592206042930</td>\n      <td>3636112309748229871</td>\n      <td>Курсовой проект</td>\n      <td>4.266667</td>\n    </tr>\n    <tr>\n      <th>...</th>\n      <td>...</td>\n      <td>...</td>\n      <td>...</td>\n      <td>...</td>\n      <td>...</td>\n      <td>...</td>\n      <td>...</td>\n      <td>...</td>\n      <td>...</td>\n    </tr>\n    <tr>\n      <th>5549</th>\n      <td>11372188095720335175</td>\n      <td>М</td>\n      <td>1986</td>\n      <td>2020/2021</td>\n      <td>NaN</td>\n      <td>7766831654069050069</td>\n      <td>2580376221820191753</td>\n      <td>NaN</td>\n      <td>NaN</td>\n    </tr>\n    <tr>\n      <th>5550</th>\n      <td>11372188095720335175</td>\n      <td>М</td>\n      <td>1986</td>\n      <td>2020/2021</td>\n      <td>NaN</td>\n      <td>7766831654069050069</td>\n      <td>7130526432801337743</td>\n      <td>NaN</td>\n      <td>NaN</td>\n    </tr>\n    <tr>\n      <th>5551</th>\n      <td>11372188095720335175</td>\n      <td>М</td>\n      <td>1986</td>\n      <td>2020/2021</td>\n      <td>3.0</td>\n      <td>7766831654069050069</td>\n      <td>3259025934245756351</td>\n      <td>Экзамен</td>\n      <td>3.884615</td>\n    </tr>\n    <tr>\n      <th>5552</th>\n      <td>11372188095720335175</td>\n      <td>М</td>\n      <td>1986</td>\n      <td>2020/2021</td>\n      <td>NaN</td>\n      <td>5066897240534486806</td>\n      <td>12572440150254943648</td>\n      <td>NaN</td>\n      <td>NaN</td>\n    </tr>\n    <tr>\n      <th>5553</th>\n      <td>11372188095720335175</td>\n      <td>М</td>\n      <td>1986</td>\n      <td>2020/2021</td>\n      <td>NaN</td>\n      <td>5066897240534486806</td>\n      <td>5362976524072356586</td>\n      <td>NaN</td>\n      <td>NaN</td>\n    </tr>\n  </tbody>\n</table>\n<p>5554 rows × 9 columns</p>\n</div>"
     },
     "execution_count": 7,
     "metadata": {},
     "output_type": "execute_result"
    }
   ],
   "source": [
    "# Description of teachers\n",
    "comp_teachers"
   ]
  },
  {
   "cell_type": "code",
   "execution_count": 8,
   "metadata": {
    "datalore": {
     "hide_input_from_viewers": false,
     "hide_output_from_viewers": false,
     "type": "CODE"
    },
    "pycharm": {
     "name": "#%%\n"
    }
   },
   "outputs": [
    {
     "data": {
      "text/plain": "                         ISU  ST_YEAR  SEMESTER               DISC_ID  \\\n0       17623928044460629977     2020         1  10502311854018326223   \n1       17623928044460629977     2020         1   1601392918367593206   \n2       17623928044460629977     2020         1   9559803959325174929   \n3       17623928044460629977     2020         1   8955667882044263414   \n4       17623928044460629977     2020         1  17741967398854095262   \n...                      ...      ...       ...                   ...   \n178894    695318259917739302     2019         1   1601392918367593206   \n178895  11038830203489115866     2019         4  14502000618530751637   \n178896  12167247650939870440     2020         5  15116680349425546846   \n178897  11497011754958610988     2020         3  15855310178528035667   \n178898  12806491784692025885     2020         6  18074319180892552096   \n\n       TYPE_NAME  DEBT  \n0          Зачет     0  \n1          Зачет     0  \n2          Зачет     0  \n3          Зачет     0  \n4        Экзамен     0  \n...          ...   ...  \n178894     Зачет     0  \n178895     Зачет     0  \n178896   Экзамен     0  \n178897     Зачет     0  \n178898     Зачет     0  \n\n[178899 rows x 6 columns]",
      "text/html": "<div>\n<style scoped>\n    .dataframe tbody tr th:only-of-type {\n        vertical-align: middle;\n    }\n\n    .dataframe tbody tr th {\n        vertical-align: top;\n    }\n\n    .dataframe thead th {\n        text-align: right;\n    }\n</style>\n<table border=\"1\" class=\"dataframe\">\n  <thead>\n    <tr style=\"text-align: right;\">\n      <th></th>\n      <th>ISU</th>\n      <th>ST_YEAR</th>\n      <th>SEMESTER</th>\n      <th>DISC_ID</th>\n      <th>TYPE_NAME</th>\n      <th>DEBT</th>\n    </tr>\n  </thead>\n  <tbody>\n    <tr>\n      <th>0</th>\n      <td>17623928044460629977</td>\n      <td>2020</td>\n      <td>1</td>\n      <td>10502311854018326223</td>\n      <td>Зачет</td>\n      <td>0</td>\n    </tr>\n    <tr>\n      <th>1</th>\n      <td>17623928044460629977</td>\n      <td>2020</td>\n      <td>1</td>\n      <td>1601392918367593206</td>\n      <td>Зачет</td>\n      <td>0</td>\n    </tr>\n    <tr>\n      <th>2</th>\n      <td>17623928044460629977</td>\n      <td>2020</td>\n      <td>1</td>\n      <td>9559803959325174929</td>\n      <td>Зачет</td>\n      <td>0</td>\n    </tr>\n    <tr>\n      <th>3</th>\n      <td>17623928044460629977</td>\n      <td>2020</td>\n      <td>1</td>\n      <td>8955667882044263414</td>\n      <td>Зачет</td>\n      <td>0</td>\n    </tr>\n    <tr>\n      <th>4</th>\n      <td>17623928044460629977</td>\n      <td>2020</td>\n      <td>1</td>\n      <td>17741967398854095262</td>\n      <td>Экзамен</td>\n      <td>0</td>\n    </tr>\n    <tr>\n      <th>...</th>\n      <td>...</td>\n      <td>...</td>\n      <td>...</td>\n      <td>...</td>\n      <td>...</td>\n      <td>...</td>\n    </tr>\n    <tr>\n      <th>178894</th>\n      <td>695318259917739302</td>\n      <td>2019</td>\n      <td>1</td>\n      <td>1601392918367593206</td>\n      <td>Зачет</td>\n      <td>0</td>\n    </tr>\n    <tr>\n      <th>178895</th>\n      <td>11038830203489115866</td>\n      <td>2019</td>\n      <td>4</td>\n      <td>14502000618530751637</td>\n      <td>Зачет</td>\n      <td>0</td>\n    </tr>\n    <tr>\n      <th>178896</th>\n      <td>12167247650939870440</td>\n      <td>2020</td>\n      <td>5</td>\n      <td>15116680349425546846</td>\n      <td>Экзамен</td>\n      <td>0</td>\n    </tr>\n    <tr>\n      <th>178897</th>\n      <td>11497011754958610988</td>\n      <td>2020</td>\n      <td>3</td>\n      <td>15855310178528035667</td>\n      <td>Зачет</td>\n      <td>0</td>\n    </tr>\n    <tr>\n      <th>178898</th>\n      <td>12806491784692025885</td>\n      <td>2020</td>\n      <td>6</td>\n      <td>18074319180892552096</td>\n      <td>Зачет</td>\n      <td>0</td>\n    </tr>\n  </tbody>\n</table>\n<p>178899 rows × 6 columns</p>\n</div>"
     },
     "execution_count": 8,
     "metadata": {},
     "output_type": "execute_result"
    }
   ],
   "source": [
    "train"
   ]
  },
  {
   "cell_type": "code",
   "execution_count": 9,
   "metadata": {
    "datalore": {
     "hide_input_from_viewers": false,
     "hide_output_from_viewers": false,
     "type": "CODE"
    },
    "pycharm": {
     "name": "#%%\n"
    }
   },
   "outputs": [
    {
     "data": {
      "text/plain": "                        ISU  ST_YEAR  SEMESTER               DISC_ID TYPE_NAME\n0         22160896830459167     2021         3    552619236026332123   Экзамен\n1         22160896830459167     2021         3   5702509582319458883     Зачет\n2         22160896830459167     2021         3   7735626259430674628     Зачет\n3         22160896830459167     2021         3   8955667882044263414     Зачет\n4         22160896830459167     2021         3   9075687484357010791     Зачет\n...                     ...      ...       ...                   ...       ...\n30908  18441846113897984349     2021         5   9075687484357010791     Зачет\n30909  18441846113897984349     2021         5  11240958499619480192     Зачет\n30910  18441846113897984349     2021         5  11511957009955804990     Зачет\n30911  18441846113897984349     2021         5  11807846188624377660   Экзамен\n30912  18441846113897984349     2021         5  16952231586163840107     Зачет\n\n[30913 rows x 5 columns]",
      "text/html": "<div>\n<style scoped>\n    .dataframe tbody tr th:only-of-type {\n        vertical-align: middle;\n    }\n\n    .dataframe tbody tr th {\n        vertical-align: top;\n    }\n\n    .dataframe thead th {\n        text-align: right;\n    }\n</style>\n<table border=\"1\" class=\"dataframe\">\n  <thead>\n    <tr style=\"text-align: right;\">\n      <th></th>\n      <th>ISU</th>\n      <th>ST_YEAR</th>\n      <th>SEMESTER</th>\n      <th>DISC_ID</th>\n      <th>TYPE_NAME</th>\n    </tr>\n  </thead>\n  <tbody>\n    <tr>\n      <th>0</th>\n      <td>22160896830459167</td>\n      <td>2021</td>\n      <td>3</td>\n      <td>552619236026332123</td>\n      <td>Экзамен</td>\n    </tr>\n    <tr>\n      <th>1</th>\n      <td>22160896830459167</td>\n      <td>2021</td>\n      <td>3</td>\n      <td>5702509582319458883</td>\n      <td>Зачет</td>\n    </tr>\n    <tr>\n      <th>2</th>\n      <td>22160896830459167</td>\n      <td>2021</td>\n      <td>3</td>\n      <td>7735626259430674628</td>\n      <td>Зачет</td>\n    </tr>\n    <tr>\n      <th>3</th>\n      <td>22160896830459167</td>\n      <td>2021</td>\n      <td>3</td>\n      <td>8955667882044263414</td>\n      <td>Зачет</td>\n    </tr>\n    <tr>\n      <th>4</th>\n      <td>22160896830459167</td>\n      <td>2021</td>\n      <td>3</td>\n      <td>9075687484357010791</td>\n      <td>Зачет</td>\n    </tr>\n    <tr>\n      <th>...</th>\n      <td>...</td>\n      <td>...</td>\n      <td>...</td>\n      <td>...</td>\n      <td>...</td>\n    </tr>\n    <tr>\n      <th>30908</th>\n      <td>18441846113897984349</td>\n      <td>2021</td>\n      <td>5</td>\n      <td>9075687484357010791</td>\n      <td>Зачет</td>\n    </tr>\n    <tr>\n      <th>30909</th>\n      <td>18441846113897984349</td>\n      <td>2021</td>\n      <td>5</td>\n      <td>11240958499619480192</td>\n      <td>Зачет</td>\n    </tr>\n    <tr>\n      <th>30910</th>\n      <td>18441846113897984349</td>\n      <td>2021</td>\n      <td>5</td>\n      <td>11511957009955804990</td>\n      <td>Зачет</td>\n    </tr>\n    <tr>\n      <th>30911</th>\n      <td>18441846113897984349</td>\n      <td>2021</td>\n      <td>5</td>\n      <td>11807846188624377660</td>\n      <td>Экзамен</td>\n    </tr>\n    <tr>\n      <th>30912</th>\n      <td>18441846113897984349</td>\n      <td>2021</td>\n      <td>5</td>\n      <td>16952231586163840107</td>\n      <td>Зачет</td>\n    </tr>\n  </tbody>\n</table>\n<p>30913 rows × 5 columns</p>\n</div>"
     },
     "execution_count": 9,
     "metadata": {},
     "output_type": "execute_result"
    }
   ],
   "source": [
    "test"
   ]
  },
  {
   "cell_type": "code",
   "execution_count": 10,
   "metadata": {
    "datalore": {
     "hide_input_from_viewers": false,
     "hide_output_from_viewers": false,
     "type": "CODE"
    },
    "pycharm": {
     "name": "#%%\n"
    }
   },
   "outputs": [
    {
     "data": {
      "text/plain": "                                                      ID  DEBT\n0      ISU:22160896830459167 | ST_YEAR:2021 | DISC_ID...     1\n1      ISU:22160896830459167 | ST_YEAR:2021 | DISC_ID...     0\n2      ISU:22160896830459167 | ST_YEAR:2021 | DISC_ID...     0\n3      ISU:22160896830459167 | ST_YEAR:2021 | DISC_ID...     0\n4      ISU:22160896830459167 | ST_YEAR:2021 | DISC_ID...     0\n...                                                  ...   ...\n30908  ISU:18441846113897984349 | ST_YEAR:2021 | DISC...     0\n30909  ISU:18441846113897984349 | ST_YEAR:2021 | DISC...     0\n30910  ISU:18441846113897984349 | ST_YEAR:2021 | DISC...     0\n30911  ISU:18441846113897984349 | ST_YEAR:2021 | DISC...     0\n30912  ISU:18441846113897984349 | ST_YEAR:2021 | DISC...     0\n\n[30913 rows x 2 columns]",
      "text/html": "<div>\n<style scoped>\n    .dataframe tbody tr th:only-of-type {\n        vertical-align: middle;\n    }\n\n    .dataframe tbody tr th {\n        vertical-align: top;\n    }\n\n    .dataframe thead th {\n        text-align: right;\n    }\n</style>\n<table border=\"1\" class=\"dataframe\">\n  <thead>\n    <tr style=\"text-align: right;\">\n      <th></th>\n      <th>ID</th>\n      <th>DEBT</th>\n    </tr>\n  </thead>\n  <tbody>\n    <tr>\n      <th>0</th>\n      <td>ISU:22160896830459167 | ST_YEAR:2021 | DISC_ID...</td>\n      <td>1</td>\n    </tr>\n    <tr>\n      <th>1</th>\n      <td>ISU:22160896830459167 | ST_YEAR:2021 | DISC_ID...</td>\n      <td>0</td>\n    </tr>\n    <tr>\n      <th>2</th>\n      <td>ISU:22160896830459167 | ST_YEAR:2021 | DISC_ID...</td>\n      <td>0</td>\n    </tr>\n    <tr>\n      <th>3</th>\n      <td>ISU:22160896830459167 | ST_YEAR:2021 | DISC_ID...</td>\n      <td>0</td>\n    </tr>\n    <tr>\n      <th>4</th>\n      <td>ISU:22160896830459167 | ST_YEAR:2021 | DISC_ID...</td>\n      <td>0</td>\n    </tr>\n    <tr>\n      <th>...</th>\n      <td>...</td>\n      <td>...</td>\n    </tr>\n    <tr>\n      <th>30908</th>\n      <td>ISU:18441846113897984349 | ST_YEAR:2021 | DISC...</td>\n      <td>0</td>\n    </tr>\n    <tr>\n      <th>30909</th>\n      <td>ISU:18441846113897984349 | ST_YEAR:2021 | DISC...</td>\n      <td>0</td>\n    </tr>\n    <tr>\n      <th>30910</th>\n      <td>ISU:18441846113897984349 | ST_YEAR:2021 | DISC...</td>\n      <td>0</td>\n    </tr>\n    <tr>\n      <th>30911</th>\n      <td>ISU:18441846113897984349 | ST_YEAR:2021 | DISC...</td>\n      <td>0</td>\n    </tr>\n    <tr>\n      <th>30912</th>\n      <td>ISU:18441846113897984349 | ST_YEAR:2021 | DISC...</td>\n      <td>0</td>\n    </tr>\n  </tbody>\n</table>\n<p>30913 rows × 2 columns</p>\n</div>"
     },
     "execution_count": 10,
     "metadata": {},
     "output_type": "execute_result"
    }
   ],
   "source": [
    "sample_submission"
   ]
  },
  {
   "cell_type": "code",
   "execution_count": 11,
   "metadata": {
    "datalore": {
     "hide_input_from_viewers": false,
     "hide_output_from_viewers": false,
     "type": "CODE"
    },
    "pycharm": {
     "name": "#%%\n"
    }
   },
   "outputs": [
    {
     "name": "stdout",
     "output_type": "stream",
     "text": [
      "True\n",
      "\n",
      "True\n",
      "False\n",
      "True\n",
      "False\n",
      "\n",
      "False\n",
      "False\n",
      "\n",
      "True     30909\n",
      "False        4\n",
      "Name: DISC_ID, dtype: int64\n"
     ]
    }
   ],
   "source": [
    "print(comp_marks[\"ISU\"].isin(comp_portrait[\"ISU\"]).all())\n",
    "print()\n",
    "print(test[\"ISU\"].isin(train[\"ISU\"]).all())\n",
    "print(test[\"DISC_ID\"].isin(train[\"DISC_ID\"]).all())\n",
    "print(test[\"ISU\"].isin(comp_portrait[\"ISU\"]).all())\n",
    "print(test[\"ISU\"].isin(comp_marks[\"ISU\"]).all())\n",
    "\n",
    "print()\n",
    "print(test[\"DISC_ID\"].isin(train[\"DISC_ID\"]).all())\n",
    "print(test[\"DISC_ID\"].isin(comp_marks[\"DISC_ID\"]).all())\n",
    "print()\n",
    "print(test[\"DISC_ID\"].isin(comp_disc[\"DISC_ID\"]).value_counts())\n",
    "# print()\n",
    "# print(test[~test[\"DISC_ID\"].isin(comp_disc[\"DISC_ID\"])])\n",
    "# print(test[\"DISC_ID\"].isin(pd.merge(comp_disc[\"DISC_ID\"], comp_marks[\"DISC_ID\"])).value_counts())"
   ]
  },
  {
   "cell_type": "code",
   "execution_count": 12,
   "metadata": {
    "datalore": {
     "hide_input_from_viewers": false,
     "hide_output_from_viewers": false,
     "type": "CODE"
    },
    "pycharm": {
     "name": "#%%\n"
    }
   },
   "outputs": [
    {
     "name": "stdout",
     "output_type": "stream",
     "text": [
      "True False True\n",
      "True True False\n"
     ]
    }
   ],
   "source": [
    "t1 = comp_portrait[\"EXAM_SUBJECT_1\"].unique()\n",
    "t2 = comp_portrait[\"EXAM_SUBJECT_2\"].unique()\n",
    "t3 = comp_portrait[\"EXAM_SUBJECT_3\"].unique()\n",
    "print(np.isin(t1, t2).all(), np.isin(t2, t3).all(), np.isin(t3, t1).all())\n",
    "print(np.isin(t2, t1).all(), np.isin(t3, t2).all(), np.isin(t1, t3).all())\n",
    "# EXAM_SUBJECT_3 is incomplete, but this is not a problem"
   ]
  },
  {
   "cell_type": "code",
   "execution_count": 13,
   "outputs": [
    {
     "data": {
      "text/plain": "   A  B\n0  0  1\n1  0  1\n2  0  1",
      "text/html": "<div>\n<style scoped>\n    .dataframe tbody tr th:only-of-type {\n        vertical-align: middle;\n    }\n\n    .dataframe tbody tr th {\n        vertical-align: top;\n    }\n\n    .dataframe thead th {\n        text-align: right;\n    }\n</style>\n<table border=\"1\" class=\"dataframe\">\n  <thead>\n    <tr style=\"text-align: right;\">\n      <th></th>\n      <th>A</th>\n      <th>B</th>\n    </tr>\n  </thead>\n  <tbody>\n    <tr>\n      <th>0</th>\n      <td>0</td>\n      <td>1</td>\n    </tr>\n    <tr>\n      <th>1</th>\n      <td>0</td>\n      <td>1</td>\n    </tr>\n    <tr>\n      <th>2</th>\n      <td>0</td>\n      <td>1</td>\n    </tr>\n  </tbody>\n</table>\n</div>"
     },
     "execution_count": 13,
     "metadata": {},
     "output_type": "execute_result"
    }
   ],
   "source": [
    "def f(x):\n",
    "    x[0] = 0\n",
    "    x[1] = 1\n",
    "    return x\n",
    "df = pd.DataFrame([[4, 9]] * 3, columns=['A', 'B'])\n",
    "df.apply(f, axis=1)"
   ],
   "metadata": {
    "collapsed": false,
    "pycharm": {
     "name": "#%%\n"
    }
   }
  },
  {
   "cell_type": "markdown",
   "source": [
    "## Make data for model training"
   ],
   "metadata": {
    "collapsed": false,
    "pycharm": {
     "name": "#%% md\n"
    }
   }
  },
  {
   "cell_type": "code",
   "execution_count": 14,
   "outputs": [
    {
     "data": {
      "text/plain": "                      SEMESTER\nDISC_ID                       \n5431184050471578           2.0\n6947608674753041           3.0\n10928733136090636          6.0\n13187948132681189          2.0\n18938951954663142          2.0\n...                        ...\n18423222245760976082       2.0\n18423613269743954405       3.0\n18431371490397109397       6.0\n18437705586629069983       2.0\n18446365376079976954       3.0\n\n[4673 rows x 1 columns]",
      "text/html": "<div>\n<style scoped>\n    .dataframe tbody tr th:only-of-type {\n        vertical-align: middle;\n    }\n\n    .dataframe tbody tr th {\n        vertical-align: top;\n    }\n\n    .dataframe thead th {\n        text-align: right;\n    }\n</style>\n<table border=\"1\" class=\"dataframe\">\n  <thead>\n    <tr style=\"text-align: right;\">\n      <th></th>\n      <th>SEMESTER</th>\n    </tr>\n    <tr>\n      <th>DISC_ID</th>\n      <th></th>\n    </tr>\n  </thead>\n  <tbody>\n    <tr>\n      <th>5431184050471578</th>\n      <td>2.0</td>\n    </tr>\n    <tr>\n      <th>6947608674753041</th>\n      <td>3.0</td>\n    </tr>\n    <tr>\n      <th>10928733136090636</th>\n      <td>6.0</td>\n    </tr>\n    <tr>\n      <th>13187948132681189</th>\n      <td>2.0</td>\n    </tr>\n    <tr>\n      <th>18938951954663142</th>\n      <td>2.0</td>\n    </tr>\n    <tr>\n      <th>...</th>\n      <td>...</td>\n    </tr>\n    <tr>\n      <th>18423222245760976082</th>\n      <td>2.0</td>\n    </tr>\n    <tr>\n      <th>18423613269743954405</th>\n      <td>3.0</td>\n    </tr>\n    <tr>\n      <th>18431371490397109397</th>\n      <td>6.0</td>\n    </tr>\n    <tr>\n      <th>18437705586629069983</th>\n      <td>2.0</td>\n    </tr>\n    <tr>\n      <th>18446365376079976954</th>\n      <td>3.0</td>\n    </tr>\n  </tbody>\n</table>\n<p>4673 rows × 1 columns</p>\n</div>"
     },
     "execution_count": 14,
     "metadata": {},
     "output_type": "execute_result"
    }
   ],
   "source": [
    "semester_of_disc = comp_disc[[\"DISC_ID\", \"SEMESTER\"]]\n",
    "semester_of_disc = semester_of_disc.groupby(\"DISC_ID\").min()\n",
    "semester_of_disc"
   ],
   "metadata": {
    "collapsed": false,
    "pycharm": {
     "name": "#%%\n"
    }
   }
  },
  {
   "cell_type": "code",
   "execution_count": 15,
   "outputs": [],
   "source": [
    "def erase_disc(row, piv_tab_cols):\n",
    "    # TODO проверить правильно ли оно работает\n",
    "    \"\"\"\n",
    "    Erase the mark for the same subject from the line with the subject\n",
    "    :param row: row of students_table\n",
    "    :param piv_tab_cols: name of columns pivot_table\n",
    "    :return:\n",
    "    \"\"\"\n",
    "    disc = row[\"DISC_ID\"]\n",
    "    if disc not in piv_tab_cols:\n",
    "        return row\n",
    "    row[disc] = 0\n",
    "    return row"
   ],
   "metadata": {
    "collapsed": false,
    "pycharm": {
     "name": "#%%\n"
    }
   }
  },
  {
   "cell_type": "code",
   "execution_count": 16,
   "outputs": [],
   "source": [
    "def erase_future_disc(row, piv_tab_cols, semesters):\n",
    "    cur_sem = row[\"SEMESTER\"]\n",
    "    disc_to_erase = piv_tab_cols[semesters >= cur_sem]\n",
    "    row[disc_to_erase] = 0\n",
    "    return row"
   ],
   "metadata": {
    "collapsed": false,
    "pycharm": {
     "name": "#%%\n"
    }
   }
  },
  {
   "cell_type": "code",
   "execution_count": 17,
   "metadata": {
    "datalore": {
     "hide_input_from_viewers": false,
     "hide_output_from_viewers": false,
     "type": "CODE"
    },
    "pycharm": {
     "name": "#%%\n"
    }
   },
   "outputs": [
    {
     "name": "stdout",
     "output_type": "stream",
     "text": [
      "(138,)\n",
      "******\n",
      "CPU times: total: 2min 35s\n",
      "Wall time: 2min 36s\n"
     ]
    },
    {
     "data": {
      "text/plain": "                         ISU               DISC_ID  DEBT  ADMITTED_EXAM_1  \\\n0       17623928044460629977  10502311854018326223     0             78.0   \n1       17623928044460629977   1601392918367593206     0             78.0   \n2       17623928044460629977   9559803959325174929     0             78.0   \n3       17623928044460629977   8955667882044263414     0             78.0   \n4       17623928044460629977  17741967398854095262     0             78.0   \n...                      ...                   ...   ...              ...   \n186439   4183409784835048954  11780410418462562766     0             70.0   \n186440   4183409784835048954   5390045268612005024     0             70.0   \n186441   4183409784835048954  13380346061330718296     0             70.0   \n186442   4183409784835048954   9075687484357010791     0             70.0   \n186443   4183409784835048954   9075687484357010791     0             70.0   \n\n        ADMITTED_EXAM_2  ADMITTED_EXAM_3  MARK     MAIN_PLAN       PRED_ID  \\\n0                  79.0             91.0     4  4.664713e+18  5.087927e+18   \n1                  79.0             91.0     4  4.664713e+18  5.087927e+18   \n2                  79.0             91.0     4  4.664713e+18  5.087927e+18   \n3                  79.0             91.0     4  4.664713e+18  5.087927e+18   \n4                  79.0             91.0     3  4.664713e+18  5.087927e+18   \n...                 ...              ...   ...           ...           ...   \n186439             64.0             91.0     0  0.000000e+00  0.000000e+00   \n186440             64.0             91.0     0  0.000000e+00  0.000000e+00   \n186441             64.0             91.0     0  0.000000e+00  0.000000e+00   \n186442             64.0             91.0     0  0.000000e+00  0.000000e+00   \n186443             64.0             91.0     0  0.000000e+00  0.000000e+00   \n\n        9028324525774925341  ...  TYPE_NAME_Дифференцированный зачет  \\\n0                       0.0  ...                                   0   \n1                       0.0  ...                                   0   \n2                       0.0  ...                                   0   \n3                       0.0  ...                                   0   \n4                       0.0  ...                                   0   \n...                     ...  ...                                 ...   \n186439                  0.0  ...                                   0   \n186440                  0.0  ...                                   0   \n186441                  0.0  ...                                   0   \n186442                  0.0  ...                                   0   \n186443                  0.0  ...                                   0   \n\n        TYPE_NAME_Зачет  TYPE_NAME_Курсовой проект  TYPE_NAME_Экзамен  \\\n0                     1                          0                  0   \n1                     1                          0                  0   \n2                     1                          0                  0   \n3                     1                          0                  0   \n4                     0                          0                  1   \n...                 ...                        ...                ...   \n186439                1                          0                  0   \n186440                1                          0                  0   \n186441                1                          0                  0   \n186442                1                          0                  0   \n186443                1                          0                  0   \n\n        ADMITTED_SUBJECT_PRIZE_LEVEL_0.0  ADMITTED_SUBJECT_PRIZE_LEVEL_1.0  \\\n0                                      0                                 0   \n1                                      0                                 0   \n2                                      0                                 0   \n3                                      0                                 0   \n4                                      0                                 0   \n...                                  ...                               ...   \n186439                                 0                                 0   \n186440                                 0                                 0   \n186441                                 0                                 0   \n186442                                 0                                 0   \n186443                                 0                                 0   \n\n        ADMITTED_SUBJECT_PRIZE_LEVEL_2.0  ADMITTED_SUBJECT_PRIZE_LEVEL_3.0  \\\n0                                      0                                 0   \n1                                      0                                 0   \n2                                      0                                 0   \n3                                      0                                 0   \n4                                      0                                 0   \n...                                  ...                               ...   \n186439                                 0                                 0   \n186440                                 0                                 0   \n186441                                 0                                 0   \n186442                                 0                                 0   \n186443                                 0                                 0   \n\n        ADMITTED_SUBJECT_PRIZE_LEVEL_4.0  ADMITTED_SUBJECT_PRIZE_LEVEL_ЕГЭ  \n0                                      0                                 1  \n1                                      0                                 1  \n2                                      0                                 1  \n3                                      0                                 1  \n4                                      0                                 1  \n...                                  ...                               ...  \n186439                                 0                                 1  \n186440                                 0                                 1  \n186441                                 0                                 1  \n186442                                 0                                 1  \n186443                                 0                                 1  \n\n[186444 rows x 287 columns]",
      "text/html": "<div>\n<style scoped>\n    .dataframe tbody tr th:only-of-type {\n        vertical-align: middle;\n    }\n\n    .dataframe tbody tr th {\n        vertical-align: top;\n    }\n\n    .dataframe thead th {\n        text-align: right;\n    }\n</style>\n<table border=\"1\" class=\"dataframe\">\n  <thead>\n    <tr style=\"text-align: right;\">\n      <th></th>\n      <th>ISU</th>\n      <th>DISC_ID</th>\n      <th>DEBT</th>\n      <th>ADMITTED_EXAM_1</th>\n      <th>ADMITTED_EXAM_2</th>\n      <th>ADMITTED_EXAM_3</th>\n      <th>MARK</th>\n      <th>MAIN_PLAN</th>\n      <th>PRED_ID</th>\n      <th>9028324525774925341</th>\n      <th>...</th>\n      <th>TYPE_NAME_Дифференцированный зачет</th>\n      <th>TYPE_NAME_Зачет</th>\n      <th>TYPE_NAME_Курсовой проект</th>\n      <th>TYPE_NAME_Экзамен</th>\n      <th>ADMITTED_SUBJECT_PRIZE_LEVEL_0.0</th>\n      <th>ADMITTED_SUBJECT_PRIZE_LEVEL_1.0</th>\n      <th>ADMITTED_SUBJECT_PRIZE_LEVEL_2.0</th>\n      <th>ADMITTED_SUBJECT_PRIZE_LEVEL_3.0</th>\n      <th>ADMITTED_SUBJECT_PRIZE_LEVEL_4.0</th>\n      <th>ADMITTED_SUBJECT_PRIZE_LEVEL_ЕГЭ</th>\n    </tr>\n  </thead>\n  <tbody>\n    <tr>\n      <th>0</th>\n      <td>17623928044460629977</td>\n      <td>10502311854018326223</td>\n      <td>0</td>\n      <td>78.0</td>\n      <td>79.0</td>\n      <td>91.0</td>\n      <td>4</td>\n      <td>4.664713e+18</td>\n      <td>5.087927e+18</td>\n      <td>0.0</td>\n      <td>...</td>\n      <td>0</td>\n      <td>1</td>\n      <td>0</td>\n      <td>0</td>\n      <td>0</td>\n      <td>0</td>\n      <td>0</td>\n      <td>0</td>\n      <td>0</td>\n      <td>1</td>\n    </tr>\n    <tr>\n      <th>1</th>\n      <td>17623928044460629977</td>\n      <td>1601392918367593206</td>\n      <td>0</td>\n      <td>78.0</td>\n      <td>79.0</td>\n      <td>91.0</td>\n      <td>4</td>\n      <td>4.664713e+18</td>\n      <td>5.087927e+18</td>\n      <td>0.0</td>\n      <td>...</td>\n      <td>0</td>\n      <td>1</td>\n      <td>0</td>\n      <td>0</td>\n      <td>0</td>\n      <td>0</td>\n      <td>0</td>\n      <td>0</td>\n      <td>0</td>\n      <td>1</td>\n    </tr>\n    <tr>\n      <th>2</th>\n      <td>17623928044460629977</td>\n      <td>9559803959325174929</td>\n      <td>0</td>\n      <td>78.0</td>\n      <td>79.0</td>\n      <td>91.0</td>\n      <td>4</td>\n      <td>4.664713e+18</td>\n      <td>5.087927e+18</td>\n      <td>0.0</td>\n      <td>...</td>\n      <td>0</td>\n      <td>1</td>\n      <td>0</td>\n      <td>0</td>\n      <td>0</td>\n      <td>0</td>\n      <td>0</td>\n      <td>0</td>\n      <td>0</td>\n      <td>1</td>\n    </tr>\n    <tr>\n      <th>3</th>\n      <td>17623928044460629977</td>\n      <td>8955667882044263414</td>\n      <td>0</td>\n      <td>78.0</td>\n      <td>79.0</td>\n      <td>91.0</td>\n      <td>4</td>\n      <td>4.664713e+18</td>\n      <td>5.087927e+18</td>\n      <td>0.0</td>\n      <td>...</td>\n      <td>0</td>\n      <td>1</td>\n      <td>0</td>\n      <td>0</td>\n      <td>0</td>\n      <td>0</td>\n      <td>0</td>\n      <td>0</td>\n      <td>0</td>\n      <td>1</td>\n    </tr>\n    <tr>\n      <th>4</th>\n      <td>17623928044460629977</td>\n      <td>17741967398854095262</td>\n      <td>0</td>\n      <td>78.0</td>\n      <td>79.0</td>\n      <td>91.0</td>\n      <td>3</td>\n      <td>4.664713e+18</td>\n      <td>5.087927e+18</td>\n      <td>0.0</td>\n      <td>...</td>\n      <td>0</td>\n      <td>0</td>\n      <td>0</td>\n      <td>1</td>\n      <td>0</td>\n      <td>0</td>\n      <td>0</td>\n      <td>0</td>\n      <td>0</td>\n      <td>1</td>\n    </tr>\n    <tr>\n      <th>...</th>\n      <td>...</td>\n      <td>...</td>\n      <td>...</td>\n      <td>...</td>\n      <td>...</td>\n      <td>...</td>\n      <td>...</td>\n      <td>...</td>\n      <td>...</td>\n      <td>...</td>\n      <td>...</td>\n      <td>...</td>\n      <td>...</td>\n      <td>...</td>\n      <td>...</td>\n      <td>...</td>\n      <td>...</td>\n      <td>...</td>\n      <td>...</td>\n      <td>...</td>\n      <td>...</td>\n    </tr>\n    <tr>\n      <th>186439</th>\n      <td>4183409784835048954</td>\n      <td>11780410418462562766</td>\n      <td>0</td>\n      <td>70.0</td>\n      <td>64.0</td>\n      <td>91.0</td>\n      <td>0</td>\n      <td>0.000000e+00</td>\n      <td>0.000000e+00</td>\n      <td>0.0</td>\n      <td>...</td>\n      <td>0</td>\n      <td>1</td>\n      <td>0</td>\n      <td>0</td>\n      <td>0</td>\n      <td>0</td>\n      <td>0</td>\n      <td>0</td>\n      <td>0</td>\n      <td>1</td>\n    </tr>\n    <tr>\n      <th>186440</th>\n      <td>4183409784835048954</td>\n      <td>5390045268612005024</td>\n      <td>0</td>\n      <td>70.0</td>\n      <td>64.0</td>\n      <td>91.0</td>\n      <td>0</td>\n      <td>0.000000e+00</td>\n      <td>0.000000e+00</td>\n      <td>0.0</td>\n      <td>...</td>\n      <td>0</td>\n      <td>1</td>\n      <td>0</td>\n      <td>0</td>\n      <td>0</td>\n      <td>0</td>\n      <td>0</td>\n      <td>0</td>\n      <td>0</td>\n      <td>1</td>\n    </tr>\n    <tr>\n      <th>186441</th>\n      <td>4183409784835048954</td>\n      <td>13380346061330718296</td>\n      <td>0</td>\n      <td>70.0</td>\n      <td>64.0</td>\n      <td>91.0</td>\n      <td>0</td>\n      <td>0.000000e+00</td>\n      <td>0.000000e+00</td>\n      <td>0.0</td>\n      <td>...</td>\n      <td>0</td>\n      <td>1</td>\n      <td>0</td>\n      <td>0</td>\n      <td>0</td>\n      <td>0</td>\n      <td>0</td>\n      <td>0</td>\n      <td>0</td>\n      <td>1</td>\n    </tr>\n    <tr>\n      <th>186442</th>\n      <td>4183409784835048954</td>\n      <td>9075687484357010791</td>\n      <td>0</td>\n      <td>70.0</td>\n      <td>64.0</td>\n      <td>91.0</td>\n      <td>0</td>\n      <td>0.000000e+00</td>\n      <td>0.000000e+00</td>\n      <td>0.0</td>\n      <td>...</td>\n      <td>0</td>\n      <td>1</td>\n      <td>0</td>\n      <td>0</td>\n      <td>0</td>\n      <td>0</td>\n      <td>0</td>\n      <td>0</td>\n      <td>0</td>\n      <td>1</td>\n    </tr>\n    <tr>\n      <th>186443</th>\n      <td>4183409784835048954</td>\n      <td>9075687484357010791</td>\n      <td>0</td>\n      <td>70.0</td>\n      <td>64.0</td>\n      <td>91.0</td>\n      <td>0</td>\n      <td>0.000000e+00</td>\n      <td>0.000000e+00</td>\n      <td>0.0</td>\n      <td>...</td>\n      <td>0</td>\n      <td>1</td>\n      <td>0</td>\n      <td>0</td>\n      <td>0</td>\n      <td>0</td>\n      <td>0</td>\n      <td>0</td>\n      <td>0</td>\n      <td>1</td>\n    </tr>\n  </tbody>\n</table>\n<p>186444 rows × 287 columns</p>\n</div>"
     },
     "execution_count": 17,
     "metadata": {},
     "output_type": "execute_result"
    }
   ],
   "source": [
    "%%time\n",
    "# students_table = pd.merge(comp_portrait, comp_marks, how=\"outer\")\n",
    "students_table = pd.merge(train, comp_portrait, how=\"inner\", on=\"ISU\")\n",
    "students_table = pd.merge(students_table, comp_marks, how=\"left\", on=[\"ISU\", \"DISC_ID\", \"SEMESTER\", \"ST_YEAR\", \"TYPE_NAME\"])\n",
    "\n",
    "# deal with nan\n",
    "for col in [\"ADMITTED_EXAM_1\", \"ADMITTED_EXAM_2\", \"ADMITTED_EXAM_3\"]:\n",
    "    students_table[col].fillna(students_table[col].mean(), inplace=True)\n",
    "students_table[[\"MARK\", \"PRED_ID\", \"MAIN_PLAN\"]] = students_table[[\"MARK\", \"PRED_ID\", \"MAIN_PLAN\"]].fillna(0)\n",
    "\n",
    "# print(students_table.info())\n",
    "# adding information about other disciplines\n",
    "count_disc = students_table.groupby(by=\"DISC_ID\", ).count()[\"ISU\"].sort_values(ascending=False)\n",
    "dics_to_add_to_students_table = count_disc[count_disc > 300].index\n",
    "students_table[\"MARK\"].replace([\"незач\", \"неявка\"], \"2\", inplace=True)\n",
    "students_table[\"MARK\"].replace([\"зачет\", \"осв\"], \"4\", inplace=True)\n",
    "students_table[\"MARK\"] = students_table[\"MARK\"].astype(\"int\")\n",
    "p_t = pd.pivot_table(students_table, values=\"MARK\", index=\"ISU\", columns=\"DISC_ID\", aggfunc=np.mean)\n",
    "p_t = p_t[dics_to_add_to_students_table]\n",
    "p_t.fillna(0, inplace=True)\n",
    "students_table = pd.merge(students_table, p_t, how=\"outer\", on=\"ISU\")\n",
    "\n",
    "# Erase mark of DISC_ID\n",
    "# students_table = students_table.apply(erase_disc, axis=1, args=[p_t.columns])\n",
    "\n",
    "# Erase marks of future disciplines, regarding current DICS_ID\n",
    "semesters_of_each_disc = semester_of_disc[semester_of_disc.index.isin(p_t.columns)][\"SEMESTER\"]\n",
    "print(semesters_of_each_disc.shape)\n",
    "students_table = students_table.apply(erase_future_disc, axis=1, args=[p_t.columns, semesters_of_each_disc])\n",
    "\n",
    "# make category\n",
    "categorical_columns = [\"CITIZENSHIP\", \"GENDER\", \"EXAM_TYPE\", \"EXAM_SUBJECT_1\", \"EXAM_SUBJECT_2\", \"EXAM_SUBJECT_3\",\n",
    "                       \"REGION_ID\", \"ST_YEAR\", \"SEMESTER\", \"TYPE_NAME\", \"ADMITTED_SUBJECT_PRIZE_LEVEL\"]\n",
    "for col in categorical_columns:\n",
    "    students_table[col] = students_table[col].astype('category')\n",
    "dummies = pd.get_dummies(students_table[categorical_columns], prefix=categorical_columns)\n",
    "students_table.drop(columns=categorical_columns, inplace=True)\n",
    "students_table = pd.concat([students_table, dummies], axis=\"columns\")\n",
    "\n",
    "# rename columns\n",
    "students_table.columns = [str(x_i) for x_i in students_table.columns]\n",
    "print(\"******\")\n",
    "students_table"
   ]
  },
  {
   "cell_type": "code",
   "execution_count": 18,
   "outputs": [
    {
     "data": {
      "text/plain": "(5095, 138)"
     },
     "execution_count": 18,
     "metadata": {},
     "output_type": "execute_result"
    }
   ],
   "source": [
    "p_t.shape"
   ],
   "metadata": {
    "collapsed": false,
    "pycharm": {
     "name": "#%%\n"
    }
   }
  },
  {
   "cell_type": "markdown",
   "metadata": {
    "datalore": {
     "hide_input_from_viewers": false,
     "hide_output_from_viewers": false,
     "type": "MD"
    },
    "pycharm": {
     "name": "#%% md\n"
    }
   },
   "source": [
    "## Check completeness of data"
   ]
  },
  {
   "cell_type": "code",
   "execution_count": 19,
   "outputs": [
    {
     "name": "stdout",
     "output_type": "stream",
     "text": [
      "[]\n",
      "CPU times: total: 10.7 s\n",
      "Wall time: 10.7 s\n"
     ]
    }
   ],
   "source": [
    "%%time\n",
    "errors = []\n",
    "for idx, row_ in students_table.iterrows():\n",
    "    disc = row_[\"DISC_ID\"]\n",
    "    if str(disc) in students_table.columns:\n",
    "        if students_table[str(disc)] != 0:\n",
    "           errors.append([idx, disc])\n",
    "print(errors)"
   ],
   "metadata": {
    "collapsed": false,
    "pycharm": {
     "name": "#%%\n"
    }
   }
  },
  {
   "cell_type": "code",
   "execution_count": 20,
   "metadata": {
    "datalore": {
     "hide_input_from_viewers": false,
     "hide_output_from_viewers": false,
     "type": "CODE"
    },
    "pycharm": {
     "name": "#%%\n"
    }
   },
   "outputs": [
    {
     "name": "stdout",
     "output_type": "stream",
     "text": [
      "True\n",
      "True\n",
      "True\n"
     ]
    }
   ],
   "source": [
    "print(test[\"ISU\"].isin(train[\"ISU\"]).value_counts().all())\n",
    "print(test[\"ISU\"].isin(students_table[\"ISU\"]).value_counts().all())\n",
    "print(students_table[\"ISU\"].isin(train[\"ISU\"]).value_counts().all())"
   ]
  },
  {
   "cell_type": "markdown",
   "metadata": {
    "datalore": {
     "hide_input_from_viewers": false,
     "hide_output_from_viewers": false,
     "type": "MD"
    },
    "pycharm": {
     "name": "#%% md\n"
    }
   },
   "source": [
    "## Making train/test data"
   ]
  },
  {
   "cell_type": "code",
   "execution_count": 21,
   "metadata": {
    "datalore": {
     "hide_input_from_viewers": false,
     "hide_output_from_viewers": false,
     "type": "CODE"
    },
    "pycharm": {
     "name": "#%%\n"
    }
   },
   "outputs": [
    {
     "name": "stdout",
     "output_type": "stream",
     "text": [
      "(154029, 282) (154029,)\n",
      "(32415, 282) (32415,)\n"
     ]
    }
   ],
   "source": [
    "data_x = students_table.drop(columns=[\"MAIN_PLAN\", \"PRED_ID\", \"ISU\", \"MARK\"])\n",
    "data_y = data_x[\"DEBT\"]\n",
    "data_x = data_x.drop(columns=[\"DEBT\"])\n",
    "\n",
    "\n",
    "indexes = np.arange(0, data_x.shape[0])\n",
    "np.random.shuffle(indexes)\n",
    "train_x = data_x.iloc[indexes, :]\n",
    "train_y = data_y.iloc[indexes]\n",
    "\n",
    "split_indexes = (train_x[\"ST_YEAR_2020\"] == 1) | (train_x[\"ST_YEAR_2019\"] == 1)\n",
    "\n",
    "test_x = train_x[~split_indexes]\n",
    "test_y = train_y[~split_indexes]\n",
    "train_x = train_x[split_indexes]\n",
    "train_y = train_y[split_indexes]\n",
    "\n",
    "print(train_x.shape, train_y.shape)\n",
    "print(test_x.shape, test_y.shape)"
   ]
  },
  {
   "cell_type": "markdown",
   "source": [
    "## Baseline on Decision Tree"
   ],
   "metadata": {
    "collapsed": false,
    "pycharm": {
     "name": "#%% md\n"
    }
   }
  },
  {
   "cell_type": "code",
   "execution_count": 22,
   "outputs": [
    {
     "name": "stdout",
     "output_type": "stream",
     "text": [
      "train baseline metric 0.9868330923205724\n",
      "test baseline metric 0.27938826751883133\n",
      "5301 62\n"
     ]
    }
   ],
   "source": [
    "baseline_decision_tree = DecisionTreeClassifier()\n",
    "baseline_decision_tree.fit(train_x, train_y)\n",
    "\n",
    "pred_y = baseline_decision_tree.predict(train_x)\n",
    "train_metric = f1_score(train_y, pred_y)\n",
    "print(\"train baseline metric\", train_metric)\n",
    "\n",
    "pred_y = baseline_decision_tree.predict(test_x)\n",
    "test_metric = f1_score(test_y, pred_y)\n",
    "print(\"test baseline metric\", test_metric)\n",
    "print(baseline_decision_tree.get_n_leaves(), baseline_decision_tree.get_depth())"
   ],
   "metadata": {
    "collapsed": false,
    "pycharm": {
     "name": "#%%\n"
    }
   }
  },
  {
   "cell_type": "markdown",
   "metadata": {
    "datalore": {
     "hide_input_from_viewers": false,
     "hide_output_from_viewers": false,
     "type": "MD"
    },
    "pycharm": {
     "name": "#%% md\n"
    }
   },
   "source": [
    "## Searching optimal hyperparameters for Decision Tree"
   ]
  },
  {
   "cell_type": "code",
   "execution_count": 24,
   "metadata": {
    "datalore": {
     "hide_input_from_viewers": false,
     "hide_output_from_viewers": false,
     "type": "CODE"
    },
    "pycharm": {
     "name": "#%%\n"
    }
   },
   "outputs": [
    {
     "name": "stderr",
     "output_type": "stream",
     "text": [
      "\u001B[32m[I 2022-08-03 16:42:36,457]\u001B[0m A new study created in memory with name: no-name-4ff4f3cb-0177-44cc-9a96-8f96d7d6c69d\u001B[0m\n",
      "\u001B[32m[I 2022-08-03 16:42:37,812]\u001B[0m Trial 0 finished with value: 0.0 and parameters: {'criterion': 'entropy', 'min_impurity_decrease': 0.03928716371943141, 'max_depth': 89}. Best is trial 0 with value: 0.0.\u001B[0m\n",
      "\u001B[32m[I 2022-08-03 16:42:38,842]\u001B[0m Trial 1 finished with value: 0.0 and parameters: {'criterion': 'entropy', 'min_impurity_decrease': 0.04497178312748747, 'max_depth': 82}. Best is trial 0 with value: 0.0.\u001B[0m\n",
      "\u001B[32m[I 2022-08-03 16:42:39,609]\u001B[0m Trial 2 finished with value: 0.0 and parameters: {'criterion': 'entropy', 'min_impurity_decrease': 0.04202988836584255, 'max_depth': 194}. Best is trial 0 with value: 0.0.\u001B[0m\n",
      "\u001B[32m[I 2022-08-03 16:42:40,314]\u001B[0m Trial 3 finished with value: 0.0 and parameters: {'criterion': 'gini', 'min_impurity_decrease': 0.007152613116794899, 'max_depth': 195}. Best is trial 0 with value: 0.0.\u001B[0m\n",
      "\u001B[32m[I 2022-08-03 16:42:41,038]\u001B[0m Trial 4 finished with value: 0.0 and parameters: {'criterion': 'gini', 'min_impurity_decrease': 0.023358354802680188, 'max_depth': 121}. Best is trial 0 with value: 0.0.\u001B[0m\n",
      "\u001B[32m[I 2022-08-03 16:42:41,763]\u001B[0m Trial 5 finished with value: 0.0 and parameters: {'criterion': 'gini', 'min_impurity_decrease': 0.022633428722940514, 'max_depth': 190}. Best is trial 0 with value: 0.0.\u001B[0m\n",
      "\u001B[32m[I 2022-08-03 16:42:42,493]\u001B[0m Trial 6 finished with value: 0.0 and parameters: {'criterion': 'gini', 'min_impurity_decrease': 0.021087799091800842, 'max_depth': 85}. Best is trial 0 with value: 0.0.\u001B[0m\n",
      "\u001B[32m[I 2022-08-03 16:42:43,187]\u001B[0m Trial 7 finished with value: 0.0 and parameters: {'criterion': 'gini', 'min_impurity_decrease': 0.016625630716606412, 'max_depth': 132}. Best is trial 0 with value: 0.0.\u001B[0m\n",
      "\u001B[32m[I 2022-08-03 16:42:43,900]\u001B[0m Trial 8 finished with value: 0.0 and parameters: {'criterion': 'gini', 'min_impurity_decrease': 0.005922030662879158, 'max_depth': 198}. Best is trial 0 with value: 0.0.\u001B[0m\n",
      "\u001B[32m[I 2022-08-03 16:42:45,000]\u001B[0m Trial 9 finished with value: 0.0 and parameters: {'criterion': 'entropy', 'min_impurity_decrease': 0.007223082904320582, 'max_depth': 151}. Best is trial 0 with value: 0.0.\u001B[0m\n",
      "\u001B[32m[I 2022-08-03 16:42:45,757]\u001B[0m Trial 10 finished with value: 0.0 and parameters: {'criterion': 'entropy', 'min_impurity_decrease': 0.03438890899989028, 'max_depth': 57}. Best is trial 0 with value: 0.0.\u001B[0m\n",
      "\u001B[32m[I 2022-08-03 16:42:46,525]\u001B[0m Trial 11 finished with value: 0.0 and parameters: {'criterion': 'entropy', 'min_impurity_decrease': 0.0489961959233764, 'max_depth': 87}. Best is trial 0 with value: 0.0.\u001B[0m\n",
      "\u001B[32m[I 2022-08-03 16:42:47,226]\u001B[0m Trial 12 finished with value: 0.0 and parameters: {'criterion': 'entropy', 'min_impurity_decrease': 0.034736124795473264, 'max_depth': 90}. Best is trial 0 with value: 0.0.\u001B[0m\n",
      "\u001B[32m[I 2022-08-03 16:42:47,953]\u001B[0m Trial 13 finished with value: 0.0 and parameters: {'criterion': 'entropy', 'min_impurity_decrease': 0.049202934371591546, 'max_depth': 56}. Best is trial 0 with value: 0.0.\u001B[0m\n",
      "\u001B[32m[I 2022-08-03 16:42:48,643]\u001B[0m Trial 14 finished with value: 0.0 and parameters: {'criterion': 'entropy', 'min_impurity_decrease': 0.03800844100984106, 'max_depth': 108}. Best is trial 0 with value: 0.0.\u001B[0m\n",
      "\u001B[32m[I 2022-08-03 16:42:49,383]\u001B[0m Trial 15 finished with value: 0.0 and parameters: {'criterion': 'entropy', 'min_impurity_decrease': 0.03079579764140782, 'max_depth': 72}. Best is trial 0 with value: 0.0.\u001B[0m\n",
      "\u001B[32m[I 2022-08-03 16:42:50,142]\u001B[0m Trial 16 finished with value: 0.0 and parameters: {'criterion': 'entropy', 'min_impurity_decrease': 0.04263185038725165, 'max_depth': 106}. Best is trial 0 with value: 0.0.\u001B[0m\n",
      "\u001B[32m[I 2022-08-03 16:42:50,875]\u001B[0m Trial 17 finished with value: 0.0 and parameters: {'criterion': 'entropy', 'min_impurity_decrease': 0.038355097027307064, 'max_depth': 161}. Best is trial 0 with value: 0.0.\u001B[0m\n",
      "\u001B[32m[I 2022-08-03 16:42:51,660]\u001B[0m Trial 18 finished with value: 0.0 and parameters: {'criterion': 'entropy', 'min_impurity_decrease': 0.03103941559383562, 'max_depth': 70}. Best is trial 0 with value: 0.0.\u001B[0m\n",
      "\u001B[32m[I 2022-08-03 16:42:52,396]\u001B[0m Trial 19 finished with value: 0.0 and parameters: {'criterion': 'entropy', 'min_impurity_decrease': 0.04287192636732268, 'max_depth': 104}. Best is trial 0 with value: 0.0.\u001B[0m\n",
      "\u001B[32m[I 2022-08-03 16:42:53,127]\u001B[0m Trial 20 finished with value: 0.0 and parameters: {'criterion': 'entropy', 'min_impurity_decrease': 0.028187352162124646, 'max_depth': 169}. Best is trial 0 with value: 0.0.\u001B[0m\n",
      "\u001B[32m[I 2022-08-03 16:42:53,876]\u001B[0m Trial 21 finished with value: 0.0 and parameters: {'criterion': 'entropy', 'min_impurity_decrease': 0.03691042689031018, 'max_depth': 147}. Best is trial 0 with value: 0.0.\u001B[0m\n",
      "\u001B[32m[I 2022-08-03 16:42:54,590]\u001B[0m Trial 22 finished with value: 0.0 and parameters: {'criterion': 'entropy', 'min_impurity_decrease': 0.0303422728387048, 'max_depth': 70}. Best is trial 0 with value: 0.0.\u001B[0m\n",
      "\u001B[32m[I 2022-08-03 16:42:55,308]\u001B[0m Trial 23 finished with value: 0.0 and parameters: {'criterion': 'entropy', 'min_impurity_decrease': 0.02782797784989273, 'max_depth': 171}. Best is trial 0 with value: 0.0.\u001B[0m\n",
      "\u001B[32m[I 2022-08-03 16:42:56,068]\u001B[0m Trial 24 finished with value: 0.0 and parameters: {'criterion': 'entropy', 'min_impurity_decrease': 0.015641799534460266, 'max_depth': 141}. Best is trial 0 with value: 0.0.\u001B[0m\n",
      "\u001B[32m[I 2022-08-03 16:42:56,805]\u001B[0m Trial 25 finished with value: 0.0 and parameters: {'criterion': 'entropy', 'min_impurity_decrease': 0.03728443563349657, 'max_depth': 123}. Best is trial 0 with value: 0.0.\u001B[0m\n",
      "\u001B[32m[I 2022-08-03 16:42:57,566]\u001B[0m Trial 26 finished with value: 0.0 and parameters: {'criterion': 'entropy', 'min_impurity_decrease': 0.027425289905621743, 'max_depth': 69}. Best is trial 0 with value: 0.0.\u001B[0m\n",
      "\u001B[32m[I 2022-08-03 16:42:58,703]\u001B[0m Trial 27 finished with value: 0.0 and parameters: {'criterion': 'entropy', 'min_impurity_decrease': 0.013504901376584652, 'max_depth': 178}. Best is trial 0 with value: 0.0.\u001B[0m\n",
      "\u001B[32m[I 2022-08-03 16:42:59,495]\u001B[0m Trial 28 finished with value: 0.0 and parameters: {'criterion': 'entropy', 'min_impurity_decrease': 0.01470027199806503, 'max_depth': 135}. Best is trial 0 with value: 0.0.\u001B[0m\n",
      "\u001B[32m[I 2022-08-03 16:43:00,216]\u001B[0m Trial 29 finished with value: 0.0 and parameters: {'criterion': 'entropy', 'min_impurity_decrease': 0.039771707742873974, 'max_depth': 98}. Best is trial 0 with value: 0.0.\u001B[0m\n",
      "\u001B[32m[I 2022-08-03 16:43:01,309]\u001B[0m Trial 30 finished with value: 0.0 and parameters: {'criterion': 'entropy', 'min_impurity_decrease': 0.011528307091758472, 'max_depth': 76}. Best is trial 0 with value: 0.0.\u001B[0m\n",
      "\u001B[32m[I 2022-08-03 16:43:03,654]\u001B[0m Trial 31 finished with value: 0.026503567787971458 and parameters: {'criterion': 'entropy', 'min_impurity_decrease': 0.0014873932301835632, 'max_depth': 179}. Best is trial 31 with value: 0.026503567787971458.\u001B[0m\n",
      "\u001B[32m[I 2022-08-03 16:43:06,149]\u001B[0m Trial 32 finished with value: 0.026503567787971458 and parameters: {'criterion': 'entropy', 'min_impurity_decrease': 0.0013590631366477502, 'max_depth': 183}. Best is trial 31 with value: 0.026503567787971458.\u001B[0m\n",
      "\u001B[32m[I 2022-08-03 16:43:08,397]\u001B[0m Trial 33 finished with value: 0.026503567787971458 and parameters: {'criterion': 'entropy', 'min_impurity_decrease': 0.0016907730414660559, 'max_depth': 98}. Best is trial 31 with value: 0.026503567787971458.\u001B[0m\n",
      "\u001B[32m[I 2022-08-03 16:43:14,459]\u001B[0m Trial 34 finished with value: 0.18815331010452963 and parameters: {'criterion': 'entropy', 'min_impurity_decrease': 5.799241949434723e-05, 'max_depth': 186}. Best is trial 34 with value: 0.18815331010452963.\u001B[0m\n",
      "\u001B[32m[I 2022-08-03 16:43:19,091]\u001B[0m Trial 35 finished with value: 0.18453082057322343 and parameters: {'criterion': 'entropy', 'min_impurity_decrease': 0.00015809723000710576, 'max_depth': 183}. Best is trial 34 with value: 0.18815331010452963.\u001B[0m\n",
      "\u001B[32m[I 2022-08-03 16:43:20,491]\u001B[0m Trial 36 finished with value: 0.0 and parameters: {'criterion': 'gini', 'min_impurity_decrease': 0.0006976194705963066, 'max_depth': 185}. Best is trial 34 with value: 0.18815331010452963.\u001B[0m\n",
      "\u001B[32m[I 2022-08-03 16:43:21,785]\u001B[0m Trial 37 finished with value: 0.0 and parameters: {'criterion': 'entropy', 'min_impurity_decrease': 0.0038530141195109234, 'max_depth': 158}. Best is trial 34 with value: 0.18815331010452963.\u001B[0m\n",
      "\u001B[32m[I 2022-08-03 16:43:22,505]\u001B[0m Trial 38 finished with value: 0.0 and parameters: {'criterion': 'gini', 'min_impurity_decrease': 0.0037223267867707442, 'max_depth': 200}. Best is trial 34 with value: 0.18815331010452963.\u001B[0m\n",
      "\u001B[32m[I 2022-08-03 16:43:23,562]\u001B[0m Trial 39 finished with value: 0.0 and parameters: {'criterion': 'entropy', 'min_impurity_decrease': 0.009609616694169211, 'max_depth': 189}. Best is trial 34 with value: 0.18815331010452963.\u001B[0m\n",
      "\u001B[32m[I 2022-08-03 16:43:24,244]\u001B[0m Trial 40 finished with value: 0.0 and parameters: {'criterion': 'gini', 'min_impurity_decrease': 0.019368519085449187, 'max_depth': 169}. Best is trial 34 with value: 0.18815331010452963.\u001B[0m\n",
      "\u001B[32m[I 2022-08-03 16:43:28,127]\u001B[0m Trial 41 finished with value: 0.15412844036697249 and parameters: {'criterion': 'entropy', 'min_impurity_decrease': 0.0005245795106147421, 'max_depth': 182}. Best is trial 34 with value: 0.18815331010452963.\u001B[0m\n",
      "\u001B[32m[I 2022-08-03 16:43:30,150]\u001B[0m Trial 42 finished with value: 0.026503567787971458 and parameters: {'criterion': 'entropy', 'min_impurity_decrease': 0.002924066654563587, 'max_depth': 179}. Best is trial 34 with value: 0.18815331010452963.\u001B[0m\n",
      "\u001B[32m[I 2022-08-03 16:43:31,356]\u001B[0m Trial 43 finished with value: 0.0 and parameters: {'criterion': 'entropy', 'min_impurity_decrease': 0.006524499866221034, 'max_depth': 186}. Best is trial 34 with value: 0.18815331010452963.\u001B[0m\n",
      "\u001B[32m[I 2022-08-03 16:43:35,386]\u001B[0m Trial 44 finished with value: 0.15330396475770924 and parameters: {'criterion': 'entropy', 'min_impurity_decrease': 0.0003743554462738198, 'max_depth': 179}. Best is trial 34 with value: 0.18815331010452963.\u001B[0m\n",
      "\u001B[32m[I 2022-08-03 16:43:36,508]\u001B[0m Trial 45 finished with value: 0.0 and parameters: {'criterion': 'entropy', 'min_impurity_decrease': 0.008836314361720492, 'max_depth': 194}. Best is trial 34 with value: 0.18815331010452963.\u001B[0m\n",
      "\u001B[32m[I 2022-08-03 16:43:37,196]\u001B[0m Trial 46 finished with value: 0.0 and parameters: {'criterion': 'gini', 'min_impurity_decrease': 0.005003340935779148, 'max_depth': 175}. Best is trial 34 with value: 0.18815331010452963.\u001B[0m\n",
      "\u001B[32m[I 2022-08-03 16:43:38,548]\u001B[0m Trial 47 finished with value: 0.0 and parameters: {'criterion': 'entropy', 'min_impurity_decrease': 0.0035290542834871407, 'max_depth': 158}. Best is trial 34 with value: 0.18815331010452963.\u001B[0m\n",
      "\u001B[32m[I 2022-08-03 16:43:39,799]\u001B[0m Trial 48 finished with value: 0.0 and parameters: {'criterion': 'entropy', 'min_impurity_decrease': 0.008653030685151497, 'max_depth': 165}. Best is trial 34 with value: 0.18815331010452963.\u001B[0m\n",
      "\u001B[32m[I 2022-08-03 16:43:43,862]\u001B[0m Trial 49 finished with value: 0.15412844036697249 and parameters: {'criterion': 'entropy', 'min_impurity_decrease': 0.00059099511587313, 'max_depth': 193}. Best is trial 34 with value: 0.18815331010452963.\u001B[0m\n",
      "\u001B[32m[I 2022-08-03 16:43:45,138]\u001B[0m Trial 50 finished with value: 0.0 and parameters: {'criterion': 'entropy', 'min_impurity_decrease': 0.005709403778913256, 'max_depth': 194}. Best is trial 34 with value: 0.18815331010452963.\u001B[0m\n",
      "\u001B[32m[I 2022-08-03 16:43:49,369]\u001B[0m Trial 51 finished with value: 0.15330396475770924 and parameters: {'criterion': 'entropy', 'min_impurity_decrease': 0.0004881975590022546, 'max_depth': 180}. Best is trial 34 with value: 0.18815331010452963.\u001B[0m\n",
      "\u001B[32m[I 2022-08-03 16:43:52,882]\u001B[0m Trial 52 finished with value: 0.15412844036697249 and parameters: {'criterion': 'entropy', 'min_impurity_decrease': 0.0005598035981192469, 'max_depth': 192}. Best is trial 34 with value: 0.18815331010452963.\u001B[0m\n",
      "\u001B[32m[I 2022-08-03 16:43:58,863]\u001B[0m Trial 53 finished with value: 0.1799043062200957 and parameters: {'criterion': 'entropy', 'min_impurity_decrease': 4.471743678396914e-05, 'max_depth': 191}. Best is trial 34 with value: 0.18815331010452963.\u001B[0m\n",
      "\u001B[32m[I 2022-08-03 16:43:59,930]\u001B[0m Trial 54 finished with value: 0.0 and parameters: {'criterion': 'entropy', 'min_impurity_decrease': 0.007255759037139592, 'max_depth': 191}. Best is trial 34 with value: 0.18815331010452963.\u001B[0m\n",
      "\u001B[32m[I 2022-08-03 16:44:01,624]\u001B[0m Trial 55 finished with value: 0.026503567787971458 and parameters: {'criterion': 'entropy', 'min_impurity_decrease': 0.002824107723730842, 'max_depth': 199}. Best is trial 34 with value: 0.18815331010452963.\u001B[0m\n",
      "\u001B[32m[I 2022-08-03 16:44:06,666]\u001B[0m Trial 56 finished with value: 0.21159929701230226 and parameters: {'criterion': 'entropy', 'min_impurity_decrease': 0.00011192792456619016, 'max_depth': 188}. Best is trial 56 with value: 0.21159929701230226.\u001B[0m\n",
      "\u001B[32m[I 2022-08-03 16:44:07,356]\u001B[0m Trial 57 finished with value: 0.0 and parameters: {'criterion': 'gini', 'min_impurity_decrease': 0.0049683608277067085, 'max_depth': 190}. Best is trial 56 with value: 0.21159929701230226.\u001B[0m\n",
      "\u001B[32m[I 2022-08-03 16:44:08,458]\u001B[0m Trial 58 finished with value: 0.0 and parameters: {'criterion': 'entropy', 'min_impurity_decrease': 0.01151431929571089, 'max_depth': 173}. Best is trial 56 with value: 0.21159929701230226.\u001B[0m\n",
      "\u001B[32m[I 2022-08-03 16:44:10,143]\u001B[0m Trial 59 finished with value: 0.026503567787971458 and parameters: {'criterion': 'entropy', 'min_impurity_decrease': 0.0027770182093873365, 'max_depth': 196}. Best is trial 56 with value: 0.21159929701230226.\u001B[0m\n",
      "\u001B[32m[I 2022-08-03 16:44:11,205]\u001B[0m Trial 60 finished with value: 0.0 and parameters: {'criterion': 'entropy', 'min_impurity_decrease': 0.007392565867157834, 'max_depth': 117}. Best is trial 56 with value: 0.21159929701230226.\u001B[0m\n",
      "\u001B[32m[I 2022-08-03 16:44:16,838]\u001B[0m Trial 61 finished with value: 0.3073993471164309 and parameters: {'criterion': 'entropy', 'min_impurity_decrease': 6.759776545320207e-05, 'max_depth': 185}. Best is trial 61 with value: 0.3073993471164309.\u001B[0m\n",
      "\u001B[32m[I 2022-08-03 16:44:18,219]\u001B[0m Trial 62 finished with value: 0.0 and parameters: {'criterion': 'entropy', 'min_impurity_decrease': 0.00472921726801994, 'max_depth': 186}. Best is trial 61 with value: 0.3073993471164309.\u001B[0m\n",
      "\u001B[32m[I 2022-08-03 16:44:20,109]\u001B[0m Trial 63 finished with value: 0.026503567787971458 and parameters: {'criterion': 'entropy', 'min_impurity_decrease': 0.0022202040684210105, 'max_depth': 165}. Best is trial 61 with value: 0.3073993471164309.\u001B[0m\n",
      "\u001B[32m[I 2022-08-03 16:44:23,651]\u001B[0m Trial 64 finished with value: 0.15412844036697249 and parameters: {'criterion': 'entropy', 'min_impurity_decrease': 0.0005397252037729004, 'max_depth': 191}. Best is trial 61 with value: 0.3073993471164309.\u001B[0m\n",
      "\u001B[32m[I 2022-08-03 16:44:30,275]\u001B[0m Trial 65 finished with value: 0.2437540734303715 and parameters: {'criterion': 'entropy', 'min_impurity_decrease': 3.4394761378622702e-06, 'max_depth': 152}. Best is trial 61 with value: 0.3073993471164309.\u001B[0m\n",
      "\u001B[32m[I 2022-08-03 16:44:31,570]\u001B[0m Trial 66 finished with value: 0.0 and parameters: {'criterion': 'entropy', 'min_impurity_decrease': 0.004378288666609567, 'max_depth': 164}. Best is trial 61 with value: 0.3073993471164309.\u001B[0m\n",
      "\u001B[32m[I 2022-08-03 16:44:32,665]\u001B[0m Trial 67 finished with value: 0.0 and parameters: {'criterion': 'entropy', 'min_impurity_decrease': 0.010599150184133842, 'max_depth': 175}. Best is trial 61 with value: 0.3073993471164309.\u001B[0m\n",
      "\u001B[32m[I 2022-08-03 16:44:34,370]\u001B[0m Trial 68 finished with value: 0.026503567787971458 and parameters: {'criterion': 'entropy', 'min_impurity_decrease': 0.002541055608710048, 'max_depth': 151}. Best is trial 61 with value: 0.3073993471164309.\u001B[0m\n",
      "\u001B[32m[I 2022-08-03 16:44:35,484]\u001B[0m Trial 69 finished with value: 0.0 and parameters: {'criterion': 'entropy', 'min_impurity_decrease': 0.007654411959675199, 'max_depth': 183}. Best is trial 61 with value: 0.3073993471164309.\u001B[0m\n",
      "\u001B[32m[I 2022-08-03 16:44:36,575]\u001B[0m Trial 70 finished with value: 0.0 and parameters: {'criterion': 'entropy', 'min_impurity_decrease': 0.005953001680366448, 'max_depth': 169}. Best is trial 61 with value: 0.3073993471164309.\u001B[0m\n",
      "\u001B[32m[I 2022-08-03 16:44:40,520]\u001B[0m Trial 71 finished with value: 0.15330396475770924 and parameters: {'criterion': 'entropy', 'min_impurity_decrease': 0.00033066060259585574, 'max_depth': 184}. Best is trial 61 with value: 0.3073993471164309.\u001B[0m\n",
      "\u001B[32m[I 2022-08-03 16:44:43,265]\u001B[0m Trial 72 finished with value: 0.026503567787971458 and parameters: {'criterion': 'entropy', 'min_impurity_decrease': 0.001799834979868697, 'max_depth': 188}. Best is trial 61 with value: 0.3073993471164309.\u001B[0m\n",
      "\u001B[32m[I 2022-08-03 16:44:45,195]\u001B[0m Trial 73 finished with value: 0.026503567787971458 and parameters: {'criterion': 'entropy', 'min_impurity_decrease': 0.002054372536930053, 'max_depth': 198}. Best is trial 61 with value: 0.3073993471164309.\u001B[0m\n",
      "\u001B[32m[I 2022-08-03 16:44:46,451]\u001B[0m Trial 74 finished with value: 0.0 and parameters: {'criterion': 'entropy', 'min_impurity_decrease': 0.003887817508426444, 'max_depth': 193}. Best is trial 61 with value: 0.3073993471164309.\u001B[0m\n",
      "\u001B[32m[I 2022-08-03 16:44:52,139]\u001B[0m Trial 75 finished with value: 0.3100644799551444 and parameters: {'criterion': 'entropy', 'min_impurity_decrease': 7.596686882847824e-05, 'max_depth': 141}. Best is trial 75 with value: 0.3100644799551444.\u001B[0m\n",
      "\u001B[32m[I 2022-08-03 16:44:52,964]\u001B[0m Trial 76 finished with value: 0.0 and parameters: {'criterion': 'gini', 'min_impurity_decrease': 0.005662822341849113, 'max_depth': 146}. Best is trial 75 with value: 0.3100644799551444.\u001B[0m\n",
      "\u001B[32m[I 2022-08-03 16:44:53,736]\u001B[0m Trial 77 finished with value: 0.0 and parameters: {'criterion': 'entropy', 'min_impurity_decrease': 0.0468520528761381, 'max_depth': 117}. Best is trial 75 with value: 0.3100644799551444.\u001B[0m\n",
      "\u001B[32m[I 2022-08-03 16:44:54,498]\u001B[0m Trial 78 finished with value: 0.0 and parameters: {'criterion': 'entropy', 'min_impurity_decrease': 0.01918590758090148, 'max_depth': 134}. Best is trial 75 with value: 0.3100644799551444.\u001B[0m\n",
      "\u001B[32m[I 2022-08-03 16:44:59,446]\u001B[0m Trial 79 finished with value: 0.18882175226586104 and parameters: {'criterion': 'entropy', 'min_impurity_decrease': 0.0001724551320067957, 'max_depth': 139}. Best is trial 75 with value: 0.3100644799551444.\u001B[0m\n",
      "\u001B[32m[I 2022-08-03 16:45:01,261]\u001B[0m Trial 80 finished with value: 0.0 and parameters: {'criterion': 'entropy', 'min_impurity_decrease': 0.003289785092354576, 'max_depth': 141}. Best is trial 75 with value: 0.3100644799551444.\u001B[0m\n",
      "\u001B[32m[I 2022-08-03 16:45:03,664]\u001B[0m Trial 81 finished with value: 0.026503567787971458 and parameters: {'criterion': 'entropy', 'min_impurity_decrease': 0.001692830627095979, 'max_depth': 153}. Best is trial 75 with value: 0.3100644799551444.\u001B[0m\n",
      "\u001B[32m[I 2022-08-03 16:45:06,124]\u001B[0m Trial 82 finished with value: 0.026503567787971458 and parameters: {'criterion': 'entropy', 'min_impurity_decrease': 0.0017744847218454885, 'max_depth': 128}. Best is trial 75 with value: 0.3100644799551444.\u001B[0m\n",
      "\u001B[32m[I 2022-08-03 16:45:11,011]\u001B[0m Trial 83 finished with value: 0.197428139183056 and parameters: {'criterion': 'entropy', 'min_impurity_decrease': 0.00013835672735065682, 'max_depth': 128}. Best is trial 75 with value: 0.3100644799551444.\u001B[0m\n",
      "\u001B[32m[I 2022-08-03 16:45:12,275]\u001B[0m Trial 84 finished with value: 0.0 and parameters: {'criterion': 'entropy', 'min_impurity_decrease': 0.004025954680411825, 'max_depth': 127}. Best is trial 75 with value: 0.3100644799551444.\u001B[0m\n",
      "\u001B[32m[I 2022-08-03 16:45:18,617]\u001B[0m Trial 85 finished with value: 0.2581786030061893 and parameters: {'criterion': 'entropy', 'min_impurity_decrease': 3.559231923939842e-05, 'max_depth': 131}. Best is trial 75 with value: 0.3100644799551444.\u001B[0m\n",
      "\u001B[32m[I 2022-08-03 16:45:20,349]\u001B[0m Trial 86 finished with value: 0.026503567787971458 and parameters: {'criterion': 'entropy', 'min_impurity_decrease': 0.0029165341308532776, 'max_depth': 139}. Best is trial 75 with value: 0.3100644799551444.\u001B[0m\n",
      "\u001B[32m[I 2022-08-03 16:45:21,050]\u001B[0m Trial 87 finished with value: 0.0 and parameters: {'criterion': 'entropy', 'min_impurity_decrease': 0.023747310618012087, 'max_depth': 120}. Best is trial 75 with value: 0.3100644799551444.\u001B[0m\n",
      "\u001B[32m[I 2022-08-03 16:45:22,180]\u001B[0m Trial 88 finished with value: 0.0 and parameters: {'criterion': 'gini', 'min_impurity_decrease': 0.0012104529637772302, 'max_depth': 132}. Best is trial 75 with value: 0.3100644799551444.\u001B[0m\n",
      "\u001B[32m[I 2022-08-03 16:45:28,633]\u001B[0m Trial 89 finished with value: 0.28023828023828024 and parameters: {'criterion': 'entropy', 'min_impurity_decrease': 2.4452724198404857e-05, 'max_depth': 112}. Best is trial 75 with value: 0.3100644799551444.\u001B[0m\n",
      "\u001B[32m[I 2022-08-03 16:45:30,026]\u001B[0m Trial 90 finished with value: 0.0 and parameters: {'criterion': 'entropy', 'min_impurity_decrease': 0.004925466165260372, 'max_depth': 114}. Best is trial 75 with value: 0.3100644799551444.\u001B[0m\n",
      "\u001B[32m[I 2022-08-03 16:45:32,316]\u001B[0m Trial 91 finished with value: 0.026503567787971458 and parameters: {'criterion': 'entropy', 'min_impurity_decrease': 0.0019103414560950201, 'max_depth': 110}. Best is trial 75 with value: 0.3100644799551444.\u001B[0m\n",
      "\u001B[32m[I 2022-08-03 16:45:36,533]\u001B[0m Trial 92 finished with value: 0.18561484918793503 and parameters: {'criterion': 'entropy', 'min_impurity_decrease': 0.0002125632349131465, 'max_depth': 138}. Best is trial 75 with value: 0.3100644799551444.\u001B[0m\n",
      "\u001B[32m[I 2022-08-03 16:45:38,283]\u001B[0m Trial 93 finished with value: 0.026503567787971458 and parameters: {'criterion': 'entropy', 'min_impurity_decrease': 0.003246001052525245, 'max_depth': 146}. Best is trial 75 with value: 0.3100644799551444.\u001B[0m\n",
      "\u001B[32m[I 2022-08-03 16:45:40,762]\u001B[0m Trial 94 finished with value: 0.026503567787971458 and parameters: {'criterion': 'entropy', 'min_impurity_decrease': 0.0017132331401963545, 'max_depth': 138}. Best is trial 75 with value: 0.3100644799551444.\u001B[0m\n",
      "\u001B[32m[I 2022-08-03 16:45:48,153]\u001B[0m Trial 95 finished with value: 0.19745222929936304 and parameters: {'criterion': 'entropy', 'min_impurity_decrease': 2.2510286485033585e-05, 'max_depth': 129}. Best is trial 75 with value: 0.3100644799551444.\u001B[0m\n",
      "\u001B[32m[I 2022-08-03 16:45:49,347]\u001B[0m Trial 96 finished with value: 0.0 and parameters: {'criterion': 'entropy', 'min_impurity_decrease': 0.006118172640113485, 'max_depth': 124}. Best is trial 75 with value: 0.3100644799551444.\u001B[0m\n",
      "\u001B[32m[I 2022-08-03 16:45:51,853]\u001B[0m Trial 97 finished with value: 0.026503567787971458 and parameters: {'criterion': 'entropy', 'min_impurity_decrease': 0.0012081613522207425, 'max_depth': 129}. Best is trial 75 with value: 0.3100644799551444.\u001B[0m\n",
      "\u001B[32m[I 2022-08-03 16:45:53,236]\u001B[0m Trial 98 finished with value: 0.0 and parameters: {'criterion': 'entropy', 'min_impurity_decrease': 0.004193676262554236, 'max_depth': 101}. Best is trial 75 with value: 0.3100644799551444.\u001B[0m\n",
      "\u001B[32m[I 2022-08-03 16:46:00,652]\u001B[0m Trial 99 finished with value: 0.1890427453341361 and parameters: {'criterion': 'entropy', 'min_impurity_decrease': 3.7826953088603767e-05, 'max_depth': 143}. Best is trial 75 with value: 0.3100644799551444.\u001B[0m\n"
     ]
    },
    {
     "name": "stdout",
     "output_type": "stream",
     "text": [
      "0.3100644799551444 {'criterion': 'entropy', 'min_impurity_decrease': 7.596686882847824e-05, 'max_depth': 141}\n"
     ]
    },
    {
     "data": {
      "application/vnd.plotly.v1+json": {
       "data": [
        {
         "cliponaxis": false,
         "hovertemplate": [
          "max_depth (IntUniformDistribution): 8.372968908078455e-05<extra></extra>",
          "criterion (CategoricalDistribution): 0.0007543309531475823<extra></extra>",
          "min_impurity_decrease (UniformDistribution): 0.9991619393577716<extra></extra>"
         ],
         "marker": {
          "color": "rgb(66,146,198)"
         },
         "orientation": "h",
         "text": [
          "8.372968908078455e-05",
          "0.0007543309531475823",
          "0.9991619393577716"
         ],
         "textposition": "outside",
         "texttemplate": "%{text:.2f}",
         "x": [
          8.372968908078455E-5,
          7.543309531475823E-4,
          0.9991619393577716
         ],
         "y": [
          "max_depth",
          "criterion",
          "min_impurity_decrease"
         ],
         "type": "bar"
        }
       ],
       "layout": {
        "showlegend": false,
        "title": {
         "text": "Hyperparameter Importances"
        },
        "xaxis": {
         "title": {
          "text": "Importance for Objective Value"
         }
        },
        "yaxis": {
         "title": {
          "text": "Hyperparameter"
         }
        },
        "template": {
         "data": {
          "bar": [
           {
            "error_x": {
             "color": "#2a3f5f"
            },
            "error_y": {
             "color": "#2a3f5f"
            },
            "marker": {
             "line": {
              "color": "#E5ECF6",
              "width": 0.5
             },
             "pattern": {
              "fillmode": "overlay",
              "size": 10,
              "solidity": 0.2
             }
            },
            "type": "bar"
           }
          ],
          "barpolar": [
           {
            "marker": {
             "line": {
              "color": "#E5ECF6",
              "width": 0.5
             },
             "pattern": {
              "fillmode": "overlay",
              "size": 10,
              "solidity": 0.2
             }
            },
            "type": "barpolar"
           }
          ],
          "carpet": [
           {
            "aaxis": {
             "endlinecolor": "#2a3f5f",
             "gridcolor": "white",
             "linecolor": "white",
             "minorgridcolor": "white",
             "startlinecolor": "#2a3f5f"
            },
            "baxis": {
             "endlinecolor": "#2a3f5f",
             "gridcolor": "white",
             "linecolor": "white",
             "minorgridcolor": "white",
             "startlinecolor": "#2a3f5f"
            },
            "type": "carpet"
           }
          ],
          "choropleth": [
           {
            "colorbar": {
             "outlinewidth": 0,
             "ticks": ""
            },
            "type": "choropleth"
           }
          ],
          "contour": [
           {
            "colorbar": {
             "outlinewidth": 0,
             "ticks": ""
            },
            "colorscale": [
             [
              0.0,
              "#0d0887"
             ],
             [
              0.1111111111111111,
              "#46039f"
             ],
             [
              0.2222222222222222,
              "#7201a8"
             ],
             [
              0.3333333333333333,
              "#9c179e"
             ],
             [
              0.4444444444444444,
              "#bd3786"
             ],
             [
              0.5555555555555556,
              "#d8576b"
             ],
             [
              0.6666666666666666,
              "#ed7953"
             ],
             [
              0.7777777777777778,
              "#fb9f3a"
             ],
             [
              0.8888888888888888,
              "#fdca26"
             ],
             [
              1.0,
              "#f0f921"
             ]
            ],
            "type": "contour"
           }
          ],
          "contourcarpet": [
           {
            "colorbar": {
             "outlinewidth": 0,
             "ticks": ""
            },
            "type": "contourcarpet"
           }
          ],
          "heatmap": [
           {
            "colorbar": {
             "outlinewidth": 0,
             "ticks": ""
            },
            "colorscale": [
             [
              0.0,
              "#0d0887"
             ],
             [
              0.1111111111111111,
              "#46039f"
             ],
             [
              0.2222222222222222,
              "#7201a8"
             ],
             [
              0.3333333333333333,
              "#9c179e"
             ],
             [
              0.4444444444444444,
              "#bd3786"
             ],
             [
              0.5555555555555556,
              "#d8576b"
             ],
             [
              0.6666666666666666,
              "#ed7953"
             ],
             [
              0.7777777777777778,
              "#fb9f3a"
             ],
             [
              0.8888888888888888,
              "#fdca26"
             ],
             [
              1.0,
              "#f0f921"
             ]
            ],
            "type": "heatmap"
           }
          ],
          "heatmapgl": [
           {
            "colorbar": {
             "outlinewidth": 0,
             "ticks": ""
            },
            "colorscale": [
             [
              0.0,
              "#0d0887"
             ],
             [
              0.1111111111111111,
              "#46039f"
             ],
             [
              0.2222222222222222,
              "#7201a8"
             ],
             [
              0.3333333333333333,
              "#9c179e"
             ],
             [
              0.4444444444444444,
              "#bd3786"
             ],
             [
              0.5555555555555556,
              "#d8576b"
             ],
             [
              0.6666666666666666,
              "#ed7953"
             ],
             [
              0.7777777777777778,
              "#fb9f3a"
             ],
             [
              0.8888888888888888,
              "#fdca26"
             ],
             [
              1.0,
              "#f0f921"
             ]
            ],
            "type": "heatmapgl"
           }
          ],
          "histogram": [
           {
            "marker": {
             "pattern": {
              "fillmode": "overlay",
              "size": 10,
              "solidity": 0.2
             }
            },
            "type": "histogram"
           }
          ],
          "histogram2d": [
           {
            "colorbar": {
             "outlinewidth": 0,
             "ticks": ""
            },
            "colorscale": [
             [
              0.0,
              "#0d0887"
             ],
             [
              0.1111111111111111,
              "#46039f"
             ],
             [
              0.2222222222222222,
              "#7201a8"
             ],
             [
              0.3333333333333333,
              "#9c179e"
             ],
             [
              0.4444444444444444,
              "#bd3786"
             ],
             [
              0.5555555555555556,
              "#d8576b"
             ],
             [
              0.6666666666666666,
              "#ed7953"
             ],
             [
              0.7777777777777778,
              "#fb9f3a"
             ],
             [
              0.8888888888888888,
              "#fdca26"
             ],
             [
              1.0,
              "#f0f921"
             ]
            ],
            "type": "histogram2d"
           }
          ],
          "histogram2dcontour": [
           {
            "colorbar": {
             "outlinewidth": 0,
             "ticks": ""
            },
            "colorscale": [
             [
              0.0,
              "#0d0887"
             ],
             [
              0.1111111111111111,
              "#46039f"
             ],
             [
              0.2222222222222222,
              "#7201a8"
             ],
             [
              0.3333333333333333,
              "#9c179e"
             ],
             [
              0.4444444444444444,
              "#bd3786"
             ],
             [
              0.5555555555555556,
              "#d8576b"
             ],
             [
              0.6666666666666666,
              "#ed7953"
             ],
             [
              0.7777777777777778,
              "#fb9f3a"
             ],
             [
              0.8888888888888888,
              "#fdca26"
             ],
             [
              1.0,
              "#f0f921"
             ]
            ],
            "type": "histogram2dcontour"
           }
          ],
          "mesh3d": [
           {
            "colorbar": {
             "outlinewidth": 0,
             "ticks": ""
            },
            "type": "mesh3d"
           }
          ],
          "parcoords": [
           {
            "line": {
             "colorbar": {
              "outlinewidth": 0,
              "ticks": ""
             }
            },
            "type": "parcoords"
           }
          ],
          "pie": [
           {
            "automargin": true,
            "type": "pie"
           }
          ],
          "scatter": [
           {
            "marker": {
             "colorbar": {
              "outlinewidth": 0,
              "ticks": ""
             }
            },
            "type": "scatter"
           }
          ],
          "scatter3d": [
           {
            "line": {
             "colorbar": {
              "outlinewidth": 0,
              "ticks": ""
             }
            },
            "marker": {
             "colorbar": {
              "outlinewidth": 0,
              "ticks": ""
             }
            },
            "type": "scatter3d"
           }
          ],
          "scattercarpet": [
           {
            "marker": {
             "colorbar": {
              "outlinewidth": 0,
              "ticks": ""
             }
            },
            "type": "scattercarpet"
           }
          ],
          "scattergeo": [
           {
            "marker": {
             "colorbar": {
              "outlinewidth": 0,
              "ticks": ""
             }
            },
            "type": "scattergeo"
           }
          ],
          "scattergl": [
           {
            "marker": {
             "colorbar": {
              "outlinewidth": 0,
              "ticks": ""
             }
            },
            "type": "scattergl"
           }
          ],
          "scattermapbox": [
           {
            "marker": {
             "colorbar": {
              "outlinewidth": 0,
              "ticks": ""
             }
            },
            "type": "scattermapbox"
           }
          ],
          "scatterpolar": [
           {
            "marker": {
             "colorbar": {
              "outlinewidth": 0,
              "ticks": ""
             }
            },
            "type": "scatterpolar"
           }
          ],
          "scatterpolargl": [
           {
            "marker": {
             "colorbar": {
              "outlinewidth": 0,
              "ticks": ""
             }
            },
            "type": "scatterpolargl"
           }
          ],
          "scatterternary": [
           {
            "marker": {
             "colorbar": {
              "outlinewidth": 0,
              "ticks": ""
             }
            },
            "type": "scatterternary"
           }
          ],
          "surface": [
           {
            "colorbar": {
             "outlinewidth": 0,
             "ticks": ""
            },
            "colorscale": [
             [
              0.0,
              "#0d0887"
             ],
             [
              0.1111111111111111,
              "#46039f"
             ],
             [
              0.2222222222222222,
              "#7201a8"
             ],
             [
              0.3333333333333333,
              "#9c179e"
             ],
             [
              0.4444444444444444,
              "#bd3786"
             ],
             [
              0.5555555555555556,
              "#d8576b"
             ],
             [
              0.6666666666666666,
              "#ed7953"
             ],
             [
              0.7777777777777778,
              "#fb9f3a"
             ],
             [
              0.8888888888888888,
              "#fdca26"
             ],
             [
              1.0,
              "#f0f921"
             ]
            ],
            "type": "surface"
           }
          ],
          "table": [
           {
            "cells": {
             "fill": {
              "color": "#EBF0F8"
             },
             "line": {
              "color": "white"
             }
            },
            "header": {
             "fill": {
              "color": "#C8D4E3"
             },
             "line": {
              "color": "white"
             }
            },
            "type": "table"
           }
          ]
         },
         "layout": {
          "annotationdefaults": {
           "arrowcolor": "#2a3f5f",
           "arrowhead": 0,
           "arrowwidth": 1
          },
          "autotypenumbers": "strict",
          "coloraxis": {
           "colorbar": {
            "outlinewidth": 0,
            "ticks": ""
           }
          },
          "colorscale": {
           "diverging": [
            [
             0,
             "#8e0152"
            ],
            [
             0.1,
             "#c51b7d"
            ],
            [
             0.2,
             "#de77ae"
            ],
            [
             0.3,
             "#f1b6da"
            ],
            [
             0.4,
             "#fde0ef"
            ],
            [
             0.5,
             "#f7f7f7"
            ],
            [
             0.6,
             "#e6f5d0"
            ],
            [
             0.7,
             "#b8e186"
            ],
            [
             0.8,
             "#7fbc41"
            ],
            [
             0.9,
             "#4d9221"
            ],
            [
             1,
             "#276419"
            ]
           ],
           "sequential": [
            [
             0.0,
             "#0d0887"
            ],
            [
             0.1111111111111111,
             "#46039f"
            ],
            [
             0.2222222222222222,
             "#7201a8"
            ],
            [
             0.3333333333333333,
             "#9c179e"
            ],
            [
             0.4444444444444444,
             "#bd3786"
            ],
            [
             0.5555555555555556,
             "#d8576b"
            ],
            [
             0.6666666666666666,
             "#ed7953"
            ],
            [
             0.7777777777777778,
             "#fb9f3a"
            ],
            [
             0.8888888888888888,
             "#fdca26"
            ],
            [
             1.0,
             "#f0f921"
            ]
           ],
           "sequentialminus": [
            [
             0.0,
             "#0d0887"
            ],
            [
             0.1111111111111111,
             "#46039f"
            ],
            [
             0.2222222222222222,
             "#7201a8"
            ],
            [
             0.3333333333333333,
             "#9c179e"
            ],
            [
             0.4444444444444444,
             "#bd3786"
            ],
            [
             0.5555555555555556,
             "#d8576b"
            ],
            [
             0.6666666666666666,
             "#ed7953"
            ],
            [
             0.7777777777777778,
             "#fb9f3a"
            ],
            [
             0.8888888888888888,
             "#fdca26"
            ],
            [
             1.0,
             "#f0f921"
            ]
           ]
          },
          "colorway": [
           "#636efa",
           "#EF553B",
           "#00cc96",
           "#ab63fa",
           "#FFA15A",
           "#19d3f3",
           "#FF6692",
           "#B6E880",
           "#FF97FF",
           "#FECB52"
          ],
          "font": {
           "color": "#2a3f5f"
          },
          "geo": {
           "bgcolor": "white",
           "lakecolor": "white",
           "landcolor": "#E5ECF6",
           "showlakes": true,
           "showland": true,
           "subunitcolor": "white"
          },
          "hoverlabel": {
           "align": "left"
          },
          "hovermode": "closest",
          "mapbox": {
           "style": "light"
          },
          "paper_bgcolor": "white",
          "plot_bgcolor": "#E5ECF6",
          "polar": {
           "angularaxis": {
            "gridcolor": "white",
            "linecolor": "white",
            "ticks": ""
           },
           "bgcolor": "#E5ECF6",
           "radialaxis": {
            "gridcolor": "white",
            "linecolor": "white",
            "ticks": ""
           }
          },
          "scene": {
           "xaxis": {
            "backgroundcolor": "#E5ECF6",
            "gridcolor": "white",
            "gridwidth": 2,
            "linecolor": "white",
            "showbackground": true,
            "ticks": "",
            "zerolinecolor": "white"
           },
           "yaxis": {
            "backgroundcolor": "#E5ECF6",
            "gridcolor": "white",
            "gridwidth": 2,
            "linecolor": "white",
            "showbackground": true,
            "ticks": "",
            "zerolinecolor": "white"
           },
           "zaxis": {
            "backgroundcolor": "#E5ECF6",
            "gridcolor": "white",
            "gridwidth": 2,
            "linecolor": "white",
            "showbackground": true,
            "ticks": "",
            "zerolinecolor": "white"
           }
          },
          "shapedefaults": {
           "line": {
            "color": "#2a3f5f"
           }
          },
          "ternary": {
           "aaxis": {
            "gridcolor": "white",
            "linecolor": "white",
            "ticks": ""
           },
           "baxis": {
            "gridcolor": "white",
            "linecolor": "white",
            "ticks": ""
           },
           "bgcolor": "#E5ECF6",
           "caxis": {
            "gridcolor": "white",
            "linecolor": "white",
            "ticks": ""
           }
          },
          "title": {
           "x": 0.05
          },
          "xaxis": {
           "automargin": true,
           "gridcolor": "white",
           "linecolor": "white",
           "ticks": "",
           "title": {
            "standoff": 15
           },
           "zerolinecolor": "white",
           "zerolinewidth": 2
          },
          "yaxis": {
           "automargin": true,
           "gridcolor": "white",
           "linecolor": "white",
           "ticks": "",
           "title": {
            "standoff": 15
           },
           "zerolinecolor": "white",
           "zerolinewidth": 2
          }
         }
        }
       },
       "config": {
        "plotlyServerURL": "https://plot.ly"
       }
      },
      "text/html": "<div>                            <div id=\"ba104819-ce51-4d7b-98c5-87d1bc957d54\" class=\"plotly-graph-div\" style=\"height:525px; width:100%;\"></div>            <script type=\"text/javascript\">                require([\"plotly\"], function(Plotly) {                    window.PLOTLYENV=window.PLOTLYENV || {};                                    if (document.getElementById(\"ba104819-ce51-4d7b-98c5-87d1bc957d54\")) {                    Plotly.newPlot(                        \"ba104819-ce51-4d7b-98c5-87d1bc957d54\",                        [{\"cliponaxis\":false,\"hovertemplate\":[\"max_depth (IntUniformDistribution): 8.372968908078455e-05<extra></extra>\",\"criterion (CategoricalDistribution): 0.0007543309531475823<extra></extra>\",\"min_impurity_decrease (UniformDistribution): 0.9991619393577716<extra></extra>\"],\"marker\":{\"color\":\"rgb(66,146,198)\"},\"orientation\":\"h\",\"text\":[\"8.372968908078455e-05\",\"0.0007543309531475823\",\"0.9991619393577716\"],\"textposition\":\"outside\",\"texttemplate\":\"%{text:.2f}\",\"x\":[8.372968908078455e-05,0.0007543309531475823,0.9991619393577716],\"y\":[\"max_depth\",\"criterion\",\"min_impurity_decrease\"],\"type\":\"bar\"}],                        {\"showlegend\":false,\"title\":{\"text\":\"Hyperparameter Importances\"},\"xaxis\":{\"title\":{\"text\":\"Importance for Objective Value\"}},\"yaxis\":{\"title\":{\"text\":\"Hyperparameter\"}},\"template\":{\"data\":{\"bar\":[{\"error_x\":{\"color\":\"#2a3f5f\"},\"error_y\":{\"color\":\"#2a3f5f\"},\"marker\":{\"line\":{\"color\":\"#E5ECF6\",\"width\":0.5},\"pattern\":{\"fillmode\":\"overlay\",\"size\":10,\"solidity\":0.2}},\"type\":\"bar\"}],\"barpolar\":[{\"marker\":{\"line\":{\"color\":\"#E5ECF6\",\"width\":0.5},\"pattern\":{\"fillmode\":\"overlay\",\"size\":10,\"solidity\":0.2}},\"type\":\"barpolar\"}],\"carpet\":[{\"aaxis\":{\"endlinecolor\":\"#2a3f5f\",\"gridcolor\":\"white\",\"linecolor\":\"white\",\"minorgridcolor\":\"white\",\"startlinecolor\":\"#2a3f5f\"},\"baxis\":{\"endlinecolor\":\"#2a3f5f\",\"gridcolor\":\"white\",\"linecolor\":\"white\",\"minorgridcolor\":\"white\",\"startlinecolor\":\"#2a3f5f\"},\"type\":\"carpet\"}],\"choropleth\":[{\"colorbar\":{\"outlinewidth\":0,\"ticks\":\"\"},\"type\":\"choropleth\"}],\"contour\":[{\"colorbar\":{\"outlinewidth\":0,\"ticks\":\"\"},\"colorscale\":[[0.0,\"#0d0887\"],[0.1111111111111111,\"#46039f\"],[0.2222222222222222,\"#7201a8\"],[0.3333333333333333,\"#9c179e\"],[0.4444444444444444,\"#bd3786\"],[0.5555555555555556,\"#d8576b\"],[0.6666666666666666,\"#ed7953\"],[0.7777777777777778,\"#fb9f3a\"],[0.8888888888888888,\"#fdca26\"],[1.0,\"#f0f921\"]],\"type\":\"contour\"}],\"contourcarpet\":[{\"colorbar\":{\"outlinewidth\":0,\"ticks\":\"\"},\"type\":\"contourcarpet\"}],\"heatmap\":[{\"colorbar\":{\"outlinewidth\":0,\"ticks\":\"\"},\"colorscale\":[[0.0,\"#0d0887\"],[0.1111111111111111,\"#46039f\"],[0.2222222222222222,\"#7201a8\"],[0.3333333333333333,\"#9c179e\"],[0.4444444444444444,\"#bd3786\"],[0.5555555555555556,\"#d8576b\"],[0.6666666666666666,\"#ed7953\"],[0.7777777777777778,\"#fb9f3a\"],[0.8888888888888888,\"#fdca26\"],[1.0,\"#f0f921\"]],\"type\":\"heatmap\"}],\"heatmapgl\":[{\"colorbar\":{\"outlinewidth\":0,\"ticks\":\"\"},\"colorscale\":[[0.0,\"#0d0887\"],[0.1111111111111111,\"#46039f\"],[0.2222222222222222,\"#7201a8\"],[0.3333333333333333,\"#9c179e\"],[0.4444444444444444,\"#bd3786\"],[0.5555555555555556,\"#d8576b\"],[0.6666666666666666,\"#ed7953\"],[0.7777777777777778,\"#fb9f3a\"],[0.8888888888888888,\"#fdca26\"],[1.0,\"#f0f921\"]],\"type\":\"heatmapgl\"}],\"histogram\":[{\"marker\":{\"pattern\":{\"fillmode\":\"overlay\",\"size\":10,\"solidity\":0.2}},\"type\":\"histogram\"}],\"histogram2d\":[{\"colorbar\":{\"outlinewidth\":0,\"ticks\":\"\"},\"colorscale\":[[0.0,\"#0d0887\"],[0.1111111111111111,\"#46039f\"],[0.2222222222222222,\"#7201a8\"],[0.3333333333333333,\"#9c179e\"],[0.4444444444444444,\"#bd3786\"],[0.5555555555555556,\"#d8576b\"],[0.6666666666666666,\"#ed7953\"],[0.7777777777777778,\"#fb9f3a\"],[0.8888888888888888,\"#fdca26\"],[1.0,\"#f0f921\"]],\"type\":\"histogram2d\"}],\"histogram2dcontour\":[{\"colorbar\":{\"outlinewidth\":0,\"ticks\":\"\"},\"colorscale\":[[0.0,\"#0d0887\"],[0.1111111111111111,\"#46039f\"],[0.2222222222222222,\"#7201a8\"],[0.3333333333333333,\"#9c179e\"],[0.4444444444444444,\"#bd3786\"],[0.5555555555555556,\"#d8576b\"],[0.6666666666666666,\"#ed7953\"],[0.7777777777777778,\"#fb9f3a\"],[0.8888888888888888,\"#fdca26\"],[1.0,\"#f0f921\"]],\"type\":\"histogram2dcontour\"}],\"mesh3d\":[{\"colorbar\":{\"outlinewidth\":0,\"ticks\":\"\"},\"type\":\"mesh3d\"}],\"parcoords\":[{\"line\":{\"colorbar\":{\"outlinewidth\":0,\"ticks\":\"\"}},\"type\":\"parcoords\"}],\"pie\":[{\"automargin\":true,\"type\":\"pie\"}],\"scatter\":[{\"marker\":{\"colorbar\":{\"outlinewidth\":0,\"ticks\":\"\"}},\"type\":\"scatter\"}],\"scatter3d\":[{\"line\":{\"colorbar\":{\"outlinewidth\":0,\"ticks\":\"\"}},\"marker\":{\"colorbar\":{\"outlinewidth\":0,\"ticks\":\"\"}},\"type\":\"scatter3d\"}],\"scattercarpet\":[{\"marker\":{\"colorbar\":{\"outlinewidth\":0,\"ticks\":\"\"}},\"type\":\"scattercarpet\"}],\"scattergeo\":[{\"marker\":{\"colorbar\":{\"outlinewidth\":0,\"ticks\":\"\"}},\"type\":\"scattergeo\"}],\"scattergl\":[{\"marker\":{\"colorbar\":{\"outlinewidth\":0,\"ticks\":\"\"}},\"type\":\"scattergl\"}],\"scattermapbox\":[{\"marker\":{\"colorbar\":{\"outlinewidth\":0,\"ticks\":\"\"}},\"type\":\"scattermapbox\"}],\"scatterpolar\":[{\"marker\":{\"colorbar\":{\"outlinewidth\":0,\"ticks\":\"\"}},\"type\":\"scatterpolar\"}],\"scatterpolargl\":[{\"marker\":{\"colorbar\":{\"outlinewidth\":0,\"ticks\":\"\"}},\"type\":\"scatterpolargl\"}],\"scatterternary\":[{\"marker\":{\"colorbar\":{\"outlinewidth\":0,\"ticks\":\"\"}},\"type\":\"scatterternary\"}],\"surface\":[{\"colorbar\":{\"outlinewidth\":0,\"ticks\":\"\"},\"colorscale\":[[0.0,\"#0d0887\"],[0.1111111111111111,\"#46039f\"],[0.2222222222222222,\"#7201a8\"],[0.3333333333333333,\"#9c179e\"],[0.4444444444444444,\"#bd3786\"],[0.5555555555555556,\"#d8576b\"],[0.6666666666666666,\"#ed7953\"],[0.7777777777777778,\"#fb9f3a\"],[0.8888888888888888,\"#fdca26\"],[1.0,\"#f0f921\"]],\"type\":\"surface\"}],\"table\":[{\"cells\":{\"fill\":{\"color\":\"#EBF0F8\"},\"line\":{\"color\":\"white\"}},\"header\":{\"fill\":{\"color\":\"#C8D4E3\"},\"line\":{\"color\":\"white\"}},\"type\":\"table\"}]},\"layout\":{\"annotationdefaults\":{\"arrowcolor\":\"#2a3f5f\",\"arrowhead\":0,\"arrowwidth\":1},\"autotypenumbers\":\"strict\",\"coloraxis\":{\"colorbar\":{\"outlinewidth\":0,\"ticks\":\"\"}},\"colorscale\":{\"diverging\":[[0,\"#8e0152\"],[0.1,\"#c51b7d\"],[0.2,\"#de77ae\"],[0.3,\"#f1b6da\"],[0.4,\"#fde0ef\"],[0.5,\"#f7f7f7\"],[0.6,\"#e6f5d0\"],[0.7,\"#b8e186\"],[0.8,\"#7fbc41\"],[0.9,\"#4d9221\"],[1,\"#276419\"]],\"sequential\":[[0.0,\"#0d0887\"],[0.1111111111111111,\"#46039f\"],[0.2222222222222222,\"#7201a8\"],[0.3333333333333333,\"#9c179e\"],[0.4444444444444444,\"#bd3786\"],[0.5555555555555556,\"#d8576b\"],[0.6666666666666666,\"#ed7953\"],[0.7777777777777778,\"#fb9f3a\"],[0.8888888888888888,\"#fdca26\"],[1.0,\"#f0f921\"]],\"sequentialminus\":[[0.0,\"#0d0887\"],[0.1111111111111111,\"#46039f\"],[0.2222222222222222,\"#7201a8\"],[0.3333333333333333,\"#9c179e\"],[0.4444444444444444,\"#bd3786\"],[0.5555555555555556,\"#d8576b\"],[0.6666666666666666,\"#ed7953\"],[0.7777777777777778,\"#fb9f3a\"],[0.8888888888888888,\"#fdca26\"],[1.0,\"#f0f921\"]]},\"colorway\":[\"#636efa\",\"#EF553B\",\"#00cc96\",\"#ab63fa\",\"#FFA15A\",\"#19d3f3\",\"#FF6692\",\"#B6E880\",\"#FF97FF\",\"#FECB52\"],\"font\":{\"color\":\"#2a3f5f\"},\"geo\":{\"bgcolor\":\"white\",\"lakecolor\":\"white\",\"landcolor\":\"#E5ECF6\",\"showlakes\":true,\"showland\":true,\"subunitcolor\":\"white\"},\"hoverlabel\":{\"align\":\"left\"},\"hovermode\":\"closest\",\"mapbox\":{\"style\":\"light\"},\"paper_bgcolor\":\"white\",\"plot_bgcolor\":\"#E5ECF6\",\"polar\":{\"angularaxis\":{\"gridcolor\":\"white\",\"linecolor\":\"white\",\"ticks\":\"\"},\"bgcolor\":\"#E5ECF6\",\"radialaxis\":{\"gridcolor\":\"white\",\"linecolor\":\"white\",\"ticks\":\"\"}},\"scene\":{\"xaxis\":{\"backgroundcolor\":\"#E5ECF6\",\"gridcolor\":\"white\",\"gridwidth\":2,\"linecolor\":\"white\",\"showbackground\":true,\"ticks\":\"\",\"zerolinecolor\":\"white\"},\"yaxis\":{\"backgroundcolor\":\"#E5ECF6\",\"gridcolor\":\"white\",\"gridwidth\":2,\"linecolor\":\"white\",\"showbackground\":true,\"ticks\":\"\",\"zerolinecolor\":\"white\"},\"zaxis\":{\"backgroundcolor\":\"#E5ECF6\",\"gridcolor\":\"white\",\"gridwidth\":2,\"linecolor\":\"white\",\"showbackground\":true,\"ticks\":\"\",\"zerolinecolor\":\"white\"}},\"shapedefaults\":{\"line\":{\"color\":\"#2a3f5f\"}},\"ternary\":{\"aaxis\":{\"gridcolor\":\"white\",\"linecolor\":\"white\",\"ticks\":\"\"},\"baxis\":{\"gridcolor\":\"white\",\"linecolor\":\"white\",\"ticks\":\"\"},\"bgcolor\":\"#E5ECF6\",\"caxis\":{\"gridcolor\":\"white\",\"linecolor\":\"white\",\"ticks\":\"\"}},\"title\":{\"x\":0.05},\"xaxis\":{\"automargin\":true,\"gridcolor\":\"white\",\"linecolor\":\"white\",\"ticks\":\"\",\"title\":{\"standoff\":15},\"zerolinecolor\":\"white\",\"zerolinewidth\":2},\"yaxis\":{\"automargin\":true,\"gridcolor\":\"white\",\"linecolor\":\"white\",\"ticks\":\"\",\"title\":{\"standoff\":15},\"zerolinecolor\":\"white\",\"zerolinewidth\":2}}}},                        {\"responsive\": true}                    ).then(function(){\n                            \nvar gd = document.getElementById('ba104819-ce51-4d7b-98c5-87d1bc957d54');\nvar x = new MutationObserver(function (mutations, observer) {{\n        var display = window.getComputedStyle(gd).display;\n        if (!display || display === 'none') {{\n            console.log([gd, 'removed!']);\n            Plotly.purge(gd);\n            observer.disconnect();\n        }}\n}});\n\n// Listen for the removal of the full notebook cells\nvar notebookContainer = gd.closest('#notebook-container');\nif (notebookContainer) {{\n    x.observe(notebookContainer, {childList: true});\n}}\n\n// Listen for the clearing of the current output cell\nvar outputEl = gd.closest('.output');\nif (outputEl) {{\n    x.observe(outputEl, {childList: true});\n}}\n\n                        })                };                });            </script>        </div>"
     },
     "metadata": {},
     "output_type": "display_data"
    }
   ],
   "source": [
    "\n",
    "def objective(trial):\n",
    "    criterion = trial.suggest_categorical(\"criterion\", [\"gini\", \"entropy\"])\n",
    "    min_impurity_decrease = trial.suggest_float(\"min_impurity_decrease\", 0.0, 0.05)\n",
    "    max_depth = trial.suggest_int(\"max_depth\", 50, 200)\n",
    "    trial_model = DecisionTreeClassifier(criterion=criterion, max_depth=max_depth, min_impurity_decrease=min_impurity_decrease)\n",
    "    trial_model = trial_model.fit(train_x, train_y)\n",
    "    trial_pred_y = trial_model.predict(test_x)\n",
    "    trial_test_metric = f1_score(test_y, trial_pred_y)\n",
    "    return trial_test_metric\n",
    "\n",
    "\n",
    "study = optuna.create_study(direction='maximize')\n",
    "study.optimize(objective, n_trials=100)\n",
    "print(study.best_value, study.best_params)\n",
    "\n",
    "fig = optuna.visualization.plot_param_importances(study)\n",
    "fig.show()"
   ]
  },
  {
   "cell_type": "markdown",
   "source": [
    "## Searching optimal hyperparameters for Random Forest"
   ],
   "metadata": {
    "collapsed": false,
    "pycharm": {
     "name": "#%% md\n"
    }
   }
  },
  {
   "cell_type": "code",
   "execution_count": 25,
   "outputs": [
    {
     "name": "stderr",
     "output_type": "stream",
     "text": [
      "\u001B[32m[I 2022-08-03 16:53:24,057]\u001B[0m A new study created in memory with name: no-name-344fdec4-f7ce-44d5-b1e9-c05a0f3b5e51\u001B[0m\n",
      "\u001B[32m[I 2022-08-03 16:53:28,391]\u001B[0m Trial 0 finished with value: 0.0 and parameters: {'min_impurity_decrease': 0.0003774529044237309, 'n_estimators': 67, 'max_depth': 74}. Best is trial 0 with value: 0.0.\u001B[0m\n",
      "\u001B[32m[I 2022-08-03 16:53:35,318]\u001B[0m Trial 1 finished with value: 0.0 and parameters: {'min_impurity_decrease': 0.00048049180709557624, 'n_estimators': 146, 'max_depth': 115}. Best is trial 0 with value: 0.0.\u001B[0m\n",
      "\u001B[32m[I 2022-08-03 16:53:41,875]\u001B[0m Trial 2 finished with value: 0.0 and parameters: {'min_impurity_decrease': 0.00018879075705341726, 'n_estimators': 80, 'max_depth': 131}. Best is trial 0 with value: 0.0.\u001B[0m\n",
      "\u001B[32m[I 2022-08-03 16:53:49,705]\u001B[0m Trial 3 finished with value: 0.0 and parameters: {'min_impurity_decrease': 0.0002523436290226608, 'n_estimators': 113, 'max_depth': 18}. Best is trial 0 with value: 0.0.\u001B[0m\n",
      "\u001B[32m[I 2022-08-03 16:53:55,899]\u001B[0m Trial 4 finished with value: 0.0 and parameters: {'min_impurity_decrease': 0.0003904932307014118, 'n_estimators': 124, 'max_depth': 54}. Best is trial 0 with value: 0.0.\u001B[0m\n",
      "\u001B[32m[I 2022-08-03 16:54:37,064]\u001B[0m Trial 5 finished with value: 0.3157044812272911 and parameters: {'min_impurity_decrease': 3.480305711254461e-06, 'n_estimators': 119, 'max_depth': 68}. Best is trial 5 with value: 0.3157044812272911.\u001B[0m\n",
      "\u001B[32m[I 2022-08-03 16:54:40,185]\u001B[0m Trial 6 finished with value: 0.0 and parameters: {'min_impurity_decrease': 0.00023772108772200195, 'n_estimators': 33, 'max_depth': 56}. Best is trial 5 with value: 0.3157044812272911.\u001B[0m\n",
      "\u001B[32m[I 2022-08-03 16:54:42,539]\u001B[0m Trial 7 finished with value: 0.0 and parameters: {'min_impurity_decrease': 0.00018259554602225364, 'n_estimators': 22, 'max_depth': 79}. Best is trial 5 with value: 0.3157044812272911.\u001B[0m\n",
      "\u001B[32m[I 2022-08-03 16:54:53,974]\u001B[0m Trial 8 finished with value: 0.02549719530851606 and parameters: {'min_impurity_decrease': 5.798396140931134e-05, 'n_estimators': 62, 'max_depth': 117}. Best is trial 5 with value: 0.3157044812272911.\u001B[0m\n",
      "\u001B[32m[I 2022-08-03 16:55:05,016]\u001B[0m Trial 9 finished with value: 0.0 and parameters: {'min_impurity_decrease': 0.0001857079474302446, 'n_estimators': 118, 'max_depth': 77}. Best is trial 5 with value: 0.3157044812272911.\u001B[0m\n",
      "\u001B[32m[I 2022-08-03 16:55:21,847]\u001B[0m Trial 10 finished with value: 0.03546099290780142 and parameters: {'min_impurity_decrease': 1.5664473178857673e-05, 'n_estimators': 99, 'max_depth': 11}. Best is trial 5 with value: 0.3157044812272911.\u001B[0m\n",
      "\u001B[32m[I 2022-08-03 16:55:36,462]\u001B[0m Trial 11 finished with value: 0.03247082699137494 and parameters: {'min_impurity_decrease': 2.4635370008192194e-05, 'n_estimators': 99, 'max_depth': 11}. Best is trial 5 with value: 0.3157044812272911.\u001B[0m\n",
      "\u001B[32m[I 2022-08-03 16:55:47,764]\u001B[0m Trial 12 finished with value: 0.0 and parameters: {'min_impurity_decrease': 8.845199583833441e-05, 'n_estimators': 97, 'max_depth': 35}. Best is trial 5 with value: 0.3157044812272911.\u001B[0m\n",
      "\u001B[32m[I 2022-08-03 16:56:56,466]\u001B[0m Trial 13 finished with value: 0.36736214605067063 and parameters: {'min_impurity_decrease': 6.383275688914441e-08, 'n_estimators': 150, 'max_depth': 100}. Best is trial 13 with value: 0.36736214605067063.\u001B[0m\n",
      "\u001B[32m[I 2022-08-03 16:57:12,309]\u001B[0m Trial 14 finished with value: 0.0 and parameters: {'min_impurity_decrease': 0.00011417538464684236, 'n_estimators': 148, 'max_depth': 101}. Best is trial 13 with value: 0.36736214605067063.\u001B[0m\n",
      "\u001B[32m[I 2022-08-03 16:57:46,528]\u001B[0m Trial 15 finished with value: 0.27511463109629014 and parameters: {'min_impurity_decrease': 6.672095044104002e-06, 'n_estimators': 134, 'max_depth': 146}. Best is trial 13 with value: 0.36736214605067063.\u001B[0m\n",
      "\u001B[32m[I 2022-08-03 16:58:00,209]\u001B[0m Trial 16 finished with value: 0.0 and parameters: {'min_impurity_decrease': 0.00011068476456704647, 'n_estimators': 133, 'max_depth': 97}. Best is trial 13 with value: 0.36736214605067063.\u001B[0m\n",
      "\u001B[32m[I 2022-08-03 16:58:08,219]\u001B[0m Trial 17 finished with value: 0.0 and parameters: {'min_impurity_decrease': 0.00031723625942821376, 'n_estimators': 148, 'max_depth': 58}. Best is trial 13 with value: 0.36736214605067063.\u001B[0m\n",
      "\u001B[32m[I 2022-08-03 16:58:18,107]\u001B[0m Trial 18 finished with value: 0.0 and parameters: {'min_impurity_decrease': 0.0001334546042809869, 'n_estimators': 108, 'max_depth': 96}. Best is trial 13 with value: 0.36736214605067063.\u001B[0m\n",
      "\u001B[32m[I 2022-08-03 16:58:36,515]\u001B[0m Trial 19 finished with value: 0.010357327809425169 and parameters: {'min_impurity_decrease': 6.140294406952775e-05, 'n_estimators': 132, 'max_depth': 41}. Best is trial 13 with value: 0.36736214605067063.\u001B[0m\n",
      "\u001B[32m[I 2022-08-03 16:58:44,115]\u001B[0m Trial 20 finished with value: 0.05446293494704993 and parameters: {'min_impurity_decrease': 5.816119602612472e-05, 'n_estimators': 52, 'max_depth': 91}. Best is trial 13 with value: 0.36736214605067063.\u001B[0m\n",
      "\u001B[32m[I 2022-08-03 16:59:20,036]\u001B[0m Trial 21 finished with value: 0.2437768240343348 and parameters: {'min_impurity_decrease': 1.0570530046722336e-05, 'n_estimators': 131, 'max_depth': 146}. Best is trial 13 with value: 0.36736214605067063.\u001B[0m\n",
      "\u001B[32m[I 2022-08-03 17:00:03,600]\u001B[0m Trial 22 finished with value: 0.3089430894308943 and parameters: {'min_impurity_decrease': 6.373322380716216e-06, 'n_estimators': 135, 'max_depth': 148}. Best is trial 13 with value: 0.36736214605067063.\u001B[0m\n",
      "\u001B[32m[I 2022-08-03 17:00:12,481]\u001B[0m Trial 23 finished with value: 0.0 and parameters: {'min_impurity_decrease': 0.00014704609411887184, 'n_estimators': 85, 'max_depth': 129}. Best is trial 13 with value: 0.36736214605067063.\u001B[0m\n",
      "\u001B[32m[I 2022-08-03 17:00:39,052]\u001B[0m Trial 24 finished with value: 0.016537467700258397 and parameters: {'min_impurity_decrease': 6.53085111086289e-05, 'n_estimators': 138, 'max_depth': 110}. Best is trial 13 with value: 0.36736214605067063.\u001B[0m\n"
     ]
    },
    {
     "name": "stdout",
     "output_type": "stream",
     "text": [
      "0.36736214605067063 {'min_impurity_decrease': 6.383275688914441e-08, 'n_estimators': 150, 'max_depth': 100}\n"
     ]
    },
    {
     "data": {
      "application/vnd.plotly.v1+json": {
       "data": [
        {
         "cliponaxis": false,
         "hovertemplate": [
          "n_estimators (IntUniformDistribution): 0.00025023679741706693<extra></extra>",
          "max_depth (IntUniformDistribution): 0.07782603889611965<extra></extra>",
          "min_impurity_decrease (UniformDistribution): 0.9219237243064634<extra></extra>"
         ],
         "marker": {
          "color": "rgb(66,146,198)"
         },
         "orientation": "h",
         "text": [
          "0.00025023679741706693",
          "0.07782603889611965",
          "0.9219237243064634"
         ],
         "textposition": "outside",
         "texttemplate": "%{text:.2f}",
         "x": [
          2.5023679741706693E-4,
          0.07782603889611965,
          0.9219237243064634
         ],
         "y": [
          "n_estimators",
          "max_depth",
          "min_impurity_decrease"
         ],
         "type": "bar"
        }
       ],
       "layout": {
        "showlegend": false,
        "title": {
         "text": "Hyperparameter Importances"
        },
        "xaxis": {
         "title": {
          "text": "Importance for Objective Value"
         }
        },
        "yaxis": {
         "title": {
          "text": "Hyperparameter"
         }
        },
        "template": {
         "data": {
          "bar": [
           {
            "error_x": {
             "color": "#2a3f5f"
            },
            "error_y": {
             "color": "#2a3f5f"
            },
            "marker": {
             "line": {
              "color": "#E5ECF6",
              "width": 0.5
             },
             "pattern": {
              "fillmode": "overlay",
              "size": 10,
              "solidity": 0.2
             }
            },
            "type": "bar"
           }
          ],
          "barpolar": [
           {
            "marker": {
             "line": {
              "color": "#E5ECF6",
              "width": 0.5
             },
             "pattern": {
              "fillmode": "overlay",
              "size": 10,
              "solidity": 0.2
             }
            },
            "type": "barpolar"
           }
          ],
          "carpet": [
           {
            "aaxis": {
             "endlinecolor": "#2a3f5f",
             "gridcolor": "white",
             "linecolor": "white",
             "minorgridcolor": "white",
             "startlinecolor": "#2a3f5f"
            },
            "baxis": {
             "endlinecolor": "#2a3f5f",
             "gridcolor": "white",
             "linecolor": "white",
             "minorgridcolor": "white",
             "startlinecolor": "#2a3f5f"
            },
            "type": "carpet"
           }
          ],
          "choropleth": [
           {
            "colorbar": {
             "outlinewidth": 0,
             "ticks": ""
            },
            "type": "choropleth"
           }
          ],
          "contour": [
           {
            "colorbar": {
             "outlinewidth": 0,
             "ticks": ""
            },
            "colorscale": [
             [
              0.0,
              "#0d0887"
             ],
             [
              0.1111111111111111,
              "#46039f"
             ],
             [
              0.2222222222222222,
              "#7201a8"
             ],
             [
              0.3333333333333333,
              "#9c179e"
             ],
             [
              0.4444444444444444,
              "#bd3786"
             ],
             [
              0.5555555555555556,
              "#d8576b"
             ],
             [
              0.6666666666666666,
              "#ed7953"
             ],
             [
              0.7777777777777778,
              "#fb9f3a"
             ],
             [
              0.8888888888888888,
              "#fdca26"
             ],
             [
              1.0,
              "#f0f921"
             ]
            ],
            "type": "contour"
           }
          ],
          "contourcarpet": [
           {
            "colorbar": {
             "outlinewidth": 0,
             "ticks": ""
            },
            "type": "contourcarpet"
           }
          ],
          "heatmap": [
           {
            "colorbar": {
             "outlinewidth": 0,
             "ticks": ""
            },
            "colorscale": [
             [
              0.0,
              "#0d0887"
             ],
             [
              0.1111111111111111,
              "#46039f"
             ],
             [
              0.2222222222222222,
              "#7201a8"
             ],
             [
              0.3333333333333333,
              "#9c179e"
             ],
             [
              0.4444444444444444,
              "#bd3786"
             ],
             [
              0.5555555555555556,
              "#d8576b"
             ],
             [
              0.6666666666666666,
              "#ed7953"
             ],
             [
              0.7777777777777778,
              "#fb9f3a"
             ],
             [
              0.8888888888888888,
              "#fdca26"
             ],
             [
              1.0,
              "#f0f921"
             ]
            ],
            "type": "heatmap"
           }
          ],
          "heatmapgl": [
           {
            "colorbar": {
             "outlinewidth": 0,
             "ticks": ""
            },
            "colorscale": [
             [
              0.0,
              "#0d0887"
             ],
             [
              0.1111111111111111,
              "#46039f"
             ],
             [
              0.2222222222222222,
              "#7201a8"
             ],
             [
              0.3333333333333333,
              "#9c179e"
             ],
             [
              0.4444444444444444,
              "#bd3786"
             ],
             [
              0.5555555555555556,
              "#d8576b"
             ],
             [
              0.6666666666666666,
              "#ed7953"
             ],
             [
              0.7777777777777778,
              "#fb9f3a"
             ],
             [
              0.8888888888888888,
              "#fdca26"
             ],
             [
              1.0,
              "#f0f921"
             ]
            ],
            "type": "heatmapgl"
           }
          ],
          "histogram": [
           {
            "marker": {
             "pattern": {
              "fillmode": "overlay",
              "size": 10,
              "solidity": 0.2
             }
            },
            "type": "histogram"
           }
          ],
          "histogram2d": [
           {
            "colorbar": {
             "outlinewidth": 0,
             "ticks": ""
            },
            "colorscale": [
             [
              0.0,
              "#0d0887"
             ],
             [
              0.1111111111111111,
              "#46039f"
             ],
             [
              0.2222222222222222,
              "#7201a8"
             ],
             [
              0.3333333333333333,
              "#9c179e"
             ],
             [
              0.4444444444444444,
              "#bd3786"
             ],
             [
              0.5555555555555556,
              "#d8576b"
             ],
             [
              0.6666666666666666,
              "#ed7953"
             ],
             [
              0.7777777777777778,
              "#fb9f3a"
             ],
             [
              0.8888888888888888,
              "#fdca26"
             ],
             [
              1.0,
              "#f0f921"
             ]
            ],
            "type": "histogram2d"
           }
          ],
          "histogram2dcontour": [
           {
            "colorbar": {
             "outlinewidth": 0,
             "ticks": ""
            },
            "colorscale": [
             [
              0.0,
              "#0d0887"
             ],
             [
              0.1111111111111111,
              "#46039f"
             ],
             [
              0.2222222222222222,
              "#7201a8"
             ],
             [
              0.3333333333333333,
              "#9c179e"
             ],
             [
              0.4444444444444444,
              "#bd3786"
             ],
             [
              0.5555555555555556,
              "#d8576b"
             ],
             [
              0.6666666666666666,
              "#ed7953"
             ],
             [
              0.7777777777777778,
              "#fb9f3a"
             ],
             [
              0.8888888888888888,
              "#fdca26"
             ],
             [
              1.0,
              "#f0f921"
             ]
            ],
            "type": "histogram2dcontour"
           }
          ],
          "mesh3d": [
           {
            "colorbar": {
             "outlinewidth": 0,
             "ticks": ""
            },
            "type": "mesh3d"
           }
          ],
          "parcoords": [
           {
            "line": {
             "colorbar": {
              "outlinewidth": 0,
              "ticks": ""
             }
            },
            "type": "parcoords"
           }
          ],
          "pie": [
           {
            "automargin": true,
            "type": "pie"
           }
          ],
          "scatter": [
           {
            "marker": {
             "colorbar": {
              "outlinewidth": 0,
              "ticks": ""
             }
            },
            "type": "scatter"
           }
          ],
          "scatter3d": [
           {
            "line": {
             "colorbar": {
              "outlinewidth": 0,
              "ticks": ""
             }
            },
            "marker": {
             "colorbar": {
              "outlinewidth": 0,
              "ticks": ""
             }
            },
            "type": "scatter3d"
           }
          ],
          "scattercarpet": [
           {
            "marker": {
             "colorbar": {
              "outlinewidth": 0,
              "ticks": ""
             }
            },
            "type": "scattercarpet"
           }
          ],
          "scattergeo": [
           {
            "marker": {
             "colorbar": {
              "outlinewidth": 0,
              "ticks": ""
             }
            },
            "type": "scattergeo"
           }
          ],
          "scattergl": [
           {
            "marker": {
             "colorbar": {
              "outlinewidth": 0,
              "ticks": ""
             }
            },
            "type": "scattergl"
           }
          ],
          "scattermapbox": [
           {
            "marker": {
             "colorbar": {
              "outlinewidth": 0,
              "ticks": ""
             }
            },
            "type": "scattermapbox"
           }
          ],
          "scatterpolar": [
           {
            "marker": {
             "colorbar": {
              "outlinewidth": 0,
              "ticks": ""
             }
            },
            "type": "scatterpolar"
           }
          ],
          "scatterpolargl": [
           {
            "marker": {
             "colorbar": {
              "outlinewidth": 0,
              "ticks": ""
             }
            },
            "type": "scatterpolargl"
           }
          ],
          "scatterternary": [
           {
            "marker": {
             "colorbar": {
              "outlinewidth": 0,
              "ticks": ""
             }
            },
            "type": "scatterternary"
           }
          ],
          "surface": [
           {
            "colorbar": {
             "outlinewidth": 0,
             "ticks": ""
            },
            "colorscale": [
             [
              0.0,
              "#0d0887"
             ],
             [
              0.1111111111111111,
              "#46039f"
             ],
             [
              0.2222222222222222,
              "#7201a8"
             ],
             [
              0.3333333333333333,
              "#9c179e"
             ],
             [
              0.4444444444444444,
              "#bd3786"
             ],
             [
              0.5555555555555556,
              "#d8576b"
             ],
             [
              0.6666666666666666,
              "#ed7953"
             ],
             [
              0.7777777777777778,
              "#fb9f3a"
             ],
             [
              0.8888888888888888,
              "#fdca26"
             ],
             [
              1.0,
              "#f0f921"
             ]
            ],
            "type": "surface"
           }
          ],
          "table": [
           {
            "cells": {
             "fill": {
              "color": "#EBF0F8"
             },
             "line": {
              "color": "white"
             }
            },
            "header": {
             "fill": {
              "color": "#C8D4E3"
             },
             "line": {
              "color": "white"
             }
            },
            "type": "table"
           }
          ]
         },
         "layout": {
          "annotationdefaults": {
           "arrowcolor": "#2a3f5f",
           "arrowhead": 0,
           "arrowwidth": 1
          },
          "autotypenumbers": "strict",
          "coloraxis": {
           "colorbar": {
            "outlinewidth": 0,
            "ticks": ""
           }
          },
          "colorscale": {
           "diverging": [
            [
             0,
             "#8e0152"
            ],
            [
             0.1,
             "#c51b7d"
            ],
            [
             0.2,
             "#de77ae"
            ],
            [
             0.3,
             "#f1b6da"
            ],
            [
             0.4,
             "#fde0ef"
            ],
            [
             0.5,
             "#f7f7f7"
            ],
            [
             0.6,
             "#e6f5d0"
            ],
            [
             0.7,
             "#b8e186"
            ],
            [
             0.8,
             "#7fbc41"
            ],
            [
             0.9,
             "#4d9221"
            ],
            [
             1,
             "#276419"
            ]
           ],
           "sequential": [
            [
             0.0,
             "#0d0887"
            ],
            [
             0.1111111111111111,
             "#46039f"
            ],
            [
             0.2222222222222222,
             "#7201a8"
            ],
            [
             0.3333333333333333,
             "#9c179e"
            ],
            [
             0.4444444444444444,
             "#bd3786"
            ],
            [
             0.5555555555555556,
             "#d8576b"
            ],
            [
             0.6666666666666666,
             "#ed7953"
            ],
            [
             0.7777777777777778,
             "#fb9f3a"
            ],
            [
             0.8888888888888888,
             "#fdca26"
            ],
            [
             1.0,
             "#f0f921"
            ]
           ],
           "sequentialminus": [
            [
             0.0,
             "#0d0887"
            ],
            [
             0.1111111111111111,
             "#46039f"
            ],
            [
             0.2222222222222222,
             "#7201a8"
            ],
            [
             0.3333333333333333,
             "#9c179e"
            ],
            [
             0.4444444444444444,
             "#bd3786"
            ],
            [
             0.5555555555555556,
             "#d8576b"
            ],
            [
             0.6666666666666666,
             "#ed7953"
            ],
            [
             0.7777777777777778,
             "#fb9f3a"
            ],
            [
             0.8888888888888888,
             "#fdca26"
            ],
            [
             1.0,
             "#f0f921"
            ]
           ]
          },
          "colorway": [
           "#636efa",
           "#EF553B",
           "#00cc96",
           "#ab63fa",
           "#FFA15A",
           "#19d3f3",
           "#FF6692",
           "#B6E880",
           "#FF97FF",
           "#FECB52"
          ],
          "font": {
           "color": "#2a3f5f"
          },
          "geo": {
           "bgcolor": "white",
           "lakecolor": "white",
           "landcolor": "#E5ECF6",
           "showlakes": true,
           "showland": true,
           "subunitcolor": "white"
          },
          "hoverlabel": {
           "align": "left"
          },
          "hovermode": "closest",
          "mapbox": {
           "style": "light"
          },
          "paper_bgcolor": "white",
          "plot_bgcolor": "#E5ECF6",
          "polar": {
           "angularaxis": {
            "gridcolor": "white",
            "linecolor": "white",
            "ticks": ""
           },
           "bgcolor": "#E5ECF6",
           "radialaxis": {
            "gridcolor": "white",
            "linecolor": "white",
            "ticks": ""
           }
          },
          "scene": {
           "xaxis": {
            "backgroundcolor": "#E5ECF6",
            "gridcolor": "white",
            "gridwidth": 2,
            "linecolor": "white",
            "showbackground": true,
            "ticks": "",
            "zerolinecolor": "white"
           },
           "yaxis": {
            "backgroundcolor": "#E5ECF6",
            "gridcolor": "white",
            "gridwidth": 2,
            "linecolor": "white",
            "showbackground": true,
            "ticks": "",
            "zerolinecolor": "white"
           },
           "zaxis": {
            "backgroundcolor": "#E5ECF6",
            "gridcolor": "white",
            "gridwidth": 2,
            "linecolor": "white",
            "showbackground": true,
            "ticks": "",
            "zerolinecolor": "white"
           }
          },
          "shapedefaults": {
           "line": {
            "color": "#2a3f5f"
           }
          },
          "ternary": {
           "aaxis": {
            "gridcolor": "white",
            "linecolor": "white",
            "ticks": ""
           },
           "baxis": {
            "gridcolor": "white",
            "linecolor": "white",
            "ticks": ""
           },
           "bgcolor": "#E5ECF6",
           "caxis": {
            "gridcolor": "white",
            "linecolor": "white",
            "ticks": ""
           }
          },
          "title": {
           "x": 0.05
          },
          "xaxis": {
           "automargin": true,
           "gridcolor": "white",
           "linecolor": "white",
           "ticks": "",
           "title": {
            "standoff": 15
           },
           "zerolinecolor": "white",
           "zerolinewidth": 2
          },
          "yaxis": {
           "automargin": true,
           "gridcolor": "white",
           "linecolor": "white",
           "ticks": "",
           "title": {
            "standoff": 15
           },
           "zerolinecolor": "white",
           "zerolinewidth": 2
          }
         }
        }
       },
       "config": {
        "plotlyServerURL": "https://plot.ly"
       }
      },
      "text/html": "<div>                            <div id=\"d365933a-e02f-491f-aec4-9e0b76aa9bdc\" class=\"plotly-graph-div\" style=\"height:525px; width:100%;\"></div>            <script type=\"text/javascript\">                require([\"plotly\"], function(Plotly) {                    window.PLOTLYENV=window.PLOTLYENV || {};                                    if (document.getElementById(\"d365933a-e02f-491f-aec4-9e0b76aa9bdc\")) {                    Plotly.newPlot(                        \"d365933a-e02f-491f-aec4-9e0b76aa9bdc\",                        [{\"cliponaxis\":false,\"hovertemplate\":[\"n_estimators (IntUniformDistribution): 0.00025023679741706693<extra></extra>\",\"max_depth (IntUniformDistribution): 0.07782603889611965<extra></extra>\",\"min_impurity_decrease (UniformDistribution): 0.9219237243064634<extra></extra>\"],\"marker\":{\"color\":\"rgb(66,146,198)\"},\"orientation\":\"h\",\"text\":[\"0.00025023679741706693\",\"0.07782603889611965\",\"0.9219237243064634\"],\"textposition\":\"outside\",\"texttemplate\":\"%{text:.2f}\",\"x\":[0.00025023679741706693,0.07782603889611965,0.9219237243064634],\"y\":[\"n_estimators\",\"max_depth\",\"min_impurity_decrease\"],\"type\":\"bar\"}],                        {\"showlegend\":false,\"title\":{\"text\":\"Hyperparameter Importances\"},\"xaxis\":{\"title\":{\"text\":\"Importance for Objective Value\"}},\"yaxis\":{\"title\":{\"text\":\"Hyperparameter\"}},\"template\":{\"data\":{\"bar\":[{\"error_x\":{\"color\":\"#2a3f5f\"},\"error_y\":{\"color\":\"#2a3f5f\"},\"marker\":{\"line\":{\"color\":\"#E5ECF6\",\"width\":0.5},\"pattern\":{\"fillmode\":\"overlay\",\"size\":10,\"solidity\":0.2}},\"type\":\"bar\"}],\"barpolar\":[{\"marker\":{\"line\":{\"color\":\"#E5ECF6\",\"width\":0.5},\"pattern\":{\"fillmode\":\"overlay\",\"size\":10,\"solidity\":0.2}},\"type\":\"barpolar\"}],\"carpet\":[{\"aaxis\":{\"endlinecolor\":\"#2a3f5f\",\"gridcolor\":\"white\",\"linecolor\":\"white\",\"minorgridcolor\":\"white\",\"startlinecolor\":\"#2a3f5f\"},\"baxis\":{\"endlinecolor\":\"#2a3f5f\",\"gridcolor\":\"white\",\"linecolor\":\"white\",\"minorgridcolor\":\"white\",\"startlinecolor\":\"#2a3f5f\"},\"type\":\"carpet\"}],\"choropleth\":[{\"colorbar\":{\"outlinewidth\":0,\"ticks\":\"\"},\"type\":\"choropleth\"}],\"contour\":[{\"colorbar\":{\"outlinewidth\":0,\"ticks\":\"\"},\"colorscale\":[[0.0,\"#0d0887\"],[0.1111111111111111,\"#46039f\"],[0.2222222222222222,\"#7201a8\"],[0.3333333333333333,\"#9c179e\"],[0.4444444444444444,\"#bd3786\"],[0.5555555555555556,\"#d8576b\"],[0.6666666666666666,\"#ed7953\"],[0.7777777777777778,\"#fb9f3a\"],[0.8888888888888888,\"#fdca26\"],[1.0,\"#f0f921\"]],\"type\":\"contour\"}],\"contourcarpet\":[{\"colorbar\":{\"outlinewidth\":0,\"ticks\":\"\"},\"type\":\"contourcarpet\"}],\"heatmap\":[{\"colorbar\":{\"outlinewidth\":0,\"ticks\":\"\"},\"colorscale\":[[0.0,\"#0d0887\"],[0.1111111111111111,\"#46039f\"],[0.2222222222222222,\"#7201a8\"],[0.3333333333333333,\"#9c179e\"],[0.4444444444444444,\"#bd3786\"],[0.5555555555555556,\"#d8576b\"],[0.6666666666666666,\"#ed7953\"],[0.7777777777777778,\"#fb9f3a\"],[0.8888888888888888,\"#fdca26\"],[1.0,\"#f0f921\"]],\"type\":\"heatmap\"}],\"heatmapgl\":[{\"colorbar\":{\"outlinewidth\":0,\"ticks\":\"\"},\"colorscale\":[[0.0,\"#0d0887\"],[0.1111111111111111,\"#46039f\"],[0.2222222222222222,\"#7201a8\"],[0.3333333333333333,\"#9c179e\"],[0.4444444444444444,\"#bd3786\"],[0.5555555555555556,\"#d8576b\"],[0.6666666666666666,\"#ed7953\"],[0.7777777777777778,\"#fb9f3a\"],[0.8888888888888888,\"#fdca26\"],[1.0,\"#f0f921\"]],\"type\":\"heatmapgl\"}],\"histogram\":[{\"marker\":{\"pattern\":{\"fillmode\":\"overlay\",\"size\":10,\"solidity\":0.2}},\"type\":\"histogram\"}],\"histogram2d\":[{\"colorbar\":{\"outlinewidth\":0,\"ticks\":\"\"},\"colorscale\":[[0.0,\"#0d0887\"],[0.1111111111111111,\"#46039f\"],[0.2222222222222222,\"#7201a8\"],[0.3333333333333333,\"#9c179e\"],[0.4444444444444444,\"#bd3786\"],[0.5555555555555556,\"#d8576b\"],[0.6666666666666666,\"#ed7953\"],[0.7777777777777778,\"#fb9f3a\"],[0.8888888888888888,\"#fdca26\"],[1.0,\"#f0f921\"]],\"type\":\"histogram2d\"}],\"histogram2dcontour\":[{\"colorbar\":{\"outlinewidth\":0,\"ticks\":\"\"},\"colorscale\":[[0.0,\"#0d0887\"],[0.1111111111111111,\"#46039f\"],[0.2222222222222222,\"#7201a8\"],[0.3333333333333333,\"#9c179e\"],[0.4444444444444444,\"#bd3786\"],[0.5555555555555556,\"#d8576b\"],[0.6666666666666666,\"#ed7953\"],[0.7777777777777778,\"#fb9f3a\"],[0.8888888888888888,\"#fdca26\"],[1.0,\"#f0f921\"]],\"type\":\"histogram2dcontour\"}],\"mesh3d\":[{\"colorbar\":{\"outlinewidth\":0,\"ticks\":\"\"},\"type\":\"mesh3d\"}],\"parcoords\":[{\"line\":{\"colorbar\":{\"outlinewidth\":0,\"ticks\":\"\"}},\"type\":\"parcoords\"}],\"pie\":[{\"automargin\":true,\"type\":\"pie\"}],\"scatter\":[{\"marker\":{\"colorbar\":{\"outlinewidth\":0,\"ticks\":\"\"}},\"type\":\"scatter\"}],\"scatter3d\":[{\"line\":{\"colorbar\":{\"outlinewidth\":0,\"ticks\":\"\"}},\"marker\":{\"colorbar\":{\"outlinewidth\":0,\"ticks\":\"\"}},\"type\":\"scatter3d\"}],\"scattercarpet\":[{\"marker\":{\"colorbar\":{\"outlinewidth\":0,\"ticks\":\"\"}},\"type\":\"scattercarpet\"}],\"scattergeo\":[{\"marker\":{\"colorbar\":{\"outlinewidth\":0,\"ticks\":\"\"}},\"type\":\"scattergeo\"}],\"scattergl\":[{\"marker\":{\"colorbar\":{\"outlinewidth\":0,\"ticks\":\"\"}},\"type\":\"scattergl\"}],\"scattermapbox\":[{\"marker\":{\"colorbar\":{\"outlinewidth\":0,\"ticks\":\"\"}},\"type\":\"scattermapbox\"}],\"scatterpolar\":[{\"marker\":{\"colorbar\":{\"outlinewidth\":0,\"ticks\":\"\"}},\"type\":\"scatterpolar\"}],\"scatterpolargl\":[{\"marker\":{\"colorbar\":{\"outlinewidth\":0,\"ticks\":\"\"}},\"type\":\"scatterpolargl\"}],\"scatterternary\":[{\"marker\":{\"colorbar\":{\"outlinewidth\":0,\"ticks\":\"\"}},\"type\":\"scatterternary\"}],\"surface\":[{\"colorbar\":{\"outlinewidth\":0,\"ticks\":\"\"},\"colorscale\":[[0.0,\"#0d0887\"],[0.1111111111111111,\"#46039f\"],[0.2222222222222222,\"#7201a8\"],[0.3333333333333333,\"#9c179e\"],[0.4444444444444444,\"#bd3786\"],[0.5555555555555556,\"#d8576b\"],[0.6666666666666666,\"#ed7953\"],[0.7777777777777778,\"#fb9f3a\"],[0.8888888888888888,\"#fdca26\"],[1.0,\"#f0f921\"]],\"type\":\"surface\"}],\"table\":[{\"cells\":{\"fill\":{\"color\":\"#EBF0F8\"},\"line\":{\"color\":\"white\"}},\"header\":{\"fill\":{\"color\":\"#C8D4E3\"},\"line\":{\"color\":\"white\"}},\"type\":\"table\"}]},\"layout\":{\"annotationdefaults\":{\"arrowcolor\":\"#2a3f5f\",\"arrowhead\":0,\"arrowwidth\":1},\"autotypenumbers\":\"strict\",\"coloraxis\":{\"colorbar\":{\"outlinewidth\":0,\"ticks\":\"\"}},\"colorscale\":{\"diverging\":[[0,\"#8e0152\"],[0.1,\"#c51b7d\"],[0.2,\"#de77ae\"],[0.3,\"#f1b6da\"],[0.4,\"#fde0ef\"],[0.5,\"#f7f7f7\"],[0.6,\"#e6f5d0\"],[0.7,\"#b8e186\"],[0.8,\"#7fbc41\"],[0.9,\"#4d9221\"],[1,\"#276419\"]],\"sequential\":[[0.0,\"#0d0887\"],[0.1111111111111111,\"#46039f\"],[0.2222222222222222,\"#7201a8\"],[0.3333333333333333,\"#9c179e\"],[0.4444444444444444,\"#bd3786\"],[0.5555555555555556,\"#d8576b\"],[0.6666666666666666,\"#ed7953\"],[0.7777777777777778,\"#fb9f3a\"],[0.8888888888888888,\"#fdca26\"],[1.0,\"#f0f921\"]],\"sequentialminus\":[[0.0,\"#0d0887\"],[0.1111111111111111,\"#46039f\"],[0.2222222222222222,\"#7201a8\"],[0.3333333333333333,\"#9c179e\"],[0.4444444444444444,\"#bd3786\"],[0.5555555555555556,\"#d8576b\"],[0.6666666666666666,\"#ed7953\"],[0.7777777777777778,\"#fb9f3a\"],[0.8888888888888888,\"#fdca26\"],[1.0,\"#f0f921\"]]},\"colorway\":[\"#636efa\",\"#EF553B\",\"#00cc96\",\"#ab63fa\",\"#FFA15A\",\"#19d3f3\",\"#FF6692\",\"#B6E880\",\"#FF97FF\",\"#FECB52\"],\"font\":{\"color\":\"#2a3f5f\"},\"geo\":{\"bgcolor\":\"white\",\"lakecolor\":\"white\",\"landcolor\":\"#E5ECF6\",\"showlakes\":true,\"showland\":true,\"subunitcolor\":\"white\"},\"hoverlabel\":{\"align\":\"left\"},\"hovermode\":\"closest\",\"mapbox\":{\"style\":\"light\"},\"paper_bgcolor\":\"white\",\"plot_bgcolor\":\"#E5ECF6\",\"polar\":{\"angularaxis\":{\"gridcolor\":\"white\",\"linecolor\":\"white\",\"ticks\":\"\"},\"bgcolor\":\"#E5ECF6\",\"radialaxis\":{\"gridcolor\":\"white\",\"linecolor\":\"white\",\"ticks\":\"\"}},\"scene\":{\"xaxis\":{\"backgroundcolor\":\"#E5ECF6\",\"gridcolor\":\"white\",\"gridwidth\":2,\"linecolor\":\"white\",\"showbackground\":true,\"ticks\":\"\",\"zerolinecolor\":\"white\"},\"yaxis\":{\"backgroundcolor\":\"#E5ECF6\",\"gridcolor\":\"white\",\"gridwidth\":2,\"linecolor\":\"white\",\"showbackground\":true,\"ticks\":\"\",\"zerolinecolor\":\"white\"},\"zaxis\":{\"backgroundcolor\":\"#E5ECF6\",\"gridcolor\":\"white\",\"gridwidth\":2,\"linecolor\":\"white\",\"showbackground\":true,\"ticks\":\"\",\"zerolinecolor\":\"white\"}},\"shapedefaults\":{\"line\":{\"color\":\"#2a3f5f\"}},\"ternary\":{\"aaxis\":{\"gridcolor\":\"white\",\"linecolor\":\"white\",\"ticks\":\"\"},\"baxis\":{\"gridcolor\":\"white\",\"linecolor\":\"white\",\"ticks\":\"\"},\"bgcolor\":\"#E5ECF6\",\"caxis\":{\"gridcolor\":\"white\",\"linecolor\":\"white\",\"ticks\":\"\"}},\"title\":{\"x\":0.05},\"xaxis\":{\"automargin\":true,\"gridcolor\":\"white\",\"linecolor\":\"white\",\"ticks\":\"\",\"title\":{\"standoff\":15},\"zerolinecolor\":\"white\",\"zerolinewidth\":2},\"yaxis\":{\"automargin\":true,\"gridcolor\":\"white\",\"linecolor\":\"white\",\"ticks\":\"\",\"title\":{\"standoff\":15},\"zerolinecolor\":\"white\",\"zerolinewidth\":2}}}},                        {\"responsive\": true}                    ).then(function(){\n                            \nvar gd = document.getElementById('d365933a-e02f-491f-aec4-9e0b76aa9bdc');\nvar x = new MutationObserver(function (mutations, observer) {{\n        var display = window.getComputedStyle(gd).display;\n        if (!display || display === 'none') {{\n            console.log([gd, 'removed!']);\n            Plotly.purge(gd);\n            observer.disconnect();\n        }}\n}});\n\n// Listen for the removal of the full notebook cells\nvar notebookContainer = gd.closest('#notebook-container');\nif (notebookContainer) {{\n    x.observe(notebookContainer, {childList: true});\n}}\n\n// Listen for the clearing of the current output cell\nvar outputEl = gd.closest('.output');\nif (outputEl) {{\n    x.observe(outputEl, {childList: true});\n}}\n\n                        })                };                });            </script>        </div>"
     },
     "metadata": {},
     "output_type": "display_data"
    }
   ],
   "source": [
    "def objective_2(trial):\n",
    "    min_impurity_decrease = trial.suggest_float(\"min_impurity_decrease\", 0.0, 0.0005)\n",
    "    n_estimators = trial.suggest_int(\"n_estimators\", 10, 150)\n",
    "    max_depth = trial.suggest_int(\"max_depth\", 10, 150)\n",
    "    trial_model = RandomForestClassifier(n_estimators=n_estimators, max_depth=max_depth, min_impurity_decrease=min_impurity_decrease)\n",
    "    trial_model = trial_model.fit(train_x, train_y)\n",
    "    trial_pred_y = trial_model.predict(test_x)\n",
    "    trial_test_metric = f1_score(test_y, trial_pred_y)\n",
    "    return trial_test_metric\n",
    "\n",
    "\n",
    "study = optuna.create_study(direction='maximize')\n",
    "study.optimize(objective_2, n_trials=25)\n",
    "print(study.best_value, study.best_params)\n",
    "\n",
    "fig = optuna.visualization.plot_param_importances(study)\n",
    "fig.show()"
   ],
   "metadata": {
    "collapsed": false,
    "pycharm": {
     "name": "#%%\n"
    }
   }
  },
  {
   "cell_type": "markdown",
   "metadata": {
    "datalore": {
     "hide_input_from_viewers": false,
     "hide_output_from_viewers": false,
     "type": "MD"
    },
    "pycharm": {
     "name": "#%% md\n"
    }
   },
   "source": [
    "## Train"
   ]
  },
  {
   "cell_type": "code",
   "execution_count": 44,
   "metadata": {
    "datalore": {
     "hide_input_from_viewers": false,
     "hide_output_from_viewers": false,
     "type": "CODE"
    },
    "pycharm": {
     "name": "#%%\n"
    }
   },
   "outputs": [
    {
     "name": "stdout",
     "output_type": "stream",
     "text": [
      "train_metric 0.9868718877320055\n",
      "test_metric 0.37412199630314236\n"
     ]
    }
   ],
   "source": [
    "# decision_tree = RandomForestClassifier(criterion=study.best_params[\"criterion\"], min_impurity_decrease=study.best_params[\"min_impurity_decrease\"],\n",
    "#                                        min_samples_split=study.best_params[\"min_samples_split\"])\n",
    "# {'criterion': 'entropy', 'max_depth': 59, 'n_estimators': 47}  20\n",
    "# {'criterion': 'entropy', 'max_depth': 90, 'n_estimators': 117}  19/20\n",
    "model = RandomForestClassifier(n_jobs=-1, criterion=\"entropy\", n_estimators=100, max_depth=100, )\n",
    "\n",
    "model = model.fit(train_x, train_y)\n",
    "\n",
    "pred_y = model.predict(train_x)\n",
    "train_metric = f1_score(train_y, pred_y)\n",
    "print(\"train_metric\", train_metric)\n",
    "\n",
    "pred_y = model.predict(test_x)\n",
    "test_metric = f1_score(test_y, pred_y)\n",
    "print(\"test_metric\", test_metric)"
   ]
  },
  {
   "cell_type": "markdown",
   "metadata": {
    "datalore": {
     "hide_input_from_viewers": false,
     "hide_output_from_viewers": false,
     "type": "MD"
    },
    "pycharm": {
     "name": "#%% md\n"
    }
   },
   "source": [
    "## Making submission"
   ]
  },
  {
   "cell_type": "code",
   "execution_count": 45,
   "outputs": [
    {
     "data": {
      "text/plain": "                    DISC_ID  ADMITTED_EXAM_1  ADMITTED_EXAM_2  \\\n0        552619236026332123        78.000000        83.000000   \n1       5702509582319458883        78.000000        83.000000   \n2       7735626259430674628        78.000000        83.000000   \n3       8955667882044263414        78.000000        83.000000   \n4       9075687484357010791        78.000000        83.000000   \n...                     ...              ...              ...   \n30908   9075687484357010791        80.381229        82.389157   \n30909  11240958499619480192        80.381229        82.389157   \n30910  11511957009955804990        80.381229        82.389157   \n30911  11807846188624377660        80.381229        82.389157   \n30912  16952231586163840107        80.381229        82.389157   \n\n       ADMITTED_EXAM_3  9028324525774925341  7835846297793492094  \\\n0            87.000000                  0.0                  0.0   \n1            87.000000                  0.0                  0.0   \n2            87.000000                  0.0                  0.0   \n3            87.000000                  0.0                  0.0   \n4            87.000000                  0.0                  0.0   \n...                ...                  ...                  ...   \n30908        86.808098                  0.0                  4.0   \n30909        86.808098                  0.0                  4.0   \n30910        86.808098                  0.0                  4.0   \n30911        86.808098                  0.0                  4.0   \n30912        86.808098                  0.0                  4.0   \n\n       14433121874407032269  1601392918367593206  9848012366215097300  \\\n0                       0.0                  0.0                  0.0   \n1                       0.0                  0.0                  0.0   \n2                       0.0                  0.0                  0.0   \n3                       0.0                  0.0                  0.0   \n4                       0.0                  0.0                  0.0   \n...                     ...                  ...                  ...   \n30908                   0.0                  4.0                  4.0   \n30909                   0.0                  4.0                  4.0   \n30910                   0.0                  4.0                  4.0   \n30911                   0.0                  4.0                  4.0   \n30912                   0.0                  4.0                  4.0   \n\n       8955667882044263414  ...  TYPE_NAME_Дифференцированный зачет  \\\n0                      0.0  ...                                   0   \n1                      0.0  ...                                   0   \n2                      0.0  ...                                   0   \n3                      0.0  ...                                   0   \n4                      0.0  ...                                   0   \n...                    ...  ...                                 ...   \n30908                  0.0  ...                                   0   \n30909                  0.0  ...                                   0   \n30910                  0.0  ...                                   0   \n30911                  0.0  ...                                   0   \n30912                  0.0  ...                                   0   \n\n       TYPE_NAME_Зачет  TYPE_NAME_Курсовой проект  TYPE_NAME_Экзамен  \\\n0                    0                          0                  1   \n1                    0                          0                  1   \n2                    0                          0                  1   \n3                    0                          0                  1   \n4                    0                          0                  1   \n...                ...                        ...                ...   \n30908                0                          0                  1   \n30909                0                          0                  1   \n30910                0                          0                  1   \n30911                0                          0                  1   \n30912                0                          0                  1   \n\n       ADMITTED_SUBJECT_PRIZE_LEVEL_0.0  ADMITTED_SUBJECT_PRIZE_LEVEL_1.0  \\\n0                                     0                                 0   \n1                                     0                                 0   \n2                                     0                                 0   \n3                                     0                                 0   \n4                                     0                                 0   \n...                                 ...                               ...   \n30908                                 0                                 0   \n30909                                 0                                 0   \n30910                                 0                                 0   \n30911                                 0                                 0   \n30912                                 0                                 0   \n\n       ADMITTED_SUBJECT_PRIZE_LEVEL_2.0  ADMITTED_SUBJECT_PRIZE_LEVEL_3.0  \\\n0                                     0                                 0   \n1                                     0                                 0   \n2                                     0                                 0   \n3                                     0                                 0   \n4                                     0                                 0   \n...                                 ...                               ...   \n30908                                 1                                 0   \n30909                                 1                                 0   \n30910                                 1                                 0   \n30911                                 1                                 0   \n30912                                 1                                 0   \n\n       ADMITTED_SUBJECT_PRIZE_LEVEL_4.0  ADMITTED_SUBJECT_PRIZE_LEVEL_ЕГЭ  \n0                                     0                                 1  \n1                                     0                                 1  \n2                                     0                                 1  \n3                                     0                                 1  \n4                                     0                                 1  \n...                                 ...                               ...  \n30908                                 0                                 0  \n30909                                 0                                 0  \n30910                                 0                                 0  \n30911                                 0                                 0  \n30912                                 0                                 0  \n\n[30913 rows x 282 columns]",
      "text/html": "<div>\n<style scoped>\n    .dataframe tbody tr th:only-of-type {\n        vertical-align: middle;\n    }\n\n    .dataframe tbody tr th {\n        vertical-align: top;\n    }\n\n    .dataframe thead th {\n        text-align: right;\n    }\n</style>\n<table border=\"1\" class=\"dataframe\">\n  <thead>\n    <tr style=\"text-align: right;\">\n      <th></th>\n      <th>DISC_ID</th>\n      <th>ADMITTED_EXAM_1</th>\n      <th>ADMITTED_EXAM_2</th>\n      <th>ADMITTED_EXAM_3</th>\n      <th>9028324525774925341</th>\n      <th>7835846297793492094</th>\n      <th>14433121874407032269</th>\n      <th>1601392918367593206</th>\n      <th>9848012366215097300</th>\n      <th>8955667882044263414</th>\n      <th>...</th>\n      <th>TYPE_NAME_Дифференцированный зачет</th>\n      <th>TYPE_NAME_Зачет</th>\n      <th>TYPE_NAME_Курсовой проект</th>\n      <th>TYPE_NAME_Экзамен</th>\n      <th>ADMITTED_SUBJECT_PRIZE_LEVEL_0.0</th>\n      <th>ADMITTED_SUBJECT_PRIZE_LEVEL_1.0</th>\n      <th>ADMITTED_SUBJECT_PRIZE_LEVEL_2.0</th>\n      <th>ADMITTED_SUBJECT_PRIZE_LEVEL_3.0</th>\n      <th>ADMITTED_SUBJECT_PRIZE_LEVEL_4.0</th>\n      <th>ADMITTED_SUBJECT_PRIZE_LEVEL_ЕГЭ</th>\n    </tr>\n  </thead>\n  <tbody>\n    <tr>\n      <th>0</th>\n      <td>552619236026332123</td>\n      <td>78.000000</td>\n      <td>83.000000</td>\n      <td>87.000000</td>\n      <td>0.0</td>\n      <td>0.0</td>\n      <td>0.0</td>\n      <td>0.0</td>\n      <td>0.0</td>\n      <td>0.0</td>\n      <td>...</td>\n      <td>0</td>\n      <td>0</td>\n      <td>0</td>\n      <td>1</td>\n      <td>0</td>\n      <td>0</td>\n      <td>0</td>\n      <td>0</td>\n      <td>0</td>\n      <td>1</td>\n    </tr>\n    <tr>\n      <th>1</th>\n      <td>5702509582319458883</td>\n      <td>78.000000</td>\n      <td>83.000000</td>\n      <td>87.000000</td>\n      <td>0.0</td>\n      <td>0.0</td>\n      <td>0.0</td>\n      <td>0.0</td>\n      <td>0.0</td>\n      <td>0.0</td>\n      <td>...</td>\n      <td>0</td>\n      <td>0</td>\n      <td>0</td>\n      <td>1</td>\n      <td>0</td>\n      <td>0</td>\n      <td>0</td>\n      <td>0</td>\n      <td>0</td>\n      <td>1</td>\n    </tr>\n    <tr>\n      <th>2</th>\n      <td>7735626259430674628</td>\n      <td>78.000000</td>\n      <td>83.000000</td>\n      <td>87.000000</td>\n      <td>0.0</td>\n      <td>0.0</td>\n      <td>0.0</td>\n      <td>0.0</td>\n      <td>0.0</td>\n      <td>0.0</td>\n      <td>...</td>\n      <td>0</td>\n      <td>0</td>\n      <td>0</td>\n      <td>1</td>\n      <td>0</td>\n      <td>0</td>\n      <td>0</td>\n      <td>0</td>\n      <td>0</td>\n      <td>1</td>\n    </tr>\n    <tr>\n      <th>3</th>\n      <td>8955667882044263414</td>\n      <td>78.000000</td>\n      <td>83.000000</td>\n      <td>87.000000</td>\n      <td>0.0</td>\n      <td>0.0</td>\n      <td>0.0</td>\n      <td>0.0</td>\n      <td>0.0</td>\n      <td>0.0</td>\n      <td>...</td>\n      <td>0</td>\n      <td>0</td>\n      <td>0</td>\n      <td>1</td>\n      <td>0</td>\n      <td>0</td>\n      <td>0</td>\n      <td>0</td>\n      <td>0</td>\n      <td>1</td>\n    </tr>\n    <tr>\n      <th>4</th>\n      <td>9075687484357010791</td>\n      <td>78.000000</td>\n      <td>83.000000</td>\n      <td>87.000000</td>\n      <td>0.0</td>\n      <td>0.0</td>\n      <td>0.0</td>\n      <td>0.0</td>\n      <td>0.0</td>\n      <td>0.0</td>\n      <td>...</td>\n      <td>0</td>\n      <td>0</td>\n      <td>0</td>\n      <td>1</td>\n      <td>0</td>\n      <td>0</td>\n      <td>0</td>\n      <td>0</td>\n      <td>0</td>\n      <td>1</td>\n    </tr>\n    <tr>\n      <th>...</th>\n      <td>...</td>\n      <td>...</td>\n      <td>...</td>\n      <td>...</td>\n      <td>...</td>\n      <td>...</td>\n      <td>...</td>\n      <td>...</td>\n      <td>...</td>\n      <td>...</td>\n      <td>...</td>\n      <td>...</td>\n      <td>...</td>\n      <td>...</td>\n      <td>...</td>\n      <td>...</td>\n      <td>...</td>\n      <td>...</td>\n      <td>...</td>\n      <td>...</td>\n      <td>...</td>\n    </tr>\n    <tr>\n      <th>30908</th>\n      <td>9075687484357010791</td>\n      <td>80.381229</td>\n      <td>82.389157</td>\n      <td>86.808098</td>\n      <td>0.0</td>\n      <td>4.0</td>\n      <td>0.0</td>\n      <td>4.0</td>\n      <td>4.0</td>\n      <td>0.0</td>\n      <td>...</td>\n      <td>0</td>\n      <td>0</td>\n      <td>0</td>\n      <td>1</td>\n      <td>0</td>\n      <td>0</td>\n      <td>1</td>\n      <td>0</td>\n      <td>0</td>\n      <td>0</td>\n    </tr>\n    <tr>\n      <th>30909</th>\n      <td>11240958499619480192</td>\n      <td>80.381229</td>\n      <td>82.389157</td>\n      <td>86.808098</td>\n      <td>0.0</td>\n      <td>4.0</td>\n      <td>0.0</td>\n      <td>4.0</td>\n      <td>4.0</td>\n      <td>0.0</td>\n      <td>...</td>\n      <td>0</td>\n      <td>0</td>\n      <td>0</td>\n      <td>1</td>\n      <td>0</td>\n      <td>0</td>\n      <td>1</td>\n      <td>0</td>\n      <td>0</td>\n      <td>0</td>\n    </tr>\n    <tr>\n      <th>30910</th>\n      <td>11511957009955804990</td>\n      <td>80.381229</td>\n      <td>82.389157</td>\n      <td>86.808098</td>\n      <td>0.0</td>\n      <td>4.0</td>\n      <td>0.0</td>\n      <td>4.0</td>\n      <td>4.0</td>\n      <td>0.0</td>\n      <td>...</td>\n      <td>0</td>\n      <td>0</td>\n      <td>0</td>\n      <td>1</td>\n      <td>0</td>\n      <td>0</td>\n      <td>1</td>\n      <td>0</td>\n      <td>0</td>\n      <td>0</td>\n    </tr>\n    <tr>\n      <th>30911</th>\n      <td>11807846188624377660</td>\n      <td>80.381229</td>\n      <td>82.389157</td>\n      <td>86.808098</td>\n      <td>0.0</td>\n      <td>4.0</td>\n      <td>0.0</td>\n      <td>4.0</td>\n      <td>4.0</td>\n      <td>0.0</td>\n      <td>...</td>\n      <td>0</td>\n      <td>0</td>\n      <td>0</td>\n      <td>1</td>\n      <td>0</td>\n      <td>0</td>\n      <td>1</td>\n      <td>0</td>\n      <td>0</td>\n      <td>0</td>\n    </tr>\n    <tr>\n      <th>30912</th>\n      <td>16952231586163840107</td>\n      <td>80.381229</td>\n      <td>82.389157</td>\n      <td>86.808098</td>\n      <td>0.0</td>\n      <td>4.0</td>\n      <td>0.0</td>\n      <td>4.0</td>\n      <td>4.0</td>\n      <td>0.0</td>\n      <td>...</td>\n      <td>0</td>\n      <td>0</td>\n      <td>0</td>\n      <td>1</td>\n      <td>0</td>\n      <td>0</td>\n      <td>1</td>\n      <td>0</td>\n      <td>0</td>\n      <td>0</td>\n    </tr>\n  </tbody>\n</table>\n<p>30913 rows × 282 columns</p>\n</div>"
     },
     "execution_count": 45,
     "metadata": {},
     "output_type": "execute_result"
    }
   ],
   "source": [
    "test_table = test.drop(columns=[\"ST_YEAR\", \"SEMESTER\", \"TYPE_NAME\"])\n",
    "test_table = test_table.set_index(\"ISU\")\n",
    "t = students_table[students_table[\"ISU\"].isin(test_table.index)]\n",
    "t = t.drop(columns=[\"DISC_ID\", \"DEBT\", \"MARK\", \"MAIN_PLAN\", \"PRED_ID\"])\n",
    "t = t.drop_duplicates(subset=\"ISU\")\n",
    "t = t.set_index(\"ISU\")\n",
    "t = t.loc[test_table.index]\n",
    "t = pd.concat([t, test_table], axis=1)\n",
    "t = t.reset_index().drop(columns=\"ISU\")\n",
    "t = t.loc[:, train_x.columns]\n",
    "t"
   ],
   "metadata": {
    "collapsed": false,
    "pycharm": {
     "name": "#%%\n"
    }
   }
  },
  {
   "cell_type": "code",
   "execution_count": 55,
   "outputs": [
    {
     "data": {
      "text/plain": "3350"
     },
     "execution_count": 55,
     "metadata": {},
     "output_type": "execute_result"
    }
   ],
   "source": [],
   "metadata": {
    "collapsed": false,
    "pycharm": {
     "name": "#%%\n"
    }
   }
  },
  {
   "cell_type": "code",
   "execution_count": 49,
   "outputs": [],
   "source": [
    "# pred_test = baseline_decision_tree.predict(t)\n",
    "pred_test = model.predict(t)\n",
    "sample_submission[\"DEBT\"] = pred_test\n",
    "sample_submission.to_csv(\"./my_submission.csv\", index=False)"
   ],
   "metadata": {
    "collapsed": false,
    "pycharm": {
     "name": "#%%\n"
    }
   }
  },
  {
   "cell_type": "code",
   "execution_count": 50,
   "outputs": [
    {
     "data": {
      "text/plain": "                                                      ID  DEBT\n0      ISU:22160896830459167 | ST_YEAR:2021 | DISC_ID...     0\n1      ISU:22160896830459167 | ST_YEAR:2021 | DISC_ID...     0\n2      ISU:22160896830459167 | ST_YEAR:2021 | DISC_ID...     0\n3      ISU:22160896830459167 | ST_YEAR:2021 | DISC_ID...     0\n4      ISU:22160896830459167 | ST_YEAR:2021 | DISC_ID...     0\n...                                                  ...   ...\n30908  ISU:18441846113897984349 | ST_YEAR:2021 | DISC...     0\n30909  ISU:18441846113897984349 | ST_YEAR:2021 | DISC...     0\n30910  ISU:18441846113897984349 | ST_YEAR:2021 | DISC...     0\n30911  ISU:18441846113897984349 | ST_YEAR:2021 | DISC...     0\n30912  ISU:18441846113897984349 | ST_YEAR:2021 | DISC...     0\n\n[30913 rows x 2 columns]",
      "text/html": "<div>\n<style scoped>\n    .dataframe tbody tr th:only-of-type {\n        vertical-align: middle;\n    }\n\n    .dataframe tbody tr th {\n        vertical-align: top;\n    }\n\n    .dataframe thead th {\n        text-align: right;\n    }\n</style>\n<table border=\"1\" class=\"dataframe\">\n  <thead>\n    <tr style=\"text-align: right;\">\n      <th></th>\n      <th>ID</th>\n      <th>DEBT</th>\n    </tr>\n  </thead>\n  <tbody>\n    <tr>\n      <th>0</th>\n      <td>ISU:22160896830459167 | ST_YEAR:2021 | DISC_ID...</td>\n      <td>0</td>\n    </tr>\n    <tr>\n      <th>1</th>\n      <td>ISU:22160896830459167 | ST_YEAR:2021 | DISC_ID...</td>\n      <td>0</td>\n    </tr>\n    <tr>\n      <th>2</th>\n      <td>ISU:22160896830459167 | ST_YEAR:2021 | DISC_ID...</td>\n      <td>0</td>\n    </tr>\n    <tr>\n      <th>3</th>\n      <td>ISU:22160896830459167 | ST_YEAR:2021 | DISC_ID...</td>\n      <td>0</td>\n    </tr>\n    <tr>\n      <th>4</th>\n      <td>ISU:22160896830459167 | ST_YEAR:2021 | DISC_ID...</td>\n      <td>0</td>\n    </tr>\n    <tr>\n      <th>...</th>\n      <td>...</td>\n      <td>...</td>\n    </tr>\n    <tr>\n      <th>30908</th>\n      <td>ISU:18441846113897984349 | ST_YEAR:2021 | DISC...</td>\n      <td>0</td>\n    </tr>\n    <tr>\n      <th>30909</th>\n      <td>ISU:18441846113897984349 | ST_YEAR:2021 | DISC...</td>\n      <td>0</td>\n    </tr>\n    <tr>\n      <th>30910</th>\n      <td>ISU:18441846113897984349 | ST_YEAR:2021 | DISC...</td>\n      <td>0</td>\n    </tr>\n    <tr>\n      <th>30911</th>\n      <td>ISU:18441846113897984349 | ST_YEAR:2021 | DISC...</td>\n      <td>0</td>\n    </tr>\n    <tr>\n      <th>30912</th>\n      <td>ISU:18441846113897984349 | ST_YEAR:2021 | DISC...</td>\n      <td>0</td>\n    </tr>\n  </tbody>\n</table>\n<p>30913 rows × 2 columns</p>\n</div>"
     },
     "execution_count": 50,
     "metadata": {},
     "output_type": "execute_result"
    }
   ],
   "source": [
    "sample_submission\n"
   ],
   "metadata": {
    "collapsed": false,
    "pycharm": {
     "name": "#%%\n"
    }
   }
  },
  {
   "cell_type": "code",
   "execution_count": 51,
   "outputs": [
    {
     "data": {
      "text/plain": "507"
     },
     "execution_count": 51,
     "metadata": {},
     "output_type": "execute_result"
    }
   ],
   "source": [
    "pred_test.sum()"
   ],
   "metadata": {
    "collapsed": false,
    "pycharm": {
     "name": "#%%\n"
    }
   }
  }
 ],
 "metadata": {
  "datalore": {
   "base_environment": "default",
   "computation_mode": "JUPYTER",
   "package_manager": "pip",
   "packages": [],
   "version": 1
  },
  "kernelspec": {
   "display_name": "Python 3 (ipykernel)",
   "language": "python",
   "name": "python3"
  },
  "language_info": {
   "codemirror_mode": {
    "name": "ipython",
    "version": 3
   },
   "file_extension": ".py",
   "mimetype": "text/x-python",
   "name": "python",
   "nbconvert_exporter": "python",
   "pygments_lexer": "ipython3",
   "version": "3.8.0"
  }
 },
 "nbformat": 4,
 "nbformat_minor": 4
}